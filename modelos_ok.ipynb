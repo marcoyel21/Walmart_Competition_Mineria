{
 "cells": [
  {
   "cell_type": "code",
   "execution_count": 1,
   "metadata": {},
   "outputs": [],
   "source": [
    "import feather\n",
    "import numpy as np \n",
    "import pandas as pd\n",
    "from sklearn.preprocessing import (OneHotEncoder,StandardScaler)\n",
    "from sklearn.pipeline import Pipeline\n",
    "\n",
    "from sklearn.model_selection import (\n",
    "    GridSearchCV)"
   ]
  },
  {
   "cell_type": "code",
   "execution_count": 2,
   "metadata": {},
   "outputs": [],
   "source": [
    "from sklearn.compose import ColumnTransformer"
   ]
  },
  {
   "cell_type": "code",
   "execution_count": 3,
   "metadata": {},
   "outputs": [],
   "source": [
    "#Modelos a utilizar:\n",
    "from sklearn.ensemble import RandomForestClassifier\n",
    "from sklearn.tree import DecisionTreeClassifier"
   ]
  },
  {
   "cell_type": "code",
   "execution_count": 4,
   "metadata": {},
   "outputs": [],
   "source": [
    "walmart= feather.read_dataframe('feathers/walmart_wide_train.feather')"
   ]
  },
  {
   "cell_type": "code",
   "execution_count": 5,
   "metadata": {},
   "outputs": [
    {
     "data": {
      "text/html": [
       "<div>\n",
       "<style scoped>\n",
       "    .dataframe tbody tr th:only-of-type {\n",
       "        vertical-align: middle;\n",
       "    }\n",
       "\n",
       "    .dataframe tbody tr th {\n",
       "        vertical-align: top;\n",
       "    }\n",
       "\n",
       "    .dataframe thead th {\n",
       "        text-align: right;\n",
       "    }\n",
       "</style>\n",
       "<table border=\"1\" class=\"dataframe\">\n",
       "  <thead>\n",
       "    <tr style=\"text-align: right;\">\n",
       "      <th></th>\n",
       "      <th>VisitNumber</th>\n",
       "      <th>TripType</th>\n",
       "      <th>DepartmentDescription_1-HR PHOTO</th>\n",
       "      <th>DepartmentDescription_ACCESSORIES</th>\n",
       "      <th>DepartmentDescription_AUTOMOTIVE</th>\n",
       "      <th>DepartmentDescription_BAKERY</th>\n",
       "      <th>DepartmentDescription_BATH AND SHOWER</th>\n",
       "      <th>DepartmentDescription_BEAUTY</th>\n",
       "      <th>DepartmentDescription_BEDDING</th>\n",
       "      <th>DepartmentDescription_BOOKS AND MAGAZINES</th>\n",
       "      <th>...</th>\n",
       "      <th>DepartmentDescription_WIRELESS</th>\n",
       "      <th>regreso</th>\n",
       "      <th>variedad</th>\n",
       "      <th>Weekday_Friday</th>\n",
       "      <th>Weekday_Monday</th>\n",
       "      <th>Weekday_Saturday</th>\n",
       "      <th>Weekday_Sunday</th>\n",
       "      <th>Weekday_Thursday</th>\n",
       "      <th>Weekday_Tuesday</th>\n",
       "      <th>Weekday_Wednesday</th>\n",
       "    </tr>\n",
       "  </thead>\n",
       "  <tbody>\n",
       "    <tr>\n",
       "      <th>0</th>\n",
       "      <td>5.0</td>\n",
       "      <td>999.0</td>\n",
       "      <td>0.0</td>\n",
       "      <td>0.0</td>\n",
       "      <td>0.0</td>\n",
       "      <td>0.0</td>\n",
       "      <td>0.0</td>\n",
       "      <td>0.0</td>\n",
       "      <td>0.0</td>\n",
       "      <td>0.0</td>\n",
       "      <td>...</td>\n",
       "      <td>0.0</td>\n",
       "      <td>1.0</td>\n",
       "      <td>1</td>\n",
       "      <td>1</td>\n",
       "      <td>0</td>\n",
       "      <td>0</td>\n",
       "      <td>0</td>\n",
       "      <td>0</td>\n",
       "      <td>0</td>\n",
       "      <td>0</td>\n",
       "    </tr>\n",
       "    <tr>\n",
       "      <th>1</th>\n",
       "      <td>7.0</td>\n",
       "      <td>30.0</td>\n",
       "      <td>0.0</td>\n",
       "      <td>0.0</td>\n",
       "      <td>0.0</td>\n",
       "      <td>0.0</td>\n",
       "      <td>0.0</td>\n",
       "      <td>0.0</td>\n",
       "      <td>0.0</td>\n",
       "      <td>0.0</td>\n",
       "      <td>...</td>\n",
       "      <td>0.0</td>\n",
       "      <td>0.0</td>\n",
       "      <td>2</td>\n",
       "      <td>1</td>\n",
       "      <td>0</td>\n",
       "      <td>0</td>\n",
       "      <td>0</td>\n",
       "      <td>0</td>\n",
       "      <td>0</td>\n",
       "      <td>0</td>\n",
       "    </tr>\n",
       "    <tr>\n",
       "      <th>2</th>\n",
       "      <td>8.0</td>\n",
       "      <td>26.0</td>\n",
       "      <td>0.0</td>\n",
       "      <td>0.0</td>\n",
       "      <td>0.0</td>\n",
       "      <td>0.0</td>\n",
       "      <td>0.0</td>\n",
       "      <td>0.0</td>\n",
       "      <td>0.0</td>\n",
       "      <td>0.0</td>\n",
       "      <td>...</td>\n",
       "      <td>0.0</td>\n",
       "      <td>1.0</td>\n",
       "      <td>23</td>\n",
       "      <td>1</td>\n",
       "      <td>0</td>\n",
       "      <td>0</td>\n",
       "      <td>0</td>\n",
       "      <td>0</td>\n",
       "      <td>0</td>\n",
       "      <td>0</td>\n",
       "    </tr>\n",
       "    <tr>\n",
       "      <th>3</th>\n",
       "      <td>9.0</td>\n",
       "      <td>8.0</td>\n",
       "      <td>0.0</td>\n",
       "      <td>0.0</td>\n",
       "      <td>0.0</td>\n",
       "      <td>0.0</td>\n",
       "      <td>0.0</td>\n",
       "      <td>0.0</td>\n",
       "      <td>0.0</td>\n",
       "      <td>0.0</td>\n",
       "      <td>...</td>\n",
       "      <td>0.0</td>\n",
       "      <td>0.0</td>\n",
       "      <td>3</td>\n",
       "      <td>1</td>\n",
       "      <td>0</td>\n",
       "      <td>0</td>\n",
       "      <td>0</td>\n",
       "      <td>0</td>\n",
       "      <td>0</td>\n",
       "      <td>0</td>\n",
       "    </tr>\n",
       "    <tr>\n",
       "      <th>4</th>\n",
       "      <td>10.0</td>\n",
       "      <td>8.0</td>\n",
       "      <td>0.0</td>\n",
       "      <td>0.0</td>\n",
       "      <td>0.0</td>\n",
       "      <td>0.0</td>\n",
       "      <td>0.0</td>\n",
       "      <td>0.0</td>\n",
       "      <td>0.0</td>\n",
       "      <td>0.0</td>\n",
       "      <td>...</td>\n",
       "      <td>0.0</td>\n",
       "      <td>0.0</td>\n",
       "      <td>3</td>\n",
       "      <td>1</td>\n",
       "      <td>0</td>\n",
       "      <td>0</td>\n",
       "      <td>0</td>\n",
       "      <td>0</td>\n",
       "      <td>0</td>\n",
       "      <td>0</td>\n",
       "    </tr>\n",
       "    <tr>\n",
       "      <th>...</th>\n",
       "      <td>...</td>\n",
       "      <td>...</td>\n",
       "      <td>...</td>\n",
       "      <td>...</td>\n",
       "      <td>...</td>\n",
       "      <td>...</td>\n",
       "      <td>...</td>\n",
       "      <td>...</td>\n",
       "      <td>...</td>\n",
       "      <td>...</td>\n",
       "      <td>...</td>\n",
       "      <td>...</td>\n",
       "      <td>...</td>\n",
       "      <td>...</td>\n",
       "      <td>...</td>\n",
       "      <td>...</td>\n",
       "      <td>...</td>\n",
       "      <td>...</td>\n",
       "      <td>...</td>\n",
       "      <td>...</td>\n",
       "      <td>...</td>\n",
       "    </tr>\n",
       "    <tr>\n",
       "      <th>95669</th>\n",
       "      <td>191343.0</td>\n",
       "      <td>25.0</td>\n",
       "      <td>0.0</td>\n",
       "      <td>0.0</td>\n",
       "      <td>0.0</td>\n",
       "      <td>0.0</td>\n",
       "      <td>0.0</td>\n",
       "      <td>0.0</td>\n",
       "      <td>0.0</td>\n",
       "      <td>0.0</td>\n",
       "      <td>...</td>\n",
       "      <td>0.0</td>\n",
       "      <td>0.0</td>\n",
       "      <td>7</td>\n",
       "      <td>0</td>\n",
       "      <td>0</td>\n",
       "      <td>0</td>\n",
       "      <td>1</td>\n",
       "      <td>0</td>\n",
       "      <td>0</td>\n",
       "      <td>0</td>\n",
       "    </tr>\n",
       "    <tr>\n",
       "      <th>95670</th>\n",
       "      <td>191344.0</td>\n",
       "      <td>22.0</td>\n",
       "      <td>0.0</td>\n",
       "      <td>0.0</td>\n",
       "      <td>0.0</td>\n",
       "      <td>0.0</td>\n",
       "      <td>0.0</td>\n",
       "      <td>4.0</td>\n",
       "      <td>0.0</td>\n",
       "      <td>0.0</td>\n",
       "      <td>...</td>\n",
       "      <td>1.0</td>\n",
       "      <td>0.0</td>\n",
       "      <td>4</td>\n",
       "      <td>0</td>\n",
       "      <td>0</td>\n",
       "      <td>0</td>\n",
       "      <td>1</td>\n",
       "      <td>0</td>\n",
       "      <td>0</td>\n",
       "      <td>0</td>\n",
       "    </tr>\n",
       "    <tr>\n",
       "      <th>95671</th>\n",
       "      <td>191345.0</td>\n",
       "      <td>39.0</td>\n",
       "      <td>0.0</td>\n",
       "      <td>0.0</td>\n",
       "      <td>0.0</td>\n",
       "      <td>0.0</td>\n",
       "      <td>0.0</td>\n",
       "      <td>1.0</td>\n",
       "      <td>0.0</td>\n",
       "      <td>0.0</td>\n",
       "      <td>...</td>\n",
       "      <td>0.0</td>\n",
       "      <td>0.0</td>\n",
       "      <td>13</td>\n",
       "      <td>0</td>\n",
       "      <td>0</td>\n",
       "      <td>0</td>\n",
       "      <td>1</td>\n",
       "      <td>0</td>\n",
       "      <td>0</td>\n",
       "      <td>0</td>\n",
       "    </tr>\n",
       "    <tr>\n",
       "      <th>95672</th>\n",
       "      <td>191346.0</td>\n",
       "      <td>39.0</td>\n",
       "      <td>0.0</td>\n",
       "      <td>0.0</td>\n",
       "      <td>0.0</td>\n",
       "      <td>0.0</td>\n",
       "      <td>0.0</td>\n",
       "      <td>0.0</td>\n",
       "      <td>0.0</td>\n",
       "      <td>0.0</td>\n",
       "      <td>...</td>\n",
       "      <td>0.0</td>\n",
       "      <td>0.0</td>\n",
       "      <td>17</td>\n",
       "      <td>0</td>\n",
       "      <td>0</td>\n",
       "      <td>0</td>\n",
       "      <td>1</td>\n",
       "      <td>0</td>\n",
       "      <td>0</td>\n",
       "      <td>0</td>\n",
       "    </tr>\n",
       "    <tr>\n",
       "      <th>95673</th>\n",
       "      <td>191347.0</td>\n",
       "      <td>8.0</td>\n",
       "      <td>0.0</td>\n",
       "      <td>0.0</td>\n",
       "      <td>0.0</td>\n",
       "      <td>0.0</td>\n",
       "      <td>0.0</td>\n",
       "      <td>0.0</td>\n",
       "      <td>0.0</td>\n",
       "      <td>0.0</td>\n",
       "      <td>...</td>\n",
       "      <td>0.0</td>\n",
       "      <td>0.0</td>\n",
       "      <td>2</td>\n",
       "      <td>0</td>\n",
       "      <td>0</td>\n",
       "      <td>0</td>\n",
       "      <td>1</td>\n",
       "      <td>0</td>\n",
       "      <td>0</td>\n",
       "      <td>0</td>\n",
       "    </tr>\n",
       "  </tbody>\n",
       "</table>\n",
       "<p>95674 rows × 80 columns</p>\n",
       "</div>"
      ],
      "text/plain": [
       "       VisitNumber  TripType  DepartmentDescription_1-HR PHOTO  \\\n",
       "0              5.0     999.0                               0.0   \n",
       "1              7.0      30.0                               0.0   \n",
       "2              8.0      26.0                               0.0   \n",
       "3              9.0       8.0                               0.0   \n",
       "4             10.0       8.0                               0.0   \n",
       "...            ...       ...                               ...   \n",
       "95669     191343.0      25.0                               0.0   \n",
       "95670     191344.0      22.0                               0.0   \n",
       "95671     191345.0      39.0                               0.0   \n",
       "95672     191346.0      39.0                               0.0   \n",
       "95673     191347.0       8.0                               0.0   \n",
       "\n",
       "       DepartmentDescription_ACCESSORIES  DepartmentDescription_AUTOMOTIVE  \\\n",
       "0                                    0.0                               0.0   \n",
       "1                                    0.0                               0.0   \n",
       "2                                    0.0                               0.0   \n",
       "3                                    0.0                               0.0   \n",
       "4                                    0.0                               0.0   \n",
       "...                                  ...                               ...   \n",
       "95669                                0.0                               0.0   \n",
       "95670                                0.0                               0.0   \n",
       "95671                                0.0                               0.0   \n",
       "95672                                0.0                               0.0   \n",
       "95673                                0.0                               0.0   \n",
       "\n",
       "       DepartmentDescription_BAKERY  DepartmentDescription_BATH AND SHOWER  \\\n",
       "0                               0.0                                    0.0   \n",
       "1                               0.0                                    0.0   \n",
       "2                               0.0                                    0.0   \n",
       "3                               0.0                                    0.0   \n",
       "4                               0.0                                    0.0   \n",
       "...                             ...                                    ...   \n",
       "95669                           0.0                                    0.0   \n",
       "95670                           0.0                                    0.0   \n",
       "95671                           0.0                                    0.0   \n",
       "95672                           0.0                                    0.0   \n",
       "95673                           0.0                                    0.0   \n",
       "\n",
       "       DepartmentDescription_BEAUTY  DepartmentDescription_BEDDING  \\\n",
       "0                               0.0                            0.0   \n",
       "1                               0.0                            0.0   \n",
       "2                               0.0                            0.0   \n",
       "3                               0.0                            0.0   \n",
       "4                               0.0                            0.0   \n",
       "...                             ...                            ...   \n",
       "95669                           0.0                            0.0   \n",
       "95670                           4.0                            0.0   \n",
       "95671                           1.0                            0.0   \n",
       "95672                           0.0                            0.0   \n",
       "95673                           0.0                            0.0   \n",
       "\n",
       "       DepartmentDescription_BOOKS AND MAGAZINES  ...  \\\n",
       "0                                            0.0  ...   \n",
       "1                                            0.0  ...   \n",
       "2                                            0.0  ...   \n",
       "3                                            0.0  ...   \n",
       "4                                            0.0  ...   \n",
       "...                                          ...  ...   \n",
       "95669                                        0.0  ...   \n",
       "95670                                        0.0  ...   \n",
       "95671                                        0.0  ...   \n",
       "95672                                        0.0  ...   \n",
       "95673                                        0.0  ...   \n",
       "\n",
       "       DepartmentDescription_WIRELESS  regreso  variedad  Weekday_Friday  \\\n",
       "0                                 0.0      1.0         1               1   \n",
       "1                                 0.0      0.0         2               1   \n",
       "2                                 0.0      1.0        23               1   \n",
       "3                                 0.0      0.0         3               1   \n",
       "4                                 0.0      0.0         3               1   \n",
       "...                               ...      ...       ...             ...   \n",
       "95669                             0.0      0.0         7               0   \n",
       "95670                             1.0      0.0         4               0   \n",
       "95671                             0.0      0.0        13               0   \n",
       "95672                             0.0      0.0        17               0   \n",
       "95673                             0.0      0.0         2               0   \n",
       "\n",
       "       Weekday_Monday  Weekday_Saturday  Weekday_Sunday  Weekday_Thursday  \\\n",
       "0                   0                 0               0                 0   \n",
       "1                   0                 0               0                 0   \n",
       "2                   0                 0               0                 0   \n",
       "3                   0                 0               0                 0   \n",
       "4                   0                 0               0                 0   \n",
       "...               ...               ...             ...               ...   \n",
       "95669               0                 0               1                 0   \n",
       "95670               0                 0               1                 0   \n",
       "95671               0                 0               1                 0   \n",
       "95672               0                 0               1                 0   \n",
       "95673               0                 0               1                 0   \n",
       "\n",
       "       Weekday_Tuesday  Weekday_Wednesday  \n",
       "0                    0                  0  \n",
       "1                    0                  0  \n",
       "2                    0                  0  \n",
       "3                    0                  0  \n",
       "4                    0                  0  \n",
       "...                ...                ...  \n",
       "95669                0                  0  \n",
       "95670                0                  0  \n",
       "95671                0                  0  \n",
       "95672                0                  0  \n",
       "95673                0                  0  \n",
       "\n",
       "[95674 rows x 80 columns]"
      ]
     },
     "execution_count": 5,
     "metadata": {},
     "output_type": "execute_result"
    }
   ],
   "source": [
    "walmart"
   ]
  },
  {
   "cell_type": "markdown",
   "metadata": {},
   "source": [
    "features:"
   ]
  },
  {
   "cell_type": "code",
   "execution_count": 6,
   "metadata": {},
   "outputs": [],
   "source": [
    "#X = walmart.drop(['trip_type','visit_number'], axis=1)\n",
    "X = walmart.drop(['TripType','VisitNumber'], axis=1)"
   ]
  },
  {
   "cell_type": "code",
   "execution_count": 7,
   "metadata": {
    "scrolled": true
   },
   "outputs": [
    {
     "data": {
      "text/html": [
       "<div>\n",
       "<style scoped>\n",
       "    .dataframe tbody tr th:only-of-type {\n",
       "        vertical-align: middle;\n",
       "    }\n",
       "\n",
       "    .dataframe tbody tr th {\n",
       "        vertical-align: top;\n",
       "    }\n",
       "\n",
       "    .dataframe thead th {\n",
       "        text-align: right;\n",
       "    }\n",
       "</style>\n",
       "<table border=\"1\" class=\"dataframe\">\n",
       "  <thead>\n",
       "    <tr style=\"text-align: right;\">\n",
       "      <th></th>\n",
       "      <th>DepartmentDescription_1-HR PHOTO</th>\n",
       "      <th>DepartmentDescription_ACCESSORIES</th>\n",
       "      <th>DepartmentDescription_AUTOMOTIVE</th>\n",
       "      <th>DepartmentDescription_BAKERY</th>\n",
       "      <th>DepartmentDescription_BATH AND SHOWER</th>\n",
       "      <th>DepartmentDescription_BEAUTY</th>\n",
       "      <th>DepartmentDescription_BEDDING</th>\n",
       "      <th>DepartmentDescription_BOOKS AND MAGAZINES</th>\n",
       "      <th>DepartmentDescription_BOYS WEAR</th>\n",
       "      <th>DepartmentDescription_BRAS &amp; SHAPEWEAR</th>\n",
       "      <th>...</th>\n",
       "      <th>DepartmentDescription_WIRELESS</th>\n",
       "      <th>regreso</th>\n",
       "      <th>variedad</th>\n",
       "      <th>Weekday_Friday</th>\n",
       "      <th>Weekday_Monday</th>\n",
       "      <th>Weekday_Saturday</th>\n",
       "      <th>Weekday_Sunday</th>\n",
       "      <th>Weekday_Thursday</th>\n",
       "      <th>Weekday_Tuesday</th>\n",
       "      <th>Weekday_Wednesday</th>\n",
       "    </tr>\n",
       "  </thead>\n",
       "  <tbody>\n",
       "    <tr>\n",
       "      <th>0</th>\n",
       "      <td>0.0</td>\n",
       "      <td>0.0</td>\n",
       "      <td>0.0</td>\n",
       "      <td>0.0</td>\n",
       "      <td>0.0</td>\n",
       "      <td>0.0</td>\n",
       "      <td>0.0</td>\n",
       "      <td>0.0</td>\n",
       "      <td>0.0</td>\n",
       "      <td>0.0</td>\n",
       "      <td>...</td>\n",
       "      <td>0.0</td>\n",
       "      <td>1.0</td>\n",
       "      <td>1</td>\n",
       "      <td>1</td>\n",
       "      <td>0</td>\n",
       "      <td>0</td>\n",
       "      <td>0</td>\n",
       "      <td>0</td>\n",
       "      <td>0</td>\n",
       "      <td>0</td>\n",
       "    </tr>\n",
       "    <tr>\n",
       "      <th>1</th>\n",
       "      <td>0.0</td>\n",
       "      <td>0.0</td>\n",
       "      <td>0.0</td>\n",
       "      <td>0.0</td>\n",
       "      <td>0.0</td>\n",
       "      <td>0.0</td>\n",
       "      <td>0.0</td>\n",
       "      <td>0.0</td>\n",
       "      <td>0.0</td>\n",
       "      <td>0.0</td>\n",
       "      <td>...</td>\n",
       "      <td>0.0</td>\n",
       "      <td>0.0</td>\n",
       "      <td>2</td>\n",
       "      <td>1</td>\n",
       "      <td>0</td>\n",
       "      <td>0</td>\n",
       "      <td>0</td>\n",
       "      <td>0</td>\n",
       "      <td>0</td>\n",
       "      <td>0</td>\n",
       "    </tr>\n",
       "    <tr>\n",
       "      <th>2</th>\n",
       "      <td>0.0</td>\n",
       "      <td>0.0</td>\n",
       "      <td>0.0</td>\n",
       "      <td>0.0</td>\n",
       "      <td>0.0</td>\n",
       "      <td>0.0</td>\n",
       "      <td>0.0</td>\n",
       "      <td>0.0</td>\n",
       "      <td>0.0</td>\n",
       "      <td>0.0</td>\n",
       "      <td>...</td>\n",
       "      <td>0.0</td>\n",
       "      <td>1.0</td>\n",
       "      <td>23</td>\n",
       "      <td>1</td>\n",
       "      <td>0</td>\n",
       "      <td>0</td>\n",
       "      <td>0</td>\n",
       "      <td>0</td>\n",
       "      <td>0</td>\n",
       "      <td>0</td>\n",
       "    </tr>\n",
       "    <tr>\n",
       "      <th>3</th>\n",
       "      <td>0.0</td>\n",
       "      <td>0.0</td>\n",
       "      <td>0.0</td>\n",
       "      <td>0.0</td>\n",
       "      <td>0.0</td>\n",
       "      <td>0.0</td>\n",
       "      <td>0.0</td>\n",
       "      <td>0.0</td>\n",
       "      <td>0.0</td>\n",
       "      <td>0.0</td>\n",
       "      <td>...</td>\n",
       "      <td>0.0</td>\n",
       "      <td>0.0</td>\n",
       "      <td>3</td>\n",
       "      <td>1</td>\n",
       "      <td>0</td>\n",
       "      <td>0</td>\n",
       "      <td>0</td>\n",
       "      <td>0</td>\n",
       "      <td>0</td>\n",
       "      <td>0</td>\n",
       "    </tr>\n",
       "    <tr>\n",
       "      <th>4</th>\n",
       "      <td>0.0</td>\n",
       "      <td>0.0</td>\n",
       "      <td>0.0</td>\n",
       "      <td>0.0</td>\n",
       "      <td>0.0</td>\n",
       "      <td>0.0</td>\n",
       "      <td>0.0</td>\n",
       "      <td>0.0</td>\n",
       "      <td>0.0</td>\n",
       "      <td>0.0</td>\n",
       "      <td>...</td>\n",
       "      <td>0.0</td>\n",
       "      <td>0.0</td>\n",
       "      <td>3</td>\n",
       "      <td>1</td>\n",
       "      <td>0</td>\n",
       "      <td>0</td>\n",
       "      <td>0</td>\n",
       "      <td>0</td>\n",
       "      <td>0</td>\n",
       "      <td>0</td>\n",
       "    </tr>\n",
       "    <tr>\n",
       "      <th>...</th>\n",
       "      <td>...</td>\n",
       "      <td>...</td>\n",
       "      <td>...</td>\n",
       "      <td>...</td>\n",
       "      <td>...</td>\n",
       "      <td>...</td>\n",
       "      <td>...</td>\n",
       "      <td>...</td>\n",
       "      <td>...</td>\n",
       "      <td>...</td>\n",
       "      <td>...</td>\n",
       "      <td>...</td>\n",
       "      <td>...</td>\n",
       "      <td>...</td>\n",
       "      <td>...</td>\n",
       "      <td>...</td>\n",
       "      <td>...</td>\n",
       "      <td>...</td>\n",
       "      <td>...</td>\n",
       "      <td>...</td>\n",
       "      <td>...</td>\n",
       "    </tr>\n",
       "    <tr>\n",
       "      <th>95669</th>\n",
       "      <td>0.0</td>\n",
       "      <td>0.0</td>\n",
       "      <td>0.0</td>\n",
       "      <td>0.0</td>\n",
       "      <td>0.0</td>\n",
       "      <td>0.0</td>\n",
       "      <td>0.0</td>\n",
       "      <td>0.0</td>\n",
       "      <td>0.0</td>\n",
       "      <td>0.0</td>\n",
       "      <td>...</td>\n",
       "      <td>0.0</td>\n",
       "      <td>0.0</td>\n",
       "      <td>7</td>\n",
       "      <td>0</td>\n",
       "      <td>0</td>\n",
       "      <td>0</td>\n",
       "      <td>1</td>\n",
       "      <td>0</td>\n",
       "      <td>0</td>\n",
       "      <td>0</td>\n",
       "    </tr>\n",
       "    <tr>\n",
       "      <th>95670</th>\n",
       "      <td>0.0</td>\n",
       "      <td>0.0</td>\n",
       "      <td>0.0</td>\n",
       "      <td>0.0</td>\n",
       "      <td>0.0</td>\n",
       "      <td>4.0</td>\n",
       "      <td>0.0</td>\n",
       "      <td>0.0</td>\n",
       "      <td>0.0</td>\n",
       "      <td>0.0</td>\n",
       "      <td>...</td>\n",
       "      <td>1.0</td>\n",
       "      <td>0.0</td>\n",
       "      <td>4</td>\n",
       "      <td>0</td>\n",
       "      <td>0</td>\n",
       "      <td>0</td>\n",
       "      <td>1</td>\n",
       "      <td>0</td>\n",
       "      <td>0</td>\n",
       "      <td>0</td>\n",
       "    </tr>\n",
       "    <tr>\n",
       "      <th>95671</th>\n",
       "      <td>0.0</td>\n",
       "      <td>0.0</td>\n",
       "      <td>0.0</td>\n",
       "      <td>0.0</td>\n",
       "      <td>0.0</td>\n",
       "      <td>1.0</td>\n",
       "      <td>0.0</td>\n",
       "      <td>0.0</td>\n",
       "      <td>0.0</td>\n",
       "      <td>0.0</td>\n",
       "      <td>...</td>\n",
       "      <td>0.0</td>\n",
       "      <td>0.0</td>\n",
       "      <td>13</td>\n",
       "      <td>0</td>\n",
       "      <td>0</td>\n",
       "      <td>0</td>\n",
       "      <td>1</td>\n",
       "      <td>0</td>\n",
       "      <td>0</td>\n",
       "      <td>0</td>\n",
       "    </tr>\n",
       "    <tr>\n",
       "      <th>95672</th>\n",
       "      <td>0.0</td>\n",
       "      <td>0.0</td>\n",
       "      <td>0.0</td>\n",
       "      <td>0.0</td>\n",
       "      <td>0.0</td>\n",
       "      <td>0.0</td>\n",
       "      <td>0.0</td>\n",
       "      <td>0.0</td>\n",
       "      <td>0.0</td>\n",
       "      <td>0.0</td>\n",
       "      <td>...</td>\n",
       "      <td>0.0</td>\n",
       "      <td>0.0</td>\n",
       "      <td>17</td>\n",
       "      <td>0</td>\n",
       "      <td>0</td>\n",
       "      <td>0</td>\n",
       "      <td>1</td>\n",
       "      <td>0</td>\n",
       "      <td>0</td>\n",
       "      <td>0</td>\n",
       "    </tr>\n",
       "    <tr>\n",
       "      <th>95673</th>\n",
       "      <td>0.0</td>\n",
       "      <td>0.0</td>\n",
       "      <td>0.0</td>\n",
       "      <td>0.0</td>\n",
       "      <td>0.0</td>\n",
       "      <td>0.0</td>\n",
       "      <td>0.0</td>\n",
       "      <td>0.0</td>\n",
       "      <td>0.0</td>\n",
       "      <td>0.0</td>\n",
       "      <td>...</td>\n",
       "      <td>0.0</td>\n",
       "      <td>0.0</td>\n",
       "      <td>2</td>\n",
       "      <td>0</td>\n",
       "      <td>0</td>\n",
       "      <td>0</td>\n",
       "      <td>1</td>\n",
       "      <td>0</td>\n",
       "      <td>0</td>\n",
       "      <td>0</td>\n",
       "    </tr>\n",
       "  </tbody>\n",
       "</table>\n",
       "<p>95674 rows × 78 columns</p>\n",
       "</div>"
      ],
      "text/plain": [
       "       DepartmentDescription_1-HR PHOTO  DepartmentDescription_ACCESSORIES  \\\n",
       "0                                   0.0                                0.0   \n",
       "1                                   0.0                                0.0   \n",
       "2                                   0.0                                0.0   \n",
       "3                                   0.0                                0.0   \n",
       "4                                   0.0                                0.0   \n",
       "...                                 ...                                ...   \n",
       "95669                               0.0                                0.0   \n",
       "95670                               0.0                                0.0   \n",
       "95671                               0.0                                0.0   \n",
       "95672                               0.0                                0.0   \n",
       "95673                               0.0                                0.0   \n",
       "\n",
       "       DepartmentDescription_AUTOMOTIVE  DepartmentDescription_BAKERY  \\\n",
       "0                                   0.0                           0.0   \n",
       "1                                   0.0                           0.0   \n",
       "2                                   0.0                           0.0   \n",
       "3                                   0.0                           0.0   \n",
       "4                                   0.0                           0.0   \n",
       "...                                 ...                           ...   \n",
       "95669                               0.0                           0.0   \n",
       "95670                               0.0                           0.0   \n",
       "95671                               0.0                           0.0   \n",
       "95672                               0.0                           0.0   \n",
       "95673                               0.0                           0.0   \n",
       "\n",
       "       DepartmentDescription_BATH AND SHOWER  DepartmentDescription_BEAUTY  \\\n",
       "0                                        0.0                           0.0   \n",
       "1                                        0.0                           0.0   \n",
       "2                                        0.0                           0.0   \n",
       "3                                        0.0                           0.0   \n",
       "4                                        0.0                           0.0   \n",
       "...                                      ...                           ...   \n",
       "95669                                    0.0                           0.0   \n",
       "95670                                    0.0                           4.0   \n",
       "95671                                    0.0                           1.0   \n",
       "95672                                    0.0                           0.0   \n",
       "95673                                    0.0                           0.0   \n",
       "\n",
       "       DepartmentDescription_BEDDING  \\\n",
       "0                                0.0   \n",
       "1                                0.0   \n",
       "2                                0.0   \n",
       "3                                0.0   \n",
       "4                                0.0   \n",
       "...                              ...   \n",
       "95669                            0.0   \n",
       "95670                            0.0   \n",
       "95671                            0.0   \n",
       "95672                            0.0   \n",
       "95673                            0.0   \n",
       "\n",
       "       DepartmentDescription_BOOKS AND MAGAZINES  \\\n",
       "0                                            0.0   \n",
       "1                                            0.0   \n",
       "2                                            0.0   \n",
       "3                                            0.0   \n",
       "4                                            0.0   \n",
       "...                                          ...   \n",
       "95669                                        0.0   \n",
       "95670                                        0.0   \n",
       "95671                                        0.0   \n",
       "95672                                        0.0   \n",
       "95673                                        0.0   \n",
       "\n",
       "       DepartmentDescription_BOYS WEAR  \\\n",
       "0                                  0.0   \n",
       "1                                  0.0   \n",
       "2                                  0.0   \n",
       "3                                  0.0   \n",
       "4                                  0.0   \n",
       "...                                ...   \n",
       "95669                              0.0   \n",
       "95670                              0.0   \n",
       "95671                              0.0   \n",
       "95672                              0.0   \n",
       "95673                              0.0   \n",
       "\n",
       "       DepartmentDescription_BRAS & SHAPEWEAR  ...  \\\n",
       "0                                         0.0  ...   \n",
       "1                                         0.0  ...   \n",
       "2                                         0.0  ...   \n",
       "3                                         0.0  ...   \n",
       "4                                         0.0  ...   \n",
       "...                                       ...  ...   \n",
       "95669                                     0.0  ...   \n",
       "95670                                     0.0  ...   \n",
       "95671                                     0.0  ...   \n",
       "95672                                     0.0  ...   \n",
       "95673                                     0.0  ...   \n",
       "\n",
       "       DepartmentDescription_WIRELESS  regreso  variedad  Weekday_Friday  \\\n",
       "0                                 0.0      1.0         1               1   \n",
       "1                                 0.0      0.0         2               1   \n",
       "2                                 0.0      1.0        23               1   \n",
       "3                                 0.0      0.0         3               1   \n",
       "4                                 0.0      0.0         3               1   \n",
       "...                               ...      ...       ...             ...   \n",
       "95669                             0.0      0.0         7               0   \n",
       "95670                             1.0      0.0         4               0   \n",
       "95671                             0.0      0.0        13               0   \n",
       "95672                             0.0      0.0        17               0   \n",
       "95673                             0.0      0.0         2               0   \n",
       "\n",
       "       Weekday_Monday  Weekday_Saturday  Weekday_Sunday  Weekday_Thursday  \\\n",
       "0                   0                 0               0                 0   \n",
       "1                   0                 0               0                 0   \n",
       "2                   0                 0               0                 0   \n",
       "3                   0                 0               0                 0   \n",
       "4                   0                 0               0                 0   \n",
       "...               ...               ...             ...               ...   \n",
       "95669               0                 0               1                 0   \n",
       "95670               0                 0               1                 0   \n",
       "95671               0                 0               1                 0   \n",
       "95672               0                 0               1                 0   \n",
       "95673               0                 0               1                 0   \n",
       "\n",
       "       Weekday_Tuesday  Weekday_Wednesday  \n",
       "0                    0                  0  \n",
       "1                    0                  0  \n",
       "2                    0                  0  \n",
       "3                    0                  0  \n",
       "4                    0                  0  \n",
       "...                ...                ...  \n",
       "95669                0                  0  \n",
       "95670                0                  0  \n",
       "95671                0                  0  \n",
       "95672                0                  0  \n",
       "95673                0                  0  \n",
       "\n",
       "[95674 rows x 78 columns]"
      ]
     },
     "execution_count": 7,
     "metadata": {},
     "output_type": "execute_result"
    }
   ],
   "source": [
    "X"
   ]
  },
  {
   "cell_type": "code",
   "execution_count": 8,
   "metadata": {},
   "outputs": [],
   "source": [
    "y=walmart.iloc[:,1]"
   ]
  },
  {
   "cell_type": "code",
   "execution_count": 9,
   "metadata": {},
   "outputs": [
    {
     "data": {
      "text/plain": [
       "0        999.0\n",
       "1         30.0\n",
       "2         26.0\n",
       "3          8.0\n",
       "4          8.0\n",
       "         ...  \n",
       "95669     25.0\n",
       "95670     22.0\n",
       "95671     39.0\n",
       "95672     39.0\n",
       "95673      8.0\n",
       "Name: TripType, Length: 95674, dtype: float64"
      ]
     },
     "execution_count": 9,
     "metadata": {},
     "output_type": "execute_result"
    }
   ],
   "source": [
    "y"
   ]
  },
  {
   "cell_type": "code",
   "execution_count": 12,
   "metadata": {},
   "outputs": [],
   "source": [
    "from sklearn.model_selection import train_test_split\n",
    "\n",
    "X_train, X_test, y_train, y_test = train_test_split(X, y, random_state=1)"
   ]
  },
  {
   "cell_type": "code",
   "execution_count": 13,
   "metadata": {},
   "outputs": [
    {
     "data": {
      "text/html": [
       "<div>\n",
       "<style scoped>\n",
       "    .dataframe tbody tr th:only-of-type {\n",
       "        vertical-align: middle;\n",
       "    }\n",
       "\n",
       "    .dataframe tbody tr th {\n",
       "        vertical-align: top;\n",
       "    }\n",
       "\n",
       "    .dataframe thead th {\n",
       "        text-align: right;\n",
       "    }\n",
       "</style>\n",
       "<table border=\"1\" class=\"dataframe\">\n",
       "  <thead>\n",
       "    <tr style=\"text-align: right;\">\n",
       "      <th></th>\n",
       "      <th>DepartmentDescription_1-HR PHOTO</th>\n",
       "      <th>DepartmentDescription_ACCESSORIES</th>\n",
       "      <th>DepartmentDescription_AUTOMOTIVE</th>\n",
       "      <th>DepartmentDescription_BAKERY</th>\n",
       "      <th>DepartmentDescription_BATH AND SHOWER</th>\n",
       "      <th>DepartmentDescription_BEAUTY</th>\n",
       "      <th>DepartmentDescription_BEDDING</th>\n",
       "      <th>DepartmentDescription_BOOKS AND MAGAZINES</th>\n",
       "      <th>DepartmentDescription_BOYS WEAR</th>\n",
       "      <th>DepartmentDescription_BRAS &amp; SHAPEWEAR</th>\n",
       "      <th>...</th>\n",
       "      <th>DepartmentDescription_WIRELESS</th>\n",
       "      <th>regreso</th>\n",
       "      <th>variedad</th>\n",
       "      <th>Weekday_Friday</th>\n",
       "      <th>Weekday_Monday</th>\n",
       "      <th>Weekday_Saturday</th>\n",
       "      <th>Weekday_Sunday</th>\n",
       "      <th>Weekday_Thursday</th>\n",
       "      <th>Weekday_Tuesday</th>\n",
       "      <th>Weekday_Wednesday</th>\n",
       "    </tr>\n",
       "  </thead>\n",
       "  <tbody>\n",
       "    <tr>\n",
       "      <th>90220</th>\n",
       "      <td>0.0</td>\n",
       "      <td>0.0</td>\n",
       "      <td>0.0</td>\n",
       "      <td>0.0</td>\n",
       "      <td>0.0</td>\n",
       "      <td>0.0</td>\n",
       "      <td>0.0</td>\n",
       "      <td>0.0</td>\n",
       "      <td>0.0</td>\n",
       "      <td>0.0</td>\n",
       "      <td>...</td>\n",
       "      <td>0.0</td>\n",
       "      <td>0.0</td>\n",
       "      <td>11</td>\n",
       "      <td>0</td>\n",
       "      <td>0</td>\n",
       "      <td>1</td>\n",
       "      <td>0</td>\n",
       "      <td>0</td>\n",
       "      <td>0</td>\n",
       "      <td>0</td>\n",
       "    </tr>\n",
       "    <tr>\n",
       "      <th>30817</th>\n",
       "      <td>0.0</td>\n",
       "      <td>0.0</td>\n",
       "      <td>0.0</td>\n",
       "      <td>0.0</td>\n",
       "      <td>0.0</td>\n",
       "      <td>0.0</td>\n",
       "      <td>0.0</td>\n",
       "      <td>0.0</td>\n",
       "      <td>0.0</td>\n",
       "      <td>0.0</td>\n",
       "      <td>...</td>\n",
       "      <td>0.0</td>\n",
       "      <td>0.0</td>\n",
       "      <td>14</td>\n",
       "      <td>0</td>\n",
       "      <td>0</td>\n",
       "      <td>0</td>\n",
       "      <td>1</td>\n",
       "      <td>0</td>\n",
       "      <td>0</td>\n",
       "      <td>0</td>\n",
       "    </tr>\n",
       "    <tr>\n",
       "      <th>66821</th>\n",
       "      <td>0.0</td>\n",
       "      <td>0.0</td>\n",
       "      <td>0.0</td>\n",
       "      <td>0.0</td>\n",
       "      <td>0.0</td>\n",
       "      <td>0.0</td>\n",
       "      <td>0.0</td>\n",
       "      <td>0.0</td>\n",
       "      <td>0.0</td>\n",
       "      <td>0.0</td>\n",
       "      <td>...</td>\n",
       "      <td>0.0</td>\n",
       "      <td>0.0</td>\n",
       "      <td>2</td>\n",
       "      <td>1</td>\n",
       "      <td>0</td>\n",
       "      <td>0</td>\n",
       "      <td>0</td>\n",
       "      <td>0</td>\n",
       "      <td>0</td>\n",
       "      <td>0</td>\n",
       "    </tr>\n",
       "    <tr>\n",
       "      <th>12400</th>\n",
       "      <td>0.0</td>\n",
       "      <td>0.0</td>\n",
       "      <td>0.0</td>\n",
       "      <td>0.0</td>\n",
       "      <td>0.0</td>\n",
       "      <td>0.0</td>\n",
       "      <td>0.0</td>\n",
       "      <td>0.0</td>\n",
       "      <td>0.0</td>\n",
       "      <td>0.0</td>\n",
       "      <td>...</td>\n",
       "      <td>0.0</td>\n",
       "      <td>0.0</td>\n",
       "      <td>12</td>\n",
       "      <td>0</td>\n",
       "      <td>1</td>\n",
       "      <td>0</td>\n",
       "      <td>0</td>\n",
       "      <td>0</td>\n",
       "      <td>0</td>\n",
       "      <td>0</td>\n",
       "    </tr>\n",
       "    <tr>\n",
       "      <th>81126</th>\n",
       "      <td>0.0</td>\n",
       "      <td>0.0</td>\n",
       "      <td>0.0</td>\n",
       "      <td>0.0</td>\n",
       "      <td>0.0</td>\n",
       "      <td>0.0</td>\n",
       "      <td>0.0</td>\n",
       "      <td>0.0</td>\n",
       "      <td>0.0</td>\n",
       "      <td>0.0</td>\n",
       "      <td>...</td>\n",
       "      <td>0.0</td>\n",
       "      <td>0.0</td>\n",
       "      <td>1</td>\n",
       "      <td>0</td>\n",
       "      <td>0</td>\n",
       "      <td>0</td>\n",
       "      <td>0</td>\n",
       "      <td>0</td>\n",
       "      <td>0</td>\n",
       "      <td>1</td>\n",
       "    </tr>\n",
       "    <tr>\n",
       "      <th>...</th>\n",
       "      <td>...</td>\n",
       "      <td>...</td>\n",
       "      <td>...</td>\n",
       "      <td>...</td>\n",
       "      <td>...</td>\n",
       "      <td>...</td>\n",
       "      <td>...</td>\n",
       "      <td>...</td>\n",
       "      <td>...</td>\n",
       "      <td>...</td>\n",
       "      <td>...</td>\n",
       "      <td>...</td>\n",
       "      <td>...</td>\n",
       "      <td>...</td>\n",
       "      <td>...</td>\n",
       "      <td>...</td>\n",
       "      <td>...</td>\n",
       "      <td>...</td>\n",
       "      <td>...</td>\n",
       "      <td>...</td>\n",
       "      <td>...</td>\n",
       "    </tr>\n",
       "    <tr>\n",
       "      <th>21440</th>\n",
       "      <td>0.0</td>\n",
       "      <td>0.0</td>\n",
       "      <td>0.0</td>\n",
       "      <td>0.0</td>\n",
       "      <td>0.0</td>\n",
       "      <td>0.0</td>\n",
       "      <td>0.0</td>\n",
       "      <td>0.0</td>\n",
       "      <td>0.0</td>\n",
       "      <td>0.0</td>\n",
       "      <td>...</td>\n",
       "      <td>0.0</td>\n",
       "      <td>0.0</td>\n",
       "      <td>1</td>\n",
       "      <td>0</td>\n",
       "      <td>0</td>\n",
       "      <td>0</td>\n",
       "      <td>0</td>\n",
       "      <td>1</td>\n",
       "      <td>0</td>\n",
       "      <td>0</td>\n",
       "    </tr>\n",
       "    <tr>\n",
       "      <th>73349</th>\n",
       "      <td>0.0</td>\n",
       "      <td>0.0</td>\n",
       "      <td>0.0</td>\n",
       "      <td>0.0</td>\n",
       "      <td>0.0</td>\n",
       "      <td>0.0</td>\n",
       "      <td>0.0</td>\n",
       "      <td>0.0</td>\n",
       "      <td>0.0</td>\n",
       "      <td>0.0</td>\n",
       "      <td>...</td>\n",
       "      <td>0.0</td>\n",
       "      <td>0.0</td>\n",
       "      <td>1</td>\n",
       "      <td>0</td>\n",
       "      <td>0</td>\n",
       "      <td>0</td>\n",
       "      <td>1</td>\n",
       "      <td>0</td>\n",
       "      <td>0</td>\n",
       "      <td>0</td>\n",
       "    </tr>\n",
       "    <tr>\n",
       "      <th>50057</th>\n",
       "      <td>0.0</td>\n",
       "      <td>0.0</td>\n",
       "      <td>0.0</td>\n",
       "      <td>0.0</td>\n",
       "      <td>0.0</td>\n",
       "      <td>0.0</td>\n",
       "      <td>0.0</td>\n",
       "      <td>0.0</td>\n",
       "      <td>0.0</td>\n",
       "      <td>0.0</td>\n",
       "      <td>...</td>\n",
       "      <td>0.0</td>\n",
       "      <td>0.0</td>\n",
       "      <td>17</td>\n",
       "      <td>0</td>\n",
       "      <td>0</td>\n",
       "      <td>0</td>\n",
       "      <td>1</td>\n",
       "      <td>0</td>\n",
       "      <td>0</td>\n",
       "      <td>0</td>\n",
       "    </tr>\n",
       "    <tr>\n",
       "      <th>5192</th>\n",
       "      <td>0.0</td>\n",
       "      <td>0.0</td>\n",
       "      <td>0.0</td>\n",
       "      <td>0.0</td>\n",
       "      <td>0.0</td>\n",
       "      <td>0.0</td>\n",
       "      <td>0.0</td>\n",
       "      <td>0.0</td>\n",
       "      <td>0.0</td>\n",
       "      <td>0.0</td>\n",
       "      <td>...</td>\n",
       "      <td>0.0</td>\n",
       "      <td>0.0</td>\n",
       "      <td>2</td>\n",
       "      <td>0</td>\n",
       "      <td>0</td>\n",
       "      <td>1</td>\n",
       "      <td>0</td>\n",
       "      <td>0</td>\n",
       "      <td>0</td>\n",
       "      <td>0</td>\n",
       "    </tr>\n",
       "    <tr>\n",
       "      <th>77708</th>\n",
       "      <td>0.0</td>\n",
       "      <td>0.0</td>\n",
       "      <td>0.0</td>\n",
       "      <td>0.0</td>\n",
       "      <td>0.0</td>\n",
       "      <td>0.0</td>\n",
       "      <td>0.0</td>\n",
       "      <td>0.0</td>\n",
       "      <td>0.0</td>\n",
       "      <td>0.0</td>\n",
       "      <td>...</td>\n",
       "      <td>0.0</td>\n",
       "      <td>0.0</td>\n",
       "      <td>3</td>\n",
       "      <td>0</td>\n",
       "      <td>1</td>\n",
       "      <td>0</td>\n",
       "      <td>0</td>\n",
       "      <td>0</td>\n",
       "      <td>0</td>\n",
       "      <td>0</td>\n",
       "    </tr>\n",
       "  </tbody>\n",
       "</table>\n",
       "<p>71755 rows × 78 columns</p>\n",
       "</div>"
      ],
      "text/plain": [
       "       DepartmentDescription_1-HR PHOTO  DepartmentDescription_ACCESSORIES  \\\n",
       "90220                               0.0                                0.0   \n",
       "30817                               0.0                                0.0   \n",
       "66821                               0.0                                0.0   \n",
       "12400                               0.0                                0.0   \n",
       "81126                               0.0                                0.0   \n",
       "...                                 ...                                ...   \n",
       "21440                               0.0                                0.0   \n",
       "73349                               0.0                                0.0   \n",
       "50057                               0.0                                0.0   \n",
       "5192                                0.0                                0.0   \n",
       "77708                               0.0                                0.0   \n",
       "\n",
       "       DepartmentDescription_AUTOMOTIVE  DepartmentDescription_BAKERY  \\\n",
       "90220                               0.0                           0.0   \n",
       "30817                               0.0                           0.0   \n",
       "66821                               0.0                           0.0   \n",
       "12400                               0.0                           0.0   \n",
       "81126                               0.0                           0.0   \n",
       "...                                 ...                           ...   \n",
       "21440                               0.0                           0.0   \n",
       "73349                               0.0                           0.0   \n",
       "50057                               0.0                           0.0   \n",
       "5192                                0.0                           0.0   \n",
       "77708                               0.0                           0.0   \n",
       "\n",
       "       DepartmentDescription_BATH AND SHOWER  DepartmentDescription_BEAUTY  \\\n",
       "90220                                    0.0                           0.0   \n",
       "30817                                    0.0                           0.0   \n",
       "66821                                    0.0                           0.0   \n",
       "12400                                    0.0                           0.0   \n",
       "81126                                    0.0                           0.0   \n",
       "...                                      ...                           ...   \n",
       "21440                                    0.0                           0.0   \n",
       "73349                                    0.0                           0.0   \n",
       "50057                                    0.0                           0.0   \n",
       "5192                                     0.0                           0.0   \n",
       "77708                                    0.0                           0.0   \n",
       "\n",
       "       DepartmentDescription_BEDDING  \\\n",
       "90220                            0.0   \n",
       "30817                            0.0   \n",
       "66821                            0.0   \n",
       "12400                            0.0   \n",
       "81126                            0.0   \n",
       "...                              ...   \n",
       "21440                            0.0   \n",
       "73349                            0.0   \n",
       "50057                            0.0   \n",
       "5192                             0.0   \n",
       "77708                            0.0   \n",
       "\n",
       "       DepartmentDescription_BOOKS AND MAGAZINES  \\\n",
       "90220                                        0.0   \n",
       "30817                                        0.0   \n",
       "66821                                        0.0   \n",
       "12400                                        0.0   \n",
       "81126                                        0.0   \n",
       "...                                          ...   \n",
       "21440                                        0.0   \n",
       "73349                                        0.0   \n",
       "50057                                        0.0   \n",
       "5192                                         0.0   \n",
       "77708                                        0.0   \n",
       "\n",
       "       DepartmentDescription_BOYS WEAR  \\\n",
       "90220                              0.0   \n",
       "30817                              0.0   \n",
       "66821                              0.0   \n",
       "12400                              0.0   \n",
       "81126                              0.0   \n",
       "...                                ...   \n",
       "21440                              0.0   \n",
       "73349                              0.0   \n",
       "50057                              0.0   \n",
       "5192                               0.0   \n",
       "77708                              0.0   \n",
       "\n",
       "       DepartmentDescription_BRAS & SHAPEWEAR  ...  \\\n",
       "90220                                     0.0  ...   \n",
       "30817                                     0.0  ...   \n",
       "66821                                     0.0  ...   \n",
       "12400                                     0.0  ...   \n",
       "81126                                     0.0  ...   \n",
       "...                                       ...  ...   \n",
       "21440                                     0.0  ...   \n",
       "73349                                     0.0  ...   \n",
       "50057                                     0.0  ...   \n",
       "5192                                      0.0  ...   \n",
       "77708                                     0.0  ...   \n",
       "\n",
       "       DepartmentDescription_WIRELESS  regreso  variedad  Weekday_Friday  \\\n",
       "90220                             0.0      0.0        11               0   \n",
       "30817                             0.0      0.0        14               0   \n",
       "66821                             0.0      0.0         2               1   \n",
       "12400                             0.0      0.0        12               0   \n",
       "81126                             0.0      0.0         1               0   \n",
       "...                               ...      ...       ...             ...   \n",
       "21440                             0.0      0.0         1               0   \n",
       "73349                             0.0      0.0         1               0   \n",
       "50057                             0.0      0.0        17               0   \n",
       "5192                              0.0      0.0         2               0   \n",
       "77708                             0.0      0.0         3               0   \n",
       "\n",
       "       Weekday_Monday  Weekday_Saturday  Weekday_Sunday  Weekday_Thursday  \\\n",
       "90220               0                 1               0                 0   \n",
       "30817               0                 0               1                 0   \n",
       "66821               0                 0               0                 0   \n",
       "12400               1                 0               0                 0   \n",
       "81126               0                 0               0                 0   \n",
       "...               ...               ...             ...               ...   \n",
       "21440               0                 0               0                 1   \n",
       "73349               0                 0               1                 0   \n",
       "50057               0                 0               1                 0   \n",
       "5192                0                 1               0                 0   \n",
       "77708               1                 0               0                 0   \n",
       "\n",
       "       Weekday_Tuesday  Weekday_Wednesday  \n",
       "90220                0                  0  \n",
       "30817                0                  0  \n",
       "66821                0                  0  \n",
       "12400                0                  0  \n",
       "81126                0                  1  \n",
       "...                ...                ...  \n",
       "21440                0                  0  \n",
       "73349                0                  0  \n",
       "50057                0                  0  \n",
       "5192                 0                  0  \n",
       "77708                0                  0  \n",
       "\n",
       "[71755 rows x 78 columns]"
      ]
     },
     "execution_count": 13,
     "metadata": {},
     "output_type": "execute_result"
    }
   ],
   "source": [
    "X_train"
   ]
  },
  {
   "cell_type": "code",
   "execution_count": null,
   "metadata": {},
   "outputs": [],
   "source": []
  },
  {
   "cell_type": "code",
   "execution_count": null,
   "metadata": {},
   "outputs": [],
   "source": [
    "# quité la estandarización porque así sale mejor la evaluación de los modelos\n",
    "#pero está en otro notebook, por si acaso"
   ]
  },
  {
   "cell_type": "code",
   "execution_count": null,
   "metadata": {},
   "outputs": [],
   "source": []
  },
  {
   "cell_type": "markdown",
   "metadata": {},
   "source": [
    "# Feature selection"
   ]
  },
  {
   "cell_type": "code",
   "execution_count": 20,
   "metadata": {},
   "outputs": [],
   "source": [
    "from sklearn.feature_selection import SelectFromModel"
   ]
  },
  {
   "cell_type": "code",
   "execution_count": 21,
   "metadata": {},
   "outputs": [],
   "source": [
    "sel = SelectFromModel(RandomForestClassifier(n_estimators = 1000))"
   ]
  },
  {
   "cell_type": "code",
   "execution_count": 22,
   "metadata": {
    "scrolled": true
   },
   "outputs": [
    {
     "data": {
      "text/plain": [
       "SelectFromModel(estimator=RandomForestClassifier(n_estimators=1000))"
      ]
     },
     "execution_count": 22,
     "metadata": {},
     "output_type": "execute_result"
    }
   ],
   "source": [
    "sel.fit(X_train, y_train)"
   ]
  },
  {
   "cell_type": "code",
   "execution_count": 23,
   "metadata": {
    "scrolled": true
   },
   "outputs": [
    {
     "data": {
      "text/plain": [
       "array([False, False, False, False, False,  True, False, False, False,\n",
       "       False, False,  True, False,  True, False, False,  True,  True,\n",
       "       False, False,  True,  True, False, False,  True, False, False,\n",
       "       False, False, False,  True,  True,  True, False,  True, False,\n",
       "       False, False, False, False, False, False, False,  True, False,\n",
       "       False, False, False, False, False, False,  True,  True,  True,\n",
       "        True, False, False, False,  True, False, False,  True, False,\n",
       "       False, False, False, False, False, False,  True,  True, False,\n",
       "       False, False, False, False, False, False])"
      ]
     },
     "execution_count": 23,
     "metadata": {},
     "output_type": "execute_result"
    }
   ],
   "source": [
    "sel.get_support()"
   ]
  },
  {
   "cell_type": "code",
   "execution_count": 45,
   "metadata": {},
   "outputs": [
    {
     "data": {
      "text/plain": [
       "21"
      ]
     },
     "execution_count": 45,
     "metadata": {},
     "output_type": "execute_result"
    }
   ],
   "source": [
    "selected_feat= X_train.columns[(sel.get_support())]\n",
    "len(selected_feat)"
   ]
  },
  {
   "cell_type": "code",
   "execution_count": 46,
   "metadata": {},
   "outputs": [
    {
     "data": {
      "text/plain": [
       "Index(['DepartmentDescription_BEAUTY',\n",
       "       'DepartmentDescription_CANDY, TOBACCO, COOKIES',\n",
       "       'DepartmentDescription_COMM BREAD', 'DepartmentDescription_DAIRY',\n",
       "       'DepartmentDescription_DSD GROCERY',\n",
       "       'DepartmentDescription_FINANCIAL SERVICES',\n",
       "       'DepartmentDescription_FROZEN FOODS',\n",
       "       'DepartmentDescription_GROCERY DRY GOODS',\n",
       "       'DepartmentDescription_HOUSEHOLD CHEMICALS/SUPP',\n",
       "       'DepartmentDescription_HOUSEHOLD PAPER GOODS',\n",
       "       'DepartmentDescription_IMPULSE MERCHANDISE',\n",
       "       'DepartmentDescription_INFANT CONSUMABLE HARDLINES',\n",
       "       'DepartmentDescription_MENS WEAR',\n",
       "       'DepartmentDescription_PERSONAL CARE',\n",
       "       'DepartmentDescription_PETS AND SUPPLIES',\n",
       "       'DepartmentDescription_PHARMACY OTC',\n",
       "       'DepartmentDescription_PHARMACY RX', 'DepartmentDescription_PRODUCE',\n",
       "       'DepartmentDescription_SERVICE DELI', 'regreso', 'variedad'],\n",
       "      dtype='object')"
      ]
     },
     "execution_count": 46,
     "metadata": {},
     "output_type": "execute_result"
    }
   ],
   "source": [
    "selected_feat"
   ]
  },
  {
   "cell_type": "code",
   "execution_count": null,
   "metadata": {},
   "outputs": [],
   "source": []
  },
  {
   "cell_type": "code",
   "execution_count": null,
   "metadata": {},
   "outputs": [],
   "source": [
    "#Guardar un pickle "
   ]
  },
  {
   "cell_type": "code",
   "execution_count": 20,
   "metadata": {},
   "outputs": [],
   "source": [
    "import pickle"
   ]
  },
  {
   "cell_type": "code",
   "execution_count": 55,
   "metadata": {},
   "outputs": [
    {
     "data": {
      "text/plain": [
       "Index(['DepartmentDescription_BEAUTY',\n",
       "       'DepartmentDescription_CANDY, TOBACCO, COOKIES',\n",
       "       'DepartmentDescription_COMM BREAD', 'DepartmentDescription_DAIRY',\n",
       "       'DepartmentDescription_DSD GROCERY',\n",
       "       'DepartmentDescription_FINANCIAL SERVICES',\n",
       "       'DepartmentDescription_FROZEN FOODS',\n",
       "       'DepartmentDescription_GROCERY DRY GOODS',\n",
       "       'DepartmentDescription_HOUSEHOLD CHEMICALS/SUPP',\n",
       "       'DepartmentDescription_HOUSEHOLD PAPER GOODS',\n",
       "       'DepartmentDescription_IMPULSE MERCHANDISE',\n",
       "       'DepartmentDescription_INFANT CONSUMABLE HARDLINES',\n",
       "       'DepartmentDescription_MENS WEAR',\n",
       "       'DepartmentDescription_PERSONAL CARE',\n",
       "       'DepartmentDescription_PETS AND SUPPLIES',\n",
       "       'DepartmentDescription_PHARMACY OTC',\n",
       "       'DepartmentDescription_PHARMACY RX', 'DepartmentDescription_PRODUCE',\n",
       "       'DepartmentDescription_SERVICE DELI', 'regreso', 'variedad'],\n",
       "      dtype='object')"
      ]
     },
     "execution_count": 55,
     "metadata": {},
     "output_type": "execute_result"
    }
   ],
   "source": [
    "selected_feat"
   ]
  },
  {
   "cell_type": "code",
   "execution_count": null,
   "metadata": {},
   "outputs": [],
   "source": [
    "#Guarda un pickle: "
   ]
  },
  {
   "cell_type": "code",
   "execution_count": 29,
   "metadata": {},
   "outputs": [],
   "source": [
    "pickle.dump( selected_feat, open( \"pickles/selected_feat\", \"wb\" ) )"
   ]
  },
  {
   "cell_type": "code",
   "execution_count": null,
   "metadata": {},
   "outputs": [],
   "source": []
  },
  {
   "cell_type": "code",
   "execution_count": null,
   "metadata": {},
   "outputs": [],
   "source": [
    "#Carga el pickle: "
   ]
  },
  {
   "cell_type": "code",
   "execution_count": null,
   "metadata": {},
   "outputs": [],
   "source": [
    "selected_feat_ok = open(\"pickles/selected_feat\",\"rb\")"
   ]
  },
  {
   "cell_type": "code",
   "execution_count": null,
   "metadata": {},
   "outputs": [],
   "source": [
    "selected_feat_ok = pickle.load(selected_feat_ok)"
   ]
  },
  {
   "cell_type": "code",
   "execution_count": null,
   "metadata": {},
   "outputs": [],
   "source": [
    "selected_feat_ok "
   ]
  },
  {
   "cell_type": "code",
   "execution_count": null,
   "metadata": {},
   "outputs": [],
   "source": []
  },
  {
   "cell_type": "code",
   "execution_count": null,
   "metadata": {},
   "outputs": [],
   "source": []
  },
  {
   "cell_type": "markdown",
   "metadata": {},
   "source": [
    "## Otra Feature Selection"
   ]
  },
  {
   "cell_type": "code",
   "execution_count": null,
   "metadata": {},
   "outputs": [],
   "source": [
    "#lo que está comentado no es necesario correrlo porque ya está en un pickle"
   ]
  },
  {
   "cell_type": "code",
   "execution_count": 20,
   "metadata": {},
   "outputs": [],
   "source": [
    "#from sklearn.ensemble import ExtraTreesClassifier\n",
    "#import matplotlib.pyplot as plt"
   ]
  },
  {
   "cell_type": "code",
   "execution_count": null,
   "metadata": {},
   "outputs": [],
   "source": [
    "#model_fs = ExtraTreesClassifier(n_estimators=500)\n",
    "#model_fs.fit(X_train,y_train)\n",
    "#print(model_fs.feature_importances_)"
   ]
  },
  {
   "cell_type": "code",
   "execution_count": 22,
   "metadata": {},
   "outputs": [
    {
     "data": {
      "image/png": "[encoded data removed]",
      "text/plain": [
       "<Figure size 432x288 with 1 Axes>"
      ]
     },
     "metadata": {
      "needs_background": "light"
     },
     "output_type": "display_data"
    }
   ],
   "source": [
    "#feat_importances = pd.Series(model_fs.feature_importances_, index=X_train.columns)\n",
    "#feat_importances.nlargest(50).plot(kind='barh')\n",
    "#plt.show()"
   ]
  },
  {
   "cell_type": "code",
   "execution_count": null,
   "metadata": {},
   "outputs": [],
   "source": [
    "#feat_importances.nlargest(50)"
   ]
  },
  {
   "cell_type": "code",
   "execution_count": 32,
   "metadata": {},
   "outputs": [],
   "source": [
    "#selected_var = feat_importances.nlargest(50).index"
   ]
  },
  {
   "cell_type": "code",
   "execution_count": 14,
   "metadata": {},
   "outputs": [],
   "source": [
    "import pickle"
   ]
  },
  {
   "cell_type": "code",
   "execution_count": 33,
   "metadata": {},
   "outputs": [],
   "source": [
    "#guardamos un pickle\n",
    "\n",
    "#pickle.dump(selected_var, open(\"pickles/selected_var\", \"wb\"))"
   ]
  },
  {
   "cell_type": "code",
   "execution_count": 15,
   "metadata": {},
   "outputs": [],
   "source": [
    "#cargamos el pickle\n",
    "selected_var = pickle.load(open(\"pickles/selected_var\",\"rb\"))"
   ]
  },
  {
   "cell_type": "code",
   "execution_count": 16,
   "metadata": {},
   "outputs": [
    {
     "data": {
      "text/plain": [
       "Index(['variedad', 'regreso', 'DepartmentDescription_DSD GROCERY',\n",
       "       'DepartmentDescription_GROCERY DRY GOODS',\n",
       "       'DepartmentDescription_FINANCIAL SERVICES',\n",
       "       'DepartmentDescription_PERSONAL CARE',\n",
       "       'DepartmentDescription_PHARMACY OTC', 'DepartmentDescription_PRODUCE',\n",
       "       'DepartmentDescription_DAIRY',\n",
       "       'DepartmentDescription_IMPULSE MERCHANDISE',\n",
       "       'DepartmentDescription_SERVICE DELI', 'DepartmentDescription_MENS WEAR',\n",
       "       'DepartmentDescription_HOUSEHOLD CHEMICALS/SUPP',\n",
       "       'DepartmentDescription_INFANT CONSUMABLE HARDLINES',\n",
       "       'DepartmentDescription_FROZEN FOODS',\n",
       "       'DepartmentDescription_PHARMACY RX', 'DepartmentDescription_BEAUTY',\n",
       "       'DepartmentDescription_HOUSEHOLD PAPER GOODS',\n",
       "       'DepartmentDescription_COMM BREAD',\n",
       "       'DepartmentDescription_CANDY, TOBACCO, COOKIES',\n",
       "       'DepartmentDescription_MEAT - FRESH & FROZEN',\n",
       "       'DepartmentDescription_LADIESWEAR',\n",
       "       'DepartmentDescription_PETS AND SUPPLIES',\n",
       "       'DepartmentDescription_CELEBRATION', 'DepartmentDescription_AUTOMOTIVE',\n",
       "       'DepartmentDescription_SHOES', 'Weekday_Saturday',\n",
       "       'DepartmentDescription_COOK AND DINE',\n",
       "       'DepartmentDescription_OFFICE SUPPLIES',\n",
       "       'DepartmentDescription_HOME MANAGEMENT', 'DepartmentDescription_TOYS',\n",
       "       'Weekday_Friday', 'DepartmentDescription_LIQUOR,WINE,BEER',\n",
       "       'Weekday_Sunday', 'DepartmentDescription_BAKERY', 'Weekday_Monday',\n",
       "       'DepartmentDescription_SPORTING GOODS', 'Weekday_Thursday',\n",
       "       'DepartmentDescription_LAWN AND GARDEN', 'Weekday_Wednesday',\n",
       "       'Weekday_Tuesday', 'DepartmentDescription_HARDWARE',\n",
       "       'DepartmentDescription_PRE PACKED DELI',\n",
       "       'DepartmentDescription_ELECTRONICS', 'DepartmentDescription_HOME DECOR',\n",
       "       'DepartmentDescription_FABRICS AND CRAFTS',\n",
       "       'DepartmentDescription_INFANT APPAREL',\n",
       "       'DepartmentDescription_BATH AND SHOWER',\n",
       "       'DepartmentDescription_WIRELESS',\n",
       "       'DepartmentDescription_HORTICULTURE AND ACCESS'],\n",
       "      dtype='object')"
      ]
     },
     "execution_count": 16,
     "metadata": {},
     "output_type": "execute_result"
    }
   ],
   "source": [
    "selected_var"
   ]
  },
  {
   "cell_type": "markdown",
   "metadata": {},
   "source": [
    "## X train y X test after feature selection:"
   ]
  },
  {
   "cell_type": "markdown",
   "metadata": {},
   "source": [
    "**50 variables**"
   ]
  },
  {
   "cell_type": "code",
   "execution_count": 17,
   "metadata": {},
   "outputs": [],
   "source": [
    "X_train_fs = X_train[selected_var]"
   ]
  },
  {
   "cell_type": "code",
   "execution_count": 18,
   "metadata": {},
   "outputs": [],
   "source": [
    "X_test_fs = X_test[selected_var]"
   ]
  },
  {
   "cell_type": "markdown",
   "metadata": {},
   "source": [
    "**veinte y tantas variables**"
   ]
  },
  {
   "cell_type": "code",
   "execution_count": null,
   "metadata": {},
   "outputs": [],
   "source": [
    "X_train_feat_s = X_train[selected_feat]"
   ]
  },
  {
   "cell_type": "code",
   "execution_count": 49,
   "metadata": {},
   "outputs": [],
   "source": [
    "X_test_feat_s = X_test[selected_feat]"
   ]
  },
  {
   "cell_type": "code",
   "execution_count": null,
   "metadata": {},
   "outputs": [],
   "source": []
  },
  {
   "cell_type": "code",
   "execution_count": null,
   "metadata": {},
   "outputs": [],
   "source": [
    "#model = models_dict[\"random_forest\"][\"model\"]"
   ]
  },
  {
   "cell_type": "markdown",
   "metadata": {},
   "source": [
    "# Modelos"
   ]
  },
  {
   "cell_type": "markdown",
   "metadata": {},
   "source": [
    "### Random Forest"
   ]
  },
  {
   "cell_type": "code",
   "execution_count": 44,
   "metadata": {},
   "outputs": [],
   "source": [
    "from sklearn.ensemble import RandomForestClassifier\n",
    "model = RandomForestClassifier(n_estimators=500)\n",
    "model.fit(X_train_fs, y_train)\n",
    "y_model = model.predict(X_test_fs)"
   ]
  },
  {
   "cell_type": "code",
   "execution_count": 45,
   "metadata": {},
   "outputs": [
    {
     "name": "stdout",
     "output_type": "stream",
     "text": [
      "Accuracy: 0.646180860403863\n"
     ]
    }
   ],
   "source": [
    "from sklearn.metrics import accuracy_score\n",
    "print(\"Accuracy: {}\".format(accuracy_score(y_test, y_model)))"
   ]
  },
  {
   "cell_type": "code",
   "execution_count": 58,
   "metadata": {},
   "outputs": [],
   "source": [
    "pickle.dump( model, open( \"pickles/random_forest_21_columns\", \"wb\" ) )"
   ]
  },
  {
   "cell_type": "code",
   "execution_count": null,
   "metadata": {},
   "outputs": [],
   "source": [
    "#no me corre con mil árboles :(, lo voy a hacer con 500\n",
    "# con 500 árboles y 50 variables: 0.646180860403863"
   ]
  },
  {
   "cell_type": "code",
   "execution_count": null,
   "metadata": {},
   "outputs": [],
   "source": []
  },
  {
   "cell_type": "code",
   "execution_count": null,
   "metadata": {},
   "outputs": [],
   "source": [
    "# Accuracy: 0.5881516785818806 con la seleccion de features de 21 variables.  "
   ]
  },
  {
   "cell_type": "code",
   "execution_count": null,
   "metadata": {},
   "outputs": [],
   "source": [
    "# Con todo el data set nos habia dado accuracy: 0.6539343009931246"
   ]
  },
  {
   "cell_type": "markdown",
   "metadata": {},
   "source": [
    "### Knn"
   ]
  },
  {
   "cell_type": "code",
   "execution_count": 19,
   "metadata": {},
   "outputs": [],
   "source": [
    "from sklearn.metrics import accuracy_score"
   ]
  },
  {
   "cell_type": "code",
   "execution_count": 26,
   "metadata": {},
   "outputs": [
    {
     "name": "stdout",
     "output_type": "stream",
     "text": [
      "CPU times: user 1min 30s, sys: 27.9 ms, total: 1min 30s\n",
      "Wall time: 1min 30s\n"
     ]
    }
   ],
   "source": [
    "%%time\n",
    "from sklearn.neighbors import KNeighborsClassifier\n",
    "model_knn = KNeighborsClassifier(n_neighbors=15)\n",
    "model_knn.fit(X_train, y_train)\n",
    "y_model_knn = model_knn.predict(X_test)"
   ]
  },
  {
   "cell_type": "code",
   "execution_count": 27,
   "metadata": {},
   "outputs": [
    {
     "name": "stdout",
     "output_type": "stream",
     "text": [
      "Accuracy: 0.6305029474476358\n"
     ]
    }
   ],
   "source": [
    "print(\"Accuracy: {}\".format(accuracy_score(y_test, y_model_knn)))"
   ]
  },
  {
   "cell_type": "code",
   "execution_count": null,
   "metadata": {},
   "outputs": [],
   "source": [
    "# 10 VECINOS\n",
    "#accuracy 50 variables: 0.5876499853672812\n",
    "#accuracy con todas las variables: 0.5976002341235002\n",
    "# 5 VECINOS\n",
    "#accuracy con todas las variables: 0.590994606797943, 2 min\n",
    "# 15 VECINOS\n",
    "#accuracy con todas las variables: 0.59772565742715, 2 min\n",
    "\n",
    "#sin estandarizar variedad, 15 vecinos, todas las variables: 0.6305029474476358"
   ]
  },
  {
   "cell_type": "markdown",
   "metadata": {},
   "source": [
    "### SVM"
   ]
  },
  {
   "cell_type": "code",
   "execution_count": 32,
   "metadata": {},
   "outputs": [
    {
     "name": "stdout",
     "output_type": "stream",
     "text": [
      "CPU times: user 13min 51s, sys: 515 ms, total: 13min 52s\n",
      "Wall time: 13min 54s\n"
     ]
    }
   ],
   "source": [
    "%%time\n",
    "from sklearn import svm\n",
    "model_svm = svm.SVC(kernel='linear', probability=True, random_state=0)\n",
    "model_svm.fit(X_train_fs, y_train)\n",
    "y_model_svm = model_svm.predict(X_test_fs)"
   ]
  },
  {
   "cell_type": "code",
   "execution_count": 33,
   "metadata": {},
   "outputs": [
    {
     "name": "stdout",
     "output_type": "stream",
     "text": [
      "Accuracy: 0.6660813579163009\n"
     ]
    }
   ],
   "source": [
    "print(\"Accuracy: {}\".format(accuracy_score(y_test, y_model_svm)))"
   ]
  },
  {
   "cell_type": "code",
   "execution_count": null,
   "metadata": {},
   "outputs": [],
   "source": [
    "#accuracy con todas las variables: 0.6856892010535558, se tardó 25 minutos\n",
    "#accurCY con 50 variables: 0.6660813579163009, se tardó 13 minutos"
   ]
  },
  {
   "cell_type": "markdown",
   "metadata": {},
   "source": [
    "### Árbol de Decisiones"
   ]
  },
  {
   "cell_type": "code",
   "execution_count": 36,
   "metadata": {},
   "outputs": [
    {
     "name": "stdout",
     "output_type": "stream",
     "text": [
      "CPU times: user 784 ms, sys: 0 ns, total: 784 ms\n",
      "Wall time: 783 ms\n"
     ]
    }
   ],
   "source": [
    "%%time\n",
    "from sklearn.tree import DecisionTreeClassifier\n",
    "model_dt = DecisionTreeClassifier()\n",
    "model_dt.fit(X_train_fs, y_train)\n",
    "y_model_dt = model_dt.predict(X_test_fs)"
   ]
  },
  {
   "cell_type": "code",
   "execution_count": 37,
   "metadata": {},
   "outputs": [
    {
     "name": "stdout",
     "output_type": "stream",
     "text": [
      "Accuracy: 0.5752330783059493\n"
     ]
    }
   ],
   "source": [
    "print(\"Accuracy: {}\".format(accuracy_score(y_test, y_model_dt)))"
   ]
  },
  {
   "cell_type": "code",
   "execution_count": null,
   "metadata": {},
   "outputs": [],
   "source": [
    "#accuracy con todas las variables:  0.5939629583176554, se tarda un segundo\n",
    "# accuracy con 50: 0.5752330783059493, menos d eun segundo"
   ]
  },
  {
   "cell_type": "markdown",
   "metadata": {},
   "source": [
    "### Gradient Boosting"
   ]
  },
  {
   "cell_type": "code",
   "execution_count": 40,
   "metadata": {},
   "outputs": [
    {
     "name": "stdout",
     "output_type": "stream",
     "text": [
      "CPU times: user 50.5 s, sys: 16 ms, total: 50.6 s\n",
      "Wall time: 50.6 s\n"
     ]
    }
   ],
   "source": [
    "%%time\n",
    "from sklearn.ensemble import GradientBoostingClassifier, AdaBoostClassifier\n",
    "model_gb = GradientBoostingClassifier(learning_rate=0.05, subsample=0.5, max_depth=6, n_estimators=10)\n",
    "model_gb.fit(X_train_fs, y_train)\n",
    "y_model_gb = model_gb.predict(X_test_fs)"
   ]
  },
  {
   "cell_type": "code",
   "execution_count": 41,
   "metadata": {},
   "outputs": [
    {
     "name": "stdout",
     "output_type": "stream",
     "text": [
      "Accuracy: 0.6190476190476191\n"
     ]
    }
   ],
   "source": [
    "print(\"Accuracy: {}\".format(accuracy_score(y_test, y_model_gb)))"
   ]
  },
  {
   "cell_type": "code",
   "execution_count": null,
   "metadata": {},
   "outputs": [],
   "source": [
    "# accuracy con todas las variables:  0.6311718717337681, 1 minuto\n",
    "# accuracy con 50: 0.6190476190476191, menos de 1 minuto"
   ]
  },
  {
   "cell_type": "markdown",
   "metadata": {},
   "source": [
    "### Logistic Regression"
   ]
  },
  {
   "cell_type": "code",
   "execution_count": 29,
   "metadata": {},
   "outputs": [
    {
     "name": "stdout",
     "output_type": "stream",
     "text": [
      "CPU times: user 1min 17s, sys: 26.3 ms, total: 1min 17s\n",
      "Wall time: 1min 17s\n"
     ]
    }
   ],
   "source": [
    "%%time\n",
    "from sklearn.linear_model import LogisticRegression\n",
    "model_lr = LogisticRegression(penalty='l2', C=1e5, solver='liblinear')\n",
    "model_lr.fit(X_train, y_train)\n",
    "y_model_lr = model_lr.predict(X_test)"
   ]
  },
  {
   "cell_type": "code",
   "execution_count": 30,
   "metadata": {},
   "outputs": [
    {
     "name": "stdout",
     "output_type": "stream",
     "text": [
      "Accuracy: 0.6399515029892554\n"
     ]
    }
   ],
   "source": [
    "print(\"Accuracy: {}\".format(accuracy_score(y_test, y_model_lr)))"
   ]
  },
  {
   "cell_type": "code",
   "execution_count": null,
   "metadata": {},
   "outputs": [],
   "source": [
    "# con 50 variables: 0.6178351937790041\n",
    "# con todas: 0.6399515029892554"
   ]
  },
  {
   "cell_type": "code",
   "execution_count": null,
   "metadata": {},
   "outputs": [],
   "source": []
  },
  {
   "cell_type": "markdown",
   "metadata": {},
   "source": [
    "## Magic Loop"
   ]
  },
  {
   "cell_type": "code",
   "execution_count": null,
   "metadata": {},
   "outputs": [],
   "source": [
    "from sklearn import metrics\n",
    "def precision_at_k(y_true, y_scores, k):\n",
    "    threshold = np.sort(y_scores)[::-1][int(k*len(y_scores))]\n",
    "    y_pred = np.asarray([1 if i >= threshold else 0 for i in y_scores])\n",
    "    return metrics.precision_score(y_true, y_pred)"
   ]
  },
  {
   "cell_type": "code",
   "execution_count": null,
   "metadata": {},
   "outputs": [],
   "source": [
    "#magic loop, máximo 5 hiper parámetros"
   ]
  },
  {
   "cell_type": "code",
   "execution_count": null,
   "metadata": {},
   "outputs": [],
   "source": [
    "def define_hyper_params():\n",
    "    clfs = {\n",
    "        'RF': RandomForestClassifier(n_estimators=100),\n",
    "        'KNN': KNeighborsClassifier(n_neighbors=15),\n",
    "        'SVM': svm.SVC(kernel='linear', probability=True, random_state=0),\n",
    "        'GB': GradientBoostingClassifier(learning_rate=0.05, subsample=0.5, max_depth=6, n_estimators=10),\n",
    "        'DT': DecisionTreeClassifier(),\n",
    "        'LR': LogisticRegression(penalty='l2', C=1e5, solver='liblinear')\n",
    "        \n",
    "            }\n",
    "\n",
    "    grid = { \n",
    "        'RF':{'n_estimators': [1,10,100,500], 'max_depth': [10,25,50,100], 'max_features': ['sqrt','log2'],'min_samples_split': [2,5,10]},\n",
    "        'KNN' :{'n_neighbors': [5,15,25,50],'weights': ['uniform','distance'],'algorithm': ['auto','ball_tree','kd_tree']},\n",
    "        'SVM' :{'C' :[0.00001,0.001,0.1,1],'kernel':['linear', 'rbf']},\n",
    "        'GB': {'n_estimators': [1,10,100,500], 'learning_rate' : [0.001,0.01,0.05,0.1,0.5],'subsample' : [0.1,0.5,1.0], 'max_depth': [3,5,10,20,50]},\n",
    "        'DT': {'criterion': ['gini', 'entropy'], 'max_depth': [5,10,20,50,100], 'max_features': ['sqrt','log2'],'min_samples_split': [2,5,10]},\n",
    "        'LR': { 'penalty': ['l1','l2'], 'C': [0.0001,0.001,0.01,0.1,1]}\n",
    "           }\n",
    "\n",
    "    return clfs, grid"
   ]
  },
  {
   "cell_type": "code",
   "execution_count": null,
   "metadata": {},
   "outputs": [],
   "source": [
    "def magic_loop(models_to_run, clfs, grid, X, y, search = 1):\n",
    "    for n in range(1, 2):\n",
    "        X_train, X_test, y_train, y_test = train_test_split(X, y)\n",
    "        for index, clf in enumerate([clfs[x] for x in models_to_run]):\n",
    "            print(models_to_run[index])\n",
    "            parameter_values = grid[models_to_run[index]]\n",
    "            try:\n",
    "                if(search):\n",
    "                    gs = GridSearchCV(clf, parameter_values, cv=5)\n",
    "                    start = time()\n",
    "                    y_pred_probs = gs.fit(X_train, y_train).predict_proba(X_test)[:,1]\n",
    "                    y_score = gs.fit(X_train, y_train).decision_function(X_test)\n",
    "                    print(precision_at_k(y_test, y_pred_probs, 0.05))\n",
    "                    print(\"GridSearch time: \" + (str)(time() - start))\n",
    "\n",
    "                else:\n",
    "                    start = time()\n",
    "                    rs = RandomizedSearchCV(clf, parameter_values, cv=5)\n",
    "                    y_pred_probs = rs.fit(X_train, y_train).predict_proba(X_test)[:,1]\n",
    "                    print(precision_at_k(y_test, y_pred_probs, 0.05)) \n",
    "                    print(\"RandomizedSearch time: \" + (str)(time() - start))\n",
    "            except IndexError as e:\n",
    "                print('Error:', e)\n",
    "                continue"
   ]
  },
  {
   "cell_type": "code",
   "execution_count": null,
   "metadata": {},
   "outputs": [],
   "source": [
    "clfs, grid = define_hyper_params()\n",
    "models = ['RF','KNN','SVM','GB','DT','LR']"
   ]
  },
  {
   "cell_type": "code",
   "execution_count": null,
   "metadata": {},
   "outputs": [],
   "source": [
    "# GridSearch\n",
    "magic_loop(models, clfs, grid, X, y, search = 1)"
   ]
  },
  {
   "cell_type": "code",
   "execution_count": null,
   "metadata": {},
   "outputs": [],
   "source": [
    "#RandomSearch\n",
    "#magic_loop(models, clfs, grid, X, y, search = 0)"
   ]
  },
  {
   "cell_type": "code",
   "execution_count": null,
   "metadata": {},
   "outputs": [],
   "source": []
  },
  {
   "cell_type": "code",
   "execution_count": null,
   "metadata": {},
   "outputs": [],
   "source": [
    "#### NO SE SI SIRVE: \n",
    "\n",
    "    ## Grid search CV to select best possible model.\n",
    "    grid_search = GridSearchCV(model,\n",
    "                               models_dict[\"random_forest\"][\"param_grid\"],\n",
    "                               cv=TimeSeriesSplit(n_splits=time_series_splits),\n",
    "                               scoring=evaluation_metric,\n",
    "                               return_train_score=True,\n",
    "                               n_jobs=-1\n",
    "                               )\n",
    "\n",
    "    grid_search.fit(X_train, y_train)\n",
    "\n",
    "    print(\"\\n++ Grid search results:\\n\")\n",
    "    print(\"    ++++ Best parameters: {}\".format(grid_search.best_params_))\n",
    "    print(\"    ++++ Best estimator: {}\".format(grid_search.best_estimator_))\n",
    "    print(\"    ++++ Number of features in best estimator: {} \\n\".format(grid_search.best_estimator_.n_features_))\n",
    "    print(\"    ++++ Best estimator score: {}\\n\".format(grid_search.best_score_))\n",
    "    print(\"    ++++ Best estimator oob score: {}\\n\".format(grid_search.best_estimator_.oob_score_))\n",
    "\n",
    "\n",
    "    ## Determining model's best estimators\n",
    "    feature_importance = pd.DataFrame(\n",
    "        {\n",
    "            \"Importance\": grid_search.best_estimator_.feature_importances_,\n",
    "            \"Feature\": df_features_prc_cols\n",
    "        }\n",
    "    )"
   ]
  },
  {
   "cell_type": "code",
   "execution_count": null,
   "metadata": {},
   "outputs": [],
   "source": [
    "###################\n",
    "## ML parameters ##\n",
    "###################\n",
    "\n",
    "## Models and parameters\n",
    "models_dict = {\n",
    "\n",
    "    \"random_forest\": {\n",
    "        \"model\": RandomForestClassifier(\n",
    "            max_features=6,\n",
    "            n_estimators=10,\n",
    "            max_leaf_nodes=10,\n",
    "            oob_score=True,\n",
    "            n_jobs=-1,\n",
    "            random_state=1111\n",
    "        ),\n",
    "        \"param_grid\": {\n",
    "            \"n_estimators\": [100, 300, 500, 800],\n",
    "            \"min_samples_leaf\": [3, 5, 7],\n",
    "            \"criterion\": ['gini']\n",
    "        }\n",
    "    },\n",
    "\n",
    "    \"decision_tree\": {\n",
    "        \"model\": DecisionTreeClassifier(\n",
    "            random_state=2222\n",
    "            ),\n",
    "        \"param_grid\": {\n",
    "            'max_depth': [5, 10, 15, None],\n",
    "            'min_samples_leaf': [3, 5, 7]\n",
    "        }\n",
    "    },\n",
    "\n",
    "}\n",
    "\n"
   ]
  },
  {
   "cell_type": "code",
   "execution_count": null,
   "metadata": {},
   "outputs": [],
   "source": []
  },
  {
   "cell_type": "code",
   "execution_count": null,
   "metadata": {},
   "outputs": [],
   "source": []
  },
  {
   "cell_type": "code",
   "execution_count": null,
   "metadata": {},
   "outputs": [],
   "source": [
    "from sklearn.linear_model import LogisticRegression\n",
    "\n",
    "classifier = LogisticRegression()\n",
    "\n",
    "classifier.fit(X_train, y_train)"
   ]
  },
  {
   "cell_type": "code",
   "execution_count": null,
   "metadata": {},
   "outputs": [],
   "source": []
  },
  {
   "cell_type": "code",
   "execution_count": null,
   "metadata": {},
   "outputs": [],
   "source": []
  },
  {
   "cell_type": "code",
   "execution_count": null,
   "metadata": {},
   "outputs": [],
   "source": []
  },
  {
   "cell_type": "code",
   "execution_count": null,
   "metadata": {},
   "outputs": [],
   "source": [
    "def magic_loop(models_dict, df_imp_features_prc, df_labels):\n",
    "    \"\"\"\n",
    "    \"\"\"\n",
    "\n",
    "\n",
    "    ## Splitting data in train and test\n",
    "    X_train, X_test, y_train, y_test = train_test_split(df_imp_features_prc, df_labels, test_size=0.3)\n",
    "\n",
    "\n",
    "    ##\n",
    "    models_mloop = {}\n",
    "    for mdl in models_dict:\n",
    "\n",
    "        model = models_dict[mdl][\"model\"]\n",
    "\n",
    "        grid_search = GridSearchCV(model,\n",
    "                               models_dict[mdl][\"param_grid\"],\n",
    "                               cv=TimeSeriesSplit(n_splits=time_series_splits),\n",
    "                               scoring=evaluation_metric,\n",
    "                               return_train_score=True,\n",
    "                               n_jobs=-1\n",
    "                               )\n",
    "        grid_search.fit(X_train, y_train)\n",
    "\n",
    "        models_mloop[mdl] = {\n",
    "            \"best_estimator\": grid_search.best_estimator_,\n",
    "            \"best_estimator_score\": grid_search.best_score_\n",
    "        }\n",
    "\n",
    "    sel_model = models_mloop[select_best_model(models_mloop)][\"best_estimator\"]\n",
    "\n",
    "\n",
    "    return sel_model, X_train, X_test, y_train, y_test\n"
   ]
  },
  {
   "cell_type": "code",
   "execution_count": null,
   "metadata": {},
   "outputs": [],
   "source": [
    "## Testing model with test data set.\n",
    "def best_model_predict_test(sel_model, X_test):\n",
    "    \"\"\"\n",
    "    Testing model with test data set.\n",
    "        args:\n",
    "            sel_model (sklearn model): best model obtained from magic loop.\n",
    "            X_test (numpy array): dataset to test best model.\n",
    "        returns:\n",
    "            test_predict_labs (array): labels predicted by best model.\n",
    "            test_predict_scores (array): probabilities related with classification by best model.\n",
    "    \"\"\"\n",
    "\n",
    "    ## Predict test labels and probabilities with selected model.\n",
    "    test_predict_labs = sel_model.predict(X_test)\n",
    "    test_predict_scores = sel_model.predict_proba(X_test)\n",
    "\n",
    "    return test_predict_labs, test_predict_scores"
   ]
  },
  {
   "cell_type": "code",
   "execution_count": null,
   "metadata": {},
   "outputs": [],
   "source": []
  }
 ],
 "metadata": {
  "kernelspec": {
   "display_name": "Python 3",
   "language": "python",
   "name": "python3"
  },
  "language_info": {
   "codemirror_mode": {
    "name": "ipython",
    "version": 3
   },
   "file_extension": ".py",
   "mimetype": "text/x-python",
   "name": "python",
   "nbconvert_exporter": "python",
   "pygments_lexer": "ipython3",
   "version": "3.8.5"
  }
 },
 "nbformat": 4,
 "nbformat_minor": 4
}
