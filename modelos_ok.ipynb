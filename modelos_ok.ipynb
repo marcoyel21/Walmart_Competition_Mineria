{
 "cells": [
  {
   "cell_type": "code",
   "execution_count": 1,
   "metadata": {},
   "outputs": [],
   "source": [
    "import feather\n",
    "import numpy as np \n",
    "import pandas as pd\n",
    "from sklearn.preprocessing import (OneHotEncoder,StandardScaler)\n",
    "from sklearn.pipeline import Pipeline\n",
    "\n",
    "from sklearn.model_selection import (\n",
    "    GridSearchCV, RandomizedSearchCV)"
   ]
  },
  {
   "cell_type": "code",
   "execution_count": 2,
   "metadata": {},
   "outputs": [],
   "source": [
    "from sklearn.compose import ColumnTransformer"
   ]
  },
  {
   "cell_type": "code",
   "execution_count": 3,
   "metadata": {},
   "outputs": [],
   "source": [
    "#Modelos a utilizar:\n",
    "from sklearn.ensemble import RandomForestClassifier\n",
    "from sklearn.tree import DecisionTreeClassifier"
   ]
  },
  {
   "cell_type": "code",
   "execution_count": 4,
   "metadata": {},
   "outputs": [],
   "source": [
    "walmart= feather.read_dataframe('feathers/walmart_wide_train.feather')"
   ]
  },
  {
   "cell_type": "code",
   "execution_count": 5,
   "metadata": {},
   "outputs": [
    {
     "data": {
      "text/html": [
       "<div>\n",
       "<style scoped>\n",
       "    .dataframe tbody tr th:only-of-type {\n",
       "        vertical-align: middle;\n",
       "    }\n",
       "\n",
       "    .dataframe tbody tr th {\n",
       "        vertical-align: top;\n",
       "    }\n",
       "\n",
       "    .dataframe thead th {\n",
       "        text-align: right;\n",
       "    }\n",
       "</style>\n",
       "<table border=\"1\" class=\"dataframe\">\n",
       "  <thead>\n",
       "    <tr style=\"text-align: right;\">\n",
       "      <th></th>\n",
       "      <th>visit_number</th>\n",
       "      <th>trip_type</th>\n",
       "      <th>scan_count</th>\n",
       "      <th>department_description_1-HR PHOTO</th>\n",
       "      <th>department_description_ACCESSORIES</th>\n",
       "      <th>department_description_AUTOMOTIVE</th>\n",
       "      <th>department_description_BAKERY</th>\n",
       "      <th>department_description_BATH AND SHOWER</th>\n",
       "      <th>department_description_BEAUTY</th>\n",
       "      <th>department_description_BEDDING</th>\n",
       "      <th>...</th>\n",
       "      <th>department_description_WIRELESS</th>\n",
       "      <th>regreso</th>\n",
       "      <th>variedad</th>\n",
       "      <th>weekday_Friday</th>\n",
       "      <th>weekday_Monday</th>\n",
       "      <th>weekday_Saturday</th>\n",
       "      <th>weekday_Sunday</th>\n",
       "      <th>weekday_Thursday</th>\n",
       "      <th>weekday_Tuesday</th>\n",
       "      <th>weekday_Wednesday</th>\n",
       "    </tr>\n",
       "  </thead>\n",
       "  <tbody>\n",
       "    <tr>\n",
       "      <th>0</th>\n",
       "      <td>5.0</td>\n",
       "      <td>999</td>\n",
       "      <td>-1.0</td>\n",
       "      <td>0.0</td>\n",
       "      <td>0.0</td>\n",
       "      <td>0.0</td>\n",
       "      <td>0.0</td>\n",
       "      <td>0.0</td>\n",
       "      <td>0.0</td>\n",
       "      <td>0.0</td>\n",
       "      <td>...</td>\n",
       "      <td>0.0</td>\n",
       "      <td>1.0</td>\n",
       "      <td>1</td>\n",
       "      <td>1</td>\n",
       "      <td>0</td>\n",
       "      <td>0</td>\n",
       "      <td>0</td>\n",
       "      <td>0</td>\n",
       "      <td>0</td>\n",
       "      <td>0</td>\n",
       "    </tr>\n",
       "    <tr>\n",
       "      <th>1</th>\n",
       "      <td>7.0</td>\n",
       "      <td>30</td>\n",
       "      <td>2.0</td>\n",
       "      <td>0.0</td>\n",
       "      <td>0.0</td>\n",
       "      <td>0.0</td>\n",
       "      <td>0.0</td>\n",
       "      <td>0.0</td>\n",
       "      <td>0.0</td>\n",
       "      <td>0.0</td>\n",
       "      <td>...</td>\n",
       "      <td>0.0</td>\n",
       "      <td>0.0</td>\n",
       "      <td>2</td>\n",
       "      <td>1</td>\n",
       "      <td>0</td>\n",
       "      <td>0</td>\n",
       "      <td>0</td>\n",
       "      <td>0</td>\n",
       "      <td>0</td>\n",
       "      <td>0</td>\n",
       "    </tr>\n",
       "    <tr>\n",
       "      <th>2</th>\n",
       "      <td>8.0</td>\n",
       "      <td>26</td>\n",
       "      <td>28.0</td>\n",
       "      <td>0.0</td>\n",
       "      <td>0.0</td>\n",
       "      <td>0.0</td>\n",
       "      <td>0.0</td>\n",
       "      <td>0.0</td>\n",
       "      <td>0.0</td>\n",
       "      <td>0.0</td>\n",
       "      <td>...</td>\n",
       "      <td>0.0</td>\n",
       "      <td>1.0</td>\n",
       "      <td>23</td>\n",
       "      <td>1</td>\n",
       "      <td>0</td>\n",
       "      <td>0</td>\n",
       "      <td>0</td>\n",
       "      <td>0</td>\n",
       "      <td>0</td>\n",
       "      <td>0</td>\n",
       "    </tr>\n",
       "    <tr>\n",
       "      <th>3</th>\n",
       "      <td>9.0</td>\n",
       "      <td>8</td>\n",
       "      <td>3.0</td>\n",
       "      <td>0.0</td>\n",
       "      <td>0.0</td>\n",
       "      <td>0.0</td>\n",
       "      <td>0.0</td>\n",
       "      <td>0.0</td>\n",
       "      <td>0.0</td>\n",
       "      <td>0.0</td>\n",
       "      <td>...</td>\n",
       "      <td>0.0</td>\n",
       "      <td>0.0</td>\n",
       "      <td>3</td>\n",
       "      <td>1</td>\n",
       "      <td>0</td>\n",
       "      <td>0</td>\n",
       "      <td>0</td>\n",
       "      <td>0</td>\n",
       "      <td>0</td>\n",
       "      <td>0</td>\n",
       "    </tr>\n",
       "    <tr>\n",
       "      <th>4</th>\n",
       "      <td>10.0</td>\n",
       "      <td>8</td>\n",
       "      <td>3.0</td>\n",
       "      <td>0.0</td>\n",
       "      <td>0.0</td>\n",
       "      <td>0.0</td>\n",
       "      <td>0.0</td>\n",
       "      <td>0.0</td>\n",
       "      <td>0.0</td>\n",
       "      <td>0.0</td>\n",
       "      <td>...</td>\n",
       "      <td>0.0</td>\n",
       "      <td>0.0</td>\n",
       "      <td>3</td>\n",
       "      <td>1</td>\n",
       "      <td>0</td>\n",
       "      <td>0</td>\n",
       "      <td>0</td>\n",
       "      <td>0</td>\n",
       "      <td>0</td>\n",
       "      <td>0</td>\n",
       "    </tr>\n",
       "    <tr>\n",
       "      <th>...</th>\n",
       "      <td>...</td>\n",
       "      <td>...</td>\n",
       "      <td>...</td>\n",
       "      <td>...</td>\n",
       "      <td>...</td>\n",
       "      <td>...</td>\n",
       "      <td>...</td>\n",
       "      <td>...</td>\n",
       "      <td>...</td>\n",
       "      <td>...</td>\n",
       "      <td>...</td>\n",
       "      <td>...</td>\n",
       "      <td>...</td>\n",
       "      <td>...</td>\n",
       "      <td>...</td>\n",
       "      <td>...</td>\n",
       "      <td>...</td>\n",
       "      <td>...</td>\n",
       "      <td>...</td>\n",
       "      <td>...</td>\n",
       "      <td>...</td>\n",
       "    </tr>\n",
       "    <tr>\n",
       "      <th>95669</th>\n",
       "      <td>191343.0</td>\n",
       "      <td>25</td>\n",
       "      <td>9.0</td>\n",
       "      <td>0.0</td>\n",
       "      <td>0.0</td>\n",
       "      <td>0.0</td>\n",
       "      <td>0.0</td>\n",
       "      <td>0.0</td>\n",
       "      <td>0.0</td>\n",
       "      <td>0.0</td>\n",
       "      <td>...</td>\n",
       "      <td>0.0</td>\n",
       "      <td>0.0</td>\n",
       "      <td>7</td>\n",
       "      <td>0</td>\n",
       "      <td>0</td>\n",
       "      <td>0</td>\n",
       "      <td>1</td>\n",
       "      <td>0</td>\n",
       "      <td>0</td>\n",
       "      <td>0</td>\n",
       "    </tr>\n",
       "    <tr>\n",
       "      <th>95670</th>\n",
       "      <td>191344.0</td>\n",
       "      <td>22</td>\n",
       "      <td>5.0</td>\n",
       "      <td>0.0</td>\n",
       "      <td>0.0</td>\n",
       "      <td>0.0</td>\n",
       "      <td>0.0</td>\n",
       "      <td>0.0</td>\n",
       "      <td>4.0</td>\n",
       "      <td>0.0</td>\n",
       "      <td>...</td>\n",
       "      <td>1.0</td>\n",
       "      <td>0.0</td>\n",
       "      <td>5</td>\n",
       "      <td>0</td>\n",
       "      <td>0</td>\n",
       "      <td>0</td>\n",
       "      <td>1</td>\n",
       "      <td>0</td>\n",
       "      <td>0</td>\n",
       "      <td>0</td>\n",
       "    </tr>\n",
       "    <tr>\n",
       "      <th>95671</th>\n",
       "      <td>191345.0</td>\n",
       "      <td>39</td>\n",
       "      <td>17.0</td>\n",
       "      <td>0.0</td>\n",
       "      <td>0.0</td>\n",
       "      <td>0.0</td>\n",
       "      <td>0.0</td>\n",
       "      <td>0.0</td>\n",
       "      <td>1.0</td>\n",
       "      <td>0.0</td>\n",
       "      <td>...</td>\n",
       "      <td>0.0</td>\n",
       "      <td>0.0</td>\n",
       "      <td>13</td>\n",
       "      <td>0</td>\n",
       "      <td>0</td>\n",
       "      <td>0</td>\n",
       "      <td>1</td>\n",
       "      <td>0</td>\n",
       "      <td>0</td>\n",
       "      <td>0</td>\n",
       "    </tr>\n",
       "    <tr>\n",
       "      <th>95672</th>\n",
       "      <td>191346.0</td>\n",
       "      <td>39</td>\n",
       "      <td>17.0</td>\n",
       "      <td>0.0</td>\n",
       "      <td>0.0</td>\n",
       "      <td>0.0</td>\n",
       "      <td>0.0</td>\n",
       "      <td>0.0</td>\n",
       "      <td>0.0</td>\n",
       "      <td>0.0</td>\n",
       "      <td>...</td>\n",
       "      <td>0.0</td>\n",
       "      <td>0.0</td>\n",
       "      <td>17</td>\n",
       "      <td>0</td>\n",
       "      <td>0</td>\n",
       "      <td>0</td>\n",
       "      <td>1</td>\n",
       "      <td>0</td>\n",
       "      <td>0</td>\n",
       "      <td>0</td>\n",
       "    </tr>\n",
       "    <tr>\n",
       "      <th>95673</th>\n",
       "      <td>191347.0</td>\n",
       "      <td>8</td>\n",
       "      <td>2.0</td>\n",
       "      <td>0.0</td>\n",
       "      <td>0.0</td>\n",
       "      <td>0.0</td>\n",
       "      <td>0.0</td>\n",
       "      <td>0.0</td>\n",
       "      <td>0.0</td>\n",
       "      <td>0.0</td>\n",
       "      <td>...</td>\n",
       "      <td>0.0</td>\n",
       "      <td>0.0</td>\n",
       "      <td>2</td>\n",
       "      <td>0</td>\n",
       "      <td>0</td>\n",
       "      <td>0</td>\n",
       "      <td>1</td>\n",
       "      <td>0</td>\n",
       "      <td>0</td>\n",
       "      <td>0</td>\n",
       "    </tr>\n",
       "  </tbody>\n",
       "</table>\n",
       "<p>95674 rows × 79 columns</p>\n",
       "</div>"
      ],
      "text/plain": [
       "       visit_number trip_type  scan_count  department_description_1-HR PHOTO  \\\n",
       "0               5.0       999        -1.0                                0.0   \n",
       "1               7.0        30         2.0                                0.0   \n",
       "2               8.0        26        28.0                                0.0   \n",
       "3               9.0         8         3.0                                0.0   \n",
       "4              10.0         8         3.0                                0.0   \n",
       "...             ...       ...         ...                                ...   \n",
       "95669      191343.0        25         9.0                                0.0   \n",
       "95670      191344.0        22         5.0                                0.0   \n",
       "95671      191345.0        39        17.0                                0.0   \n",
       "95672      191346.0        39        17.0                                0.0   \n",
       "95673      191347.0         8         2.0                                0.0   \n",
       "\n",
       "       department_description_ACCESSORIES  department_description_AUTOMOTIVE  \\\n",
       "0                                     0.0                                0.0   \n",
       "1                                     0.0                                0.0   \n",
       "2                                     0.0                                0.0   \n",
       "3                                     0.0                                0.0   \n",
       "4                                     0.0                                0.0   \n",
       "...                                   ...                                ...   \n",
       "95669                                 0.0                                0.0   \n",
       "95670                                 0.0                                0.0   \n",
       "95671                                 0.0                                0.0   \n",
       "95672                                 0.0                                0.0   \n",
       "95673                                 0.0                                0.0   \n",
       "\n",
       "       department_description_BAKERY  department_description_BATH AND SHOWER  \\\n",
       "0                                0.0                                     0.0   \n",
       "1                                0.0                                     0.0   \n",
       "2                                0.0                                     0.0   \n",
       "3                                0.0                                     0.0   \n",
       "4                                0.0                                     0.0   \n",
       "...                              ...                                     ...   \n",
       "95669                            0.0                                     0.0   \n",
       "95670                            0.0                                     0.0   \n",
       "95671                            0.0                                     0.0   \n",
       "95672                            0.0                                     0.0   \n",
       "95673                            0.0                                     0.0   \n",
       "\n",
       "       department_description_BEAUTY  department_description_BEDDING  ...  \\\n",
       "0                                0.0                             0.0  ...   \n",
       "1                                0.0                             0.0  ...   \n",
       "2                                0.0                             0.0  ...   \n",
       "3                                0.0                             0.0  ...   \n",
       "4                                0.0                             0.0  ...   \n",
       "...                              ...                             ...  ...   \n",
       "95669                            0.0                             0.0  ...   \n",
       "95670                            4.0                             0.0  ...   \n",
       "95671                            1.0                             0.0  ...   \n",
       "95672                            0.0                             0.0  ...   \n",
       "95673                            0.0                             0.0  ...   \n",
       "\n",
       "       department_description_WIRELESS  regreso  variedad  weekday_Friday  \\\n",
       "0                                  0.0      1.0         1               1   \n",
       "1                                  0.0      0.0         2               1   \n",
       "2                                  0.0      1.0        23               1   \n",
       "3                                  0.0      0.0         3               1   \n",
       "4                                  0.0      0.0         3               1   \n",
       "...                                ...      ...       ...             ...   \n",
       "95669                              0.0      0.0         7               0   \n",
       "95670                              1.0      0.0         5               0   \n",
       "95671                              0.0      0.0        13               0   \n",
       "95672                              0.0      0.0        17               0   \n",
       "95673                              0.0      0.0         2               0   \n",
       "\n",
       "       weekday_Monday  weekday_Saturday  weekday_Sunday  weekday_Thursday  \\\n",
       "0                   0                 0               0                 0   \n",
       "1                   0                 0               0                 0   \n",
       "2                   0                 0               0                 0   \n",
       "3                   0                 0               0                 0   \n",
       "4                   0                 0               0                 0   \n",
       "...               ...               ...             ...               ...   \n",
       "95669               0                 0               1                 0   \n",
       "95670               0                 0               1                 0   \n",
       "95671               0                 0               1                 0   \n",
       "95672               0                 0               1                 0   \n",
       "95673               0                 0               1                 0   \n",
       "\n",
       "       weekday_Tuesday  weekday_Wednesday  \n",
       "0                    0                  0  \n",
       "1                    0                  0  \n",
       "2                    0                  0  \n",
       "3                    0                  0  \n",
       "4                    0                  0  \n",
       "...                ...                ...  \n",
       "95669                0                  0  \n",
       "95670                0                  0  \n",
       "95671                0                  0  \n",
       "95672                0                  0  \n",
       "95673                0                  0  \n",
       "\n",
       "[95674 rows x 79 columns]"
      ]
     },
     "execution_count": 5,
     "metadata": {},
     "output_type": "execute_result"
    }
   ],
   "source": [
    "walmart"
   ]
  },
  {
   "cell_type": "markdown",
   "metadata": {},
   "source": [
    "features:"
   ]
  },
  {
   "cell_type": "code",
   "execution_count": 6,
   "metadata": {},
   "outputs": [],
   "source": [
    "X = walmart.drop(['trip_type','visit_number'], axis=1)\n",
    "#X = walmart.drop(['TripType','VisitNumber'], axis=1)"
   ]
  },
  {
   "cell_type": "code",
   "execution_count": 7,
   "metadata": {
    "scrolled": true
   },
   "outputs": [
    {
     "data": {
      "text/html": [
       "<div>\n",
       "<style scoped>\n",
       "    .dataframe tbody tr th:only-of-type {\n",
       "        vertical-align: middle;\n",
       "    }\n",
       "\n",
       "    .dataframe tbody tr th {\n",
       "        vertical-align: top;\n",
       "    }\n",
       "\n",
       "    .dataframe thead th {\n",
       "        text-align: right;\n",
       "    }\n",
       "</style>\n",
       "<table border=\"1\" class=\"dataframe\">\n",
       "  <thead>\n",
       "    <tr style=\"text-align: right;\">\n",
       "      <th></th>\n",
       "      <th>scan_count</th>\n",
       "      <th>department_description_1-HR PHOTO</th>\n",
       "      <th>department_description_ACCESSORIES</th>\n",
       "      <th>department_description_AUTOMOTIVE</th>\n",
       "      <th>department_description_BAKERY</th>\n",
       "      <th>department_description_BATH AND SHOWER</th>\n",
       "      <th>department_description_BEAUTY</th>\n",
       "      <th>department_description_BEDDING</th>\n",
       "      <th>department_description_BOOKS AND MAGAZINES</th>\n",
       "      <th>department_description_BOYS WEAR</th>\n",
       "      <th>...</th>\n",
       "      <th>department_description_WIRELESS</th>\n",
       "      <th>regreso</th>\n",
       "      <th>variedad</th>\n",
       "      <th>weekday_Friday</th>\n",
       "      <th>weekday_Monday</th>\n",
       "      <th>weekday_Saturday</th>\n",
       "      <th>weekday_Sunday</th>\n",
       "      <th>weekday_Thursday</th>\n",
       "      <th>weekday_Tuesday</th>\n",
       "      <th>weekday_Wednesday</th>\n",
       "    </tr>\n",
       "  </thead>\n",
       "  <tbody>\n",
       "    <tr>\n",
       "      <th>0</th>\n",
       "      <td>-1.0</td>\n",
       "      <td>0.0</td>\n",
       "      <td>0.0</td>\n",
       "      <td>0.0</td>\n",
       "      <td>0.0</td>\n",
       "      <td>0.0</td>\n",
       "      <td>0.0</td>\n",
       "      <td>0.0</td>\n",
       "      <td>0.0</td>\n",
       "      <td>0.0</td>\n",
       "      <td>...</td>\n",
       "      <td>0.0</td>\n",
       "      <td>1.0</td>\n",
       "      <td>1</td>\n",
       "      <td>1</td>\n",
       "      <td>0</td>\n",
       "      <td>0</td>\n",
       "      <td>0</td>\n",
       "      <td>0</td>\n",
       "      <td>0</td>\n",
       "      <td>0</td>\n",
       "    </tr>\n",
       "    <tr>\n",
       "      <th>1</th>\n",
       "      <td>2.0</td>\n",
       "      <td>0.0</td>\n",
       "      <td>0.0</td>\n",
       "      <td>0.0</td>\n",
       "      <td>0.0</td>\n",
       "      <td>0.0</td>\n",
       "      <td>0.0</td>\n",
       "      <td>0.0</td>\n",
       "      <td>0.0</td>\n",
       "      <td>0.0</td>\n",
       "      <td>...</td>\n",
       "      <td>0.0</td>\n",
       "      <td>0.0</td>\n",
       "      <td>2</td>\n",
       "      <td>1</td>\n",
       "      <td>0</td>\n",
       "      <td>0</td>\n",
       "      <td>0</td>\n",
       "      <td>0</td>\n",
       "      <td>0</td>\n",
       "      <td>0</td>\n",
       "    </tr>\n",
       "    <tr>\n",
       "      <th>2</th>\n",
       "      <td>28.0</td>\n",
       "      <td>0.0</td>\n",
       "      <td>0.0</td>\n",
       "      <td>0.0</td>\n",
       "      <td>0.0</td>\n",
       "      <td>0.0</td>\n",
       "      <td>0.0</td>\n",
       "      <td>0.0</td>\n",
       "      <td>0.0</td>\n",
       "      <td>0.0</td>\n",
       "      <td>...</td>\n",
       "      <td>0.0</td>\n",
       "      <td>1.0</td>\n",
       "      <td>23</td>\n",
       "      <td>1</td>\n",
       "      <td>0</td>\n",
       "      <td>0</td>\n",
       "      <td>0</td>\n",
       "      <td>0</td>\n",
       "      <td>0</td>\n",
       "      <td>0</td>\n",
       "    </tr>\n",
       "    <tr>\n",
       "      <th>3</th>\n",
       "      <td>3.0</td>\n",
       "      <td>0.0</td>\n",
       "      <td>0.0</td>\n",
       "      <td>0.0</td>\n",
       "      <td>0.0</td>\n",
       "      <td>0.0</td>\n",
       "      <td>0.0</td>\n",
       "      <td>0.0</td>\n",
       "      <td>0.0</td>\n",
       "      <td>0.0</td>\n",
       "      <td>...</td>\n",
       "      <td>0.0</td>\n",
       "      <td>0.0</td>\n",
       "      <td>3</td>\n",
       "      <td>1</td>\n",
       "      <td>0</td>\n",
       "      <td>0</td>\n",
       "      <td>0</td>\n",
       "      <td>0</td>\n",
       "      <td>0</td>\n",
       "      <td>0</td>\n",
       "    </tr>\n",
       "    <tr>\n",
       "      <th>4</th>\n",
       "      <td>3.0</td>\n",
       "      <td>0.0</td>\n",
       "      <td>0.0</td>\n",
       "      <td>0.0</td>\n",
       "      <td>0.0</td>\n",
       "      <td>0.0</td>\n",
       "      <td>0.0</td>\n",
       "      <td>0.0</td>\n",
       "      <td>0.0</td>\n",
       "      <td>0.0</td>\n",
       "      <td>...</td>\n",
       "      <td>0.0</td>\n",
       "      <td>0.0</td>\n",
       "      <td>3</td>\n",
       "      <td>1</td>\n",
       "      <td>0</td>\n",
       "      <td>0</td>\n",
       "      <td>0</td>\n",
       "      <td>0</td>\n",
       "      <td>0</td>\n",
       "      <td>0</td>\n",
       "    </tr>\n",
       "    <tr>\n",
       "      <th>...</th>\n",
       "      <td>...</td>\n",
       "      <td>...</td>\n",
       "      <td>...</td>\n",
       "      <td>...</td>\n",
       "      <td>...</td>\n",
       "      <td>...</td>\n",
       "      <td>...</td>\n",
       "      <td>...</td>\n",
       "      <td>...</td>\n",
       "      <td>...</td>\n",
       "      <td>...</td>\n",
       "      <td>...</td>\n",
       "      <td>...</td>\n",
       "      <td>...</td>\n",
       "      <td>...</td>\n",
       "      <td>...</td>\n",
       "      <td>...</td>\n",
       "      <td>...</td>\n",
       "      <td>...</td>\n",
       "      <td>...</td>\n",
       "      <td>...</td>\n",
       "    </tr>\n",
       "    <tr>\n",
       "      <th>95669</th>\n",
       "      <td>9.0</td>\n",
       "      <td>0.0</td>\n",
       "      <td>0.0</td>\n",
       "      <td>0.0</td>\n",
       "      <td>0.0</td>\n",
       "      <td>0.0</td>\n",
       "      <td>0.0</td>\n",
       "      <td>0.0</td>\n",
       "      <td>0.0</td>\n",
       "      <td>0.0</td>\n",
       "      <td>...</td>\n",
       "      <td>0.0</td>\n",
       "      <td>0.0</td>\n",
       "      <td>7</td>\n",
       "      <td>0</td>\n",
       "      <td>0</td>\n",
       "      <td>0</td>\n",
       "      <td>1</td>\n",
       "      <td>0</td>\n",
       "      <td>0</td>\n",
       "      <td>0</td>\n",
       "    </tr>\n",
       "    <tr>\n",
       "      <th>95670</th>\n",
       "      <td>5.0</td>\n",
       "      <td>0.0</td>\n",
       "      <td>0.0</td>\n",
       "      <td>0.0</td>\n",
       "      <td>0.0</td>\n",
       "      <td>0.0</td>\n",
       "      <td>4.0</td>\n",
       "      <td>0.0</td>\n",
       "      <td>0.0</td>\n",
       "      <td>0.0</td>\n",
       "      <td>...</td>\n",
       "      <td>1.0</td>\n",
       "      <td>0.0</td>\n",
       "      <td>5</td>\n",
       "      <td>0</td>\n",
       "      <td>0</td>\n",
       "      <td>0</td>\n",
       "      <td>1</td>\n",
       "      <td>0</td>\n",
       "      <td>0</td>\n",
       "      <td>0</td>\n",
       "    </tr>\n",
       "    <tr>\n",
       "      <th>95671</th>\n",
       "      <td>17.0</td>\n",
       "      <td>0.0</td>\n",
       "      <td>0.0</td>\n",
       "      <td>0.0</td>\n",
       "      <td>0.0</td>\n",
       "      <td>0.0</td>\n",
       "      <td>1.0</td>\n",
       "      <td>0.0</td>\n",
       "      <td>0.0</td>\n",
       "      <td>0.0</td>\n",
       "      <td>...</td>\n",
       "      <td>0.0</td>\n",
       "      <td>0.0</td>\n",
       "      <td>13</td>\n",
       "      <td>0</td>\n",
       "      <td>0</td>\n",
       "      <td>0</td>\n",
       "      <td>1</td>\n",
       "      <td>0</td>\n",
       "      <td>0</td>\n",
       "      <td>0</td>\n",
       "    </tr>\n",
       "    <tr>\n",
       "      <th>95672</th>\n",
       "      <td>17.0</td>\n",
       "      <td>0.0</td>\n",
       "      <td>0.0</td>\n",
       "      <td>0.0</td>\n",
       "      <td>0.0</td>\n",
       "      <td>0.0</td>\n",
       "      <td>0.0</td>\n",
       "      <td>0.0</td>\n",
       "      <td>0.0</td>\n",
       "      <td>0.0</td>\n",
       "      <td>...</td>\n",
       "      <td>0.0</td>\n",
       "      <td>0.0</td>\n",
       "      <td>17</td>\n",
       "      <td>0</td>\n",
       "      <td>0</td>\n",
       "      <td>0</td>\n",
       "      <td>1</td>\n",
       "      <td>0</td>\n",
       "      <td>0</td>\n",
       "      <td>0</td>\n",
       "    </tr>\n",
       "    <tr>\n",
       "      <th>95673</th>\n",
       "      <td>2.0</td>\n",
       "      <td>0.0</td>\n",
       "      <td>0.0</td>\n",
       "      <td>0.0</td>\n",
       "      <td>0.0</td>\n",
       "      <td>0.0</td>\n",
       "      <td>0.0</td>\n",
       "      <td>0.0</td>\n",
       "      <td>0.0</td>\n",
       "      <td>0.0</td>\n",
       "      <td>...</td>\n",
       "      <td>0.0</td>\n",
       "      <td>0.0</td>\n",
       "      <td>2</td>\n",
       "      <td>0</td>\n",
       "      <td>0</td>\n",
       "      <td>0</td>\n",
       "      <td>1</td>\n",
       "      <td>0</td>\n",
       "      <td>0</td>\n",
       "      <td>0</td>\n",
       "    </tr>\n",
       "  </tbody>\n",
       "</table>\n",
       "<p>95674 rows × 77 columns</p>\n",
       "</div>"
      ],
      "text/plain": [
       "       scan_count  department_description_1-HR PHOTO  \\\n",
       "0            -1.0                                0.0   \n",
       "1             2.0                                0.0   \n",
       "2            28.0                                0.0   \n",
       "3             3.0                                0.0   \n",
       "4             3.0                                0.0   \n",
       "...           ...                                ...   \n",
       "95669         9.0                                0.0   \n",
       "95670         5.0                                0.0   \n",
       "95671        17.0                                0.0   \n",
       "95672        17.0                                0.0   \n",
       "95673         2.0                                0.0   \n",
       "\n",
       "       department_description_ACCESSORIES  department_description_AUTOMOTIVE  \\\n",
       "0                                     0.0                                0.0   \n",
       "1                                     0.0                                0.0   \n",
       "2                                     0.0                                0.0   \n",
       "3                                     0.0                                0.0   \n",
       "4                                     0.0                                0.0   \n",
       "...                                   ...                                ...   \n",
       "95669                                 0.0                                0.0   \n",
       "95670                                 0.0                                0.0   \n",
       "95671                                 0.0                                0.0   \n",
       "95672                                 0.0                                0.0   \n",
       "95673                                 0.0                                0.0   \n",
       "\n",
       "       department_description_BAKERY  department_description_BATH AND SHOWER  \\\n",
       "0                                0.0                                     0.0   \n",
       "1                                0.0                                     0.0   \n",
       "2                                0.0                                     0.0   \n",
       "3                                0.0                                     0.0   \n",
       "4                                0.0                                     0.0   \n",
       "...                              ...                                     ...   \n",
       "95669                            0.0                                     0.0   \n",
       "95670                            0.0                                     0.0   \n",
       "95671                            0.0                                     0.0   \n",
       "95672                            0.0                                     0.0   \n",
       "95673                            0.0                                     0.0   \n",
       "\n",
       "       department_description_BEAUTY  department_description_BEDDING  \\\n",
       "0                                0.0                             0.0   \n",
       "1                                0.0                             0.0   \n",
       "2                                0.0                             0.0   \n",
       "3                                0.0                             0.0   \n",
       "4                                0.0                             0.0   \n",
       "...                              ...                             ...   \n",
       "95669                            0.0                             0.0   \n",
       "95670                            4.0                             0.0   \n",
       "95671                            1.0                             0.0   \n",
       "95672                            0.0                             0.0   \n",
       "95673                            0.0                             0.0   \n",
       "\n",
       "       department_description_BOOKS AND MAGAZINES  \\\n",
       "0                                             0.0   \n",
       "1                                             0.0   \n",
       "2                                             0.0   \n",
       "3                                             0.0   \n",
       "4                                             0.0   \n",
       "...                                           ...   \n",
       "95669                                         0.0   \n",
       "95670                                         0.0   \n",
       "95671                                         0.0   \n",
       "95672                                         0.0   \n",
       "95673                                         0.0   \n",
       "\n",
       "       department_description_BOYS WEAR  ...  department_description_WIRELESS  \\\n",
       "0                                   0.0  ...                              0.0   \n",
       "1                                   0.0  ...                              0.0   \n",
       "2                                   0.0  ...                              0.0   \n",
       "3                                   0.0  ...                              0.0   \n",
       "4                                   0.0  ...                              0.0   \n",
       "...                                 ...  ...                              ...   \n",
       "95669                               0.0  ...                              0.0   \n",
       "95670                               0.0  ...                              1.0   \n",
       "95671                               0.0  ...                              0.0   \n",
       "95672                               0.0  ...                              0.0   \n",
       "95673                               0.0  ...                              0.0   \n",
       "\n",
       "       regreso  variedad  weekday_Friday  weekday_Monday  weekday_Saturday  \\\n",
       "0          1.0         1               1               0                 0   \n",
       "1          0.0         2               1               0                 0   \n",
       "2          1.0        23               1               0                 0   \n",
       "3          0.0         3               1               0                 0   \n",
       "4          0.0         3               1               0                 0   \n",
       "...        ...       ...             ...             ...               ...   \n",
       "95669      0.0         7               0               0                 0   \n",
       "95670      0.0         5               0               0                 0   \n",
       "95671      0.0        13               0               0                 0   \n",
       "95672      0.0        17               0               0                 0   \n",
       "95673      0.0         2               0               0                 0   \n",
       "\n",
       "       weekday_Sunday  weekday_Thursday  weekday_Tuesday  weekday_Wednesday  \n",
       "0                   0                 0                0                  0  \n",
       "1                   0                 0                0                  0  \n",
       "2                   0                 0                0                  0  \n",
       "3                   0                 0                0                  0  \n",
       "4                   0                 0                0                  0  \n",
       "...               ...               ...              ...                ...  \n",
       "95669               1                 0                0                  0  \n",
       "95670               1                 0                0                  0  \n",
       "95671               1                 0                0                  0  \n",
       "95672               1                 0                0                  0  \n",
       "95673               1                 0                0                  0  \n",
       "\n",
       "[95674 rows x 77 columns]"
      ]
     },
     "execution_count": 7,
     "metadata": {},
     "output_type": "execute_result"
    }
   ],
   "source": [
    "X"
   ]
  },
  {
   "cell_type": "code",
   "execution_count": 8,
   "metadata": {},
   "outputs": [],
   "source": [
    "y=walmart.iloc[:,1]"
   ]
  },
  {
   "cell_type": "code",
   "execution_count": 9,
   "metadata": {},
   "outputs": [
    {
     "data": {
      "text/plain": [
       "0        999\n",
       "1         30\n",
       "2         26\n",
       "3          8\n",
       "4          8\n",
       "        ... \n",
       "95669     25\n",
       "95670     22\n",
       "95671     39\n",
       "95672     39\n",
       "95673      8\n",
       "Name: trip_type, Length: 95674, dtype: category\n",
       "Categories (38, object): ['3', '4', '5', '6', ..., '42', '43', '44', '999']"
      ]
     },
     "execution_count": 9,
     "metadata": {},
     "output_type": "execute_result"
    }
   ],
   "source": [
    "y"
   ]
  },
  {
   "cell_type": "markdown",
   "metadata": {},
   "source": [
    "### Sample"
   ]
  },
  {
   "cell_type": "code",
   "execution_count": 10,
   "metadata": {},
   "outputs": [],
   "source": [
    "X_sample = X[0:20000]"
   ]
  },
  {
   "cell_type": "code",
   "execution_count": 11,
   "metadata": {},
   "outputs": [],
   "source": [
    "y_sample = y[0:20000]"
   ]
  },
  {
   "cell_type": "code",
   "execution_count": null,
   "metadata": {},
   "outputs": [],
   "source": []
  },
  {
   "cell_type": "code",
   "execution_count": 17,
   "metadata": {},
   "outputs": [],
   "source": [
    "from sklearn.model_selection import train_test_split\n",
    "\n",
    "X_train, X_test, y_train, y_test = train_test_split(X_sample, y_sample, random_state=1)"
   ]
  },
  {
   "cell_type": "code",
   "execution_count": 18,
   "metadata": {},
   "outputs": [
    {
     "data": {
      "text/html": [
       "<div>\n",
       "<style scoped>\n",
       "    .dataframe tbody tr th:only-of-type {\n",
       "        vertical-align: middle;\n",
       "    }\n",
       "\n",
       "    .dataframe tbody tr th {\n",
       "        vertical-align: top;\n",
       "    }\n",
       "\n",
       "    .dataframe thead th {\n",
       "        text-align: right;\n",
       "    }\n",
       "</style>\n",
       "<table border=\"1\" class=\"dataframe\">\n",
       "  <thead>\n",
       "    <tr style=\"text-align: right;\">\n",
       "      <th></th>\n",
       "      <th>scan_count</th>\n",
       "      <th>department_description_1-HR PHOTO</th>\n",
       "      <th>department_description_ACCESSORIES</th>\n",
       "      <th>department_description_AUTOMOTIVE</th>\n",
       "      <th>department_description_BAKERY</th>\n",
       "      <th>department_description_BATH AND SHOWER</th>\n",
       "      <th>department_description_BEAUTY</th>\n",
       "      <th>department_description_BEDDING</th>\n",
       "      <th>department_description_BOOKS AND MAGAZINES</th>\n",
       "      <th>department_description_BOYS WEAR</th>\n",
       "      <th>...</th>\n",
       "      <th>department_description_WIRELESS</th>\n",
       "      <th>regreso</th>\n",
       "      <th>variedad</th>\n",
       "      <th>weekday_Friday</th>\n",
       "      <th>weekday_Monday</th>\n",
       "      <th>weekday_Saturday</th>\n",
       "      <th>weekday_Sunday</th>\n",
       "      <th>weekday_Thursday</th>\n",
       "      <th>weekday_Tuesday</th>\n",
       "      <th>weekday_Wednesday</th>\n",
       "    </tr>\n",
       "  </thead>\n",
       "  <tbody>\n",
       "    <tr>\n",
       "      <th>18960</th>\n",
       "      <td>1.0</td>\n",
       "      <td>0.0</td>\n",
       "      <td>0.0</td>\n",
       "      <td>0.0</td>\n",
       "      <td>0.0</td>\n",
       "      <td>0.0</td>\n",
       "      <td>0.0</td>\n",
       "      <td>0.0</td>\n",
       "      <td>0.0</td>\n",
       "      <td>0.0</td>\n",
       "      <td>...</td>\n",
       "      <td>0.0</td>\n",
       "      <td>0.0</td>\n",
       "      <td>1</td>\n",
       "      <td>0</td>\n",
       "      <td>0</td>\n",
       "      <td>0</td>\n",
       "      <td>0</td>\n",
       "      <td>1</td>\n",
       "      <td>0</td>\n",
       "      <td>0</td>\n",
       "    </tr>\n",
       "    <tr>\n",
       "      <th>11353</th>\n",
       "      <td>3.0</td>\n",
       "      <td>0.0</td>\n",
       "      <td>0.0</td>\n",
       "      <td>0.0</td>\n",
       "      <td>0.0</td>\n",
       "      <td>0.0</td>\n",
       "      <td>0.0</td>\n",
       "      <td>0.0</td>\n",
       "      <td>0.0</td>\n",
       "      <td>0.0</td>\n",
       "      <td>...</td>\n",
       "      <td>0.0</td>\n",
       "      <td>0.0</td>\n",
       "      <td>3</td>\n",
       "      <td>0</td>\n",
       "      <td>1</td>\n",
       "      <td>0</td>\n",
       "      <td>0</td>\n",
       "      <td>0</td>\n",
       "      <td>0</td>\n",
       "      <td>0</td>\n",
       "    </tr>\n",
       "    <tr>\n",
       "      <th>7449</th>\n",
       "      <td>2.0</td>\n",
       "      <td>0.0</td>\n",
       "      <td>0.0</td>\n",
       "      <td>0.0</td>\n",
       "      <td>0.0</td>\n",
       "      <td>0.0</td>\n",
       "      <td>0.0</td>\n",
       "      <td>0.0</td>\n",
       "      <td>0.0</td>\n",
       "      <td>0.0</td>\n",
       "      <td>...</td>\n",
       "      <td>0.0</td>\n",
       "      <td>0.0</td>\n",
       "      <td>2</td>\n",
       "      <td>0</td>\n",
       "      <td>0</td>\n",
       "      <td>0</td>\n",
       "      <td>1</td>\n",
       "      <td>0</td>\n",
       "      <td>0</td>\n",
       "      <td>0</td>\n",
       "    </tr>\n",
       "    <tr>\n",
       "      <th>14308</th>\n",
       "      <td>6.0</td>\n",
       "      <td>0.0</td>\n",
       "      <td>0.0</td>\n",
       "      <td>0.0</td>\n",
       "      <td>0.0</td>\n",
       "      <td>0.0</td>\n",
       "      <td>0.0</td>\n",
       "      <td>0.0</td>\n",
       "      <td>0.0</td>\n",
       "      <td>0.0</td>\n",
       "      <td>...</td>\n",
       "      <td>0.0</td>\n",
       "      <td>0.0</td>\n",
       "      <td>6</td>\n",
       "      <td>0</td>\n",
       "      <td>0</td>\n",
       "      <td>0</td>\n",
       "      <td>0</td>\n",
       "      <td>0</td>\n",
       "      <td>1</td>\n",
       "      <td>0</td>\n",
       "    </tr>\n",
       "    <tr>\n",
       "      <th>11889</th>\n",
       "      <td>-2.0</td>\n",
       "      <td>0.0</td>\n",
       "      <td>0.0</td>\n",
       "      <td>0.0</td>\n",
       "      <td>0.0</td>\n",
       "      <td>0.0</td>\n",
       "      <td>0.0</td>\n",
       "      <td>0.0</td>\n",
       "      <td>0.0</td>\n",
       "      <td>0.0</td>\n",
       "      <td>...</td>\n",
       "      <td>0.0</td>\n",
       "      <td>1.0</td>\n",
       "      <td>2</td>\n",
       "      <td>0</td>\n",
       "      <td>1</td>\n",
       "      <td>0</td>\n",
       "      <td>0</td>\n",
       "      <td>0</td>\n",
       "      <td>0</td>\n",
       "      <td>0</td>\n",
       "    </tr>\n",
       "    <tr>\n",
       "      <th>...</th>\n",
       "      <td>...</td>\n",
       "      <td>...</td>\n",
       "      <td>...</td>\n",
       "      <td>...</td>\n",
       "      <td>...</td>\n",
       "      <td>...</td>\n",
       "      <td>...</td>\n",
       "      <td>...</td>\n",
       "      <td>...</td>\n",
       "      <td>...</td>\n",
       "      <td>...</td>\n",
       "      <td>...</td>\n",
       "      <td>...</td>\n",
       "      <td>...</td>\n",
       "      <td>...</td>\n",
       "      <td>...</td>\n",
       "      <td>...</td>\n",
       "      <td>...</td>\n",
       "      <td>...</td>\n",
       "      <td>...</td>\n",
       "      <td>...</td>\n",
       "    </tr>\n",
       "    <tr>\n",
       "      <th>10955</th>\n",
       "      <td>10.0</td>\n",
       "      <td>0.0</td>\n",
       "      <td>0.0</td>\n",
       "      <td>0.0</td>\n",
       "      <td>0.0</td>\n",
       "      <td>0.0</td>\n",
       "      <td>0.0</td>\n",
       "      <td>0.0</td>\n",
       "      <td>0.0</td>\n",
       "      <td>0.0</td>\n",
       "      <td>...</td>\n",
       "      <td>0.0</td>\n",
       "      <td>0.0</td>\n",
       "      <td>10</td>\n",
       "      <td>0</td>\n",
       "      <td>1</td>\n",
       "      <td>0</td>\n",
       "      <td>0</td>\n",
       "      <td>0</td>\n",
       "      <td>0</td>\n",
       "      <td>0</td>\n",
       "    </tr>\n",
       "    <tr>\n",
       "      <th>17289</th>\n",
       "      <td>1.0</td>\n",
       "      <td>0.0</td>\n",
       "      <td>0.0</td>\n",
       "      <td>0.0</td>\n",
       "      <td>0.0</td>\n",
       "      <td>0.0</td>\n",
       "      <td>0.0</td>\n",
       "      <td>0.0</td>\n",
       "      <td>0.0</td>\n",
       "      <td>0.0</td>\n",
       "      <td>...</td>\n",
       "      <td>0.0</td>\n",
       "      <td>0.0</td>\n",
       "      <td>1</td>\n",
       "      <td>0</td>\n",
       "      <td>0</td>\n",
       "      <td>0</td>\n",
       "      <td>0</td>\n",
       "      <td>0</td>\n",
       "      <td>0</td>\n",
       "      <td>1</td>\n",
       "    </tr>\n",
       "    <tr>\n",
       "      <th>5192</th>\n",
       "      <td>2.0</td>\n",
       "      <td>0.0</td>\n",
       "      <td>0.0</td>\n",
       "      <td>0.0</td>\n",
       "      <td>0.0</td>\n",
       "      <td>0.0</td>\n",
       "      <td>0.0</td>\n",
       "      <td>0.0</td>\n",
       "      <td>0.0</td>\n",
       "      <td>0.0</td>\n",
       "      <td>...</td>\n",
       "      <td>0.0</td>\n",
       "      <td>0.0</td>\n",
       "      <td>2</td>\n",
       "      <td>0</td>\n",
       "      <td>0</td>\n",
       "      <td>1</td>\n",
       "      <td>0</td>\n",
       "      <td>0</td>\n",
       "      <td>0</td>\n",
       "      <td>0</td>\n",
       "    </tr>\n",
       "    <tr>\n",
       "      <th>12172</th>\n",
       "      <td>28.0</td>\n",
       "      <td>0.0</td>\n",
       "      <td>0.0</td>\n",
       "      <td>0.0</td>\n",
       "      <td>0.0</td>\n",
       "      <td>0.0</td>\n",
       "      <td>1.0</td>\n",
       "      <td>0.0</td>\n",
       "      <td>0.0</td>\n",
       "      <td>0.0</td>\n",
       "      <td>...</td>\n",
       "      <td>1.0</td>\n",
       "      <td>0.0</td>\n",
       "      <td>27</td>\n",
       "      <td>0</td>\n",
       "      <td>1</td>\n",
       "      <td>0</td>\n",
       "      <td>0</td>\n",
       "      <td>0</td>\n",
       "      <td>0</td>\n",
       "      <td>0</td>\n",
       "    </tr>\n",
       "    <tr>\n",
       "      <th>235</th>\n",
       "      <td>7.0</td>\n",
       "      <td>0.0</td>\n",
       "      <td>0.0</td>\n",
       "      <td>0.0</td>\n",
       "      <td>0.0</td>\n",
       "      <td>0.0</td>\n",
       "      <td>0.0</td>\n",
       "      <td>0.0</td>\n",
       "      <td>0.0</td>\n",
       "      <td>0.0</td>\n",
       "      <td>...</td>\n",
       "      <td>0.0</td>\n",
       "      <td>0.0</td>\n",
       "      <td>7</td>\n",
       "      <td>1</td>\n",
       "      <td>0</td>\n",
       "      <td>0</td>\n",
       "      <td>0</td>\n",
       "      <td>0</td>\n",
       "      <td>0</td>\n",
       "      <td>0</td>\n",
       "    </tr>\n",
       "  </tbody>\n",
       "</table>\n",
       "<p>15000 rows × 77 columns</p>\n",
       "</div>"
      ],
      "text/plain": [
       "       scan_count  department_description_1-HR PHOTO  \\\n",
       "18960         1.0                                0.0   \n",
       "11353         3.0                                0.0   \n",
       "7449          2.0                                0.0   \n",
       "14308         6.0                                0.0   \n",
       "11889        -2.0                                0.0   \n",
       "...           ...                                ...   \n",
       "10955        10.0                                0.0   \n",
       "17289         1.0                                0.0   \n",
       "5192          2.0                                0.0   \n",
       "12172        28.0                                0.0   \n",
       "235           7.0                                0.0   \n",
       "\n",
       "       department_description_ACCESSORIES  department_description_AUTOMOTIVE  \\\n",
       "18960                                 0.0                                0.0   \n",
       "11353                                 0.0                                0.0   \n",
       "7449                                  0.0                                0.0   \n",
       "14308                                 0.0                                0.0   \n",
       "11889                                 0.0                                0.0   \n",
       "...                                   ...                                ...   \n",
       "10955                                 0.0                                0.0   \n",
       "17289                                 0.0                                0.0   \n",
       "5192                                  0.0                                0.0   \n",
       "12172                                 0.0                                0.0   \n",
       "235                                   0.0                                0.0   \n",
       "\n",
       "       department_description_BAKERY  department_description_BATH AND SHOWER  \\\n",
       "18960                            0.0                                     0.0   \n",
       "11353                            0.0                                     0.0   \n",
       "7449                             0.0                                     0.0   \n",
       "14308                            0.0                                     0.0   \n",
       "11889                            0.0                                     0.0   \n",
       "...                              ...                                     ...   \n",
       "10955                            0.0                                     0.0   \n",
       "17289                            0.0                                     0.0   \n",
       "5192                             0.0                                     0.0   \n",
       "12172                            0.0                                     0.0   \n",
       "235                              0.0                                     0.0   \n",
       "\n",
       "       department_description_BEAUTY  department_description_BEDDING  \\\n",
       "18960                            0.0                             0.0   \n",
       "11353                            0.0                             0.0   \n",
       "7449                             0.0                             0.0   \n",
       "14308                            0.0                             0.0   \n",
       "11889                            0.0                             0.0   \n",
       "...                              ...                             ...   \n",
       "10955                            0.0                             0.0   \n",
       "17289                            0.0                             0.0   \n",
       "5192                             0.0                             0.0   \n",
       "12172                            1.0                             0.0   \n",
       "235                              0.0                             0.0   \n",
       "\n",
       "       department_description_BOOKS AND MAGAZINES  \\\n",
       "18960                                         0.0   \n",
       "11353                                         0.0   \n",
       "7449                                          0.0   \n",
       "14308                                         0.0   \n",
       "11889                                         0.0   \n",
       "...                                           ...   \n",
       "10955                                         0.0   \n",
       "17289                                         0.0   \n",
       "5192                                          0.0   \n",
       "12172                                         0.0   \n",
       "235                                           0.0   \n",
       "\n",
       "       department_description_BOYS WEAR  ...  department_description_WIRELESS  \\\n",
       "18960                               0.0  ...                              0.0   \n",
       "11353                               0.0  ...                              0.0   \n",
       "7449                                0.0  ...                              0.0   \n",
       "14308                               0.0  ...                              0.0   \n",
       "11889                               0.0  ...                              0.0   \n",
       "...                                 ...  ...                              ...   \n",
       "10955                               0.0  ...                              0.0   \n",
       "17289                               0.0  ...                              0.0   \n",
       "5192                                0.0  ...                              0.0   \n",
       "12172                               0.0  ...                              1.0   \n",
       "235                                 0.0  ...                              0.0   \n",
       "\n",
       "       regreso  variedad  weekday_Friday  weekday_Monday  weekday_Saturday  \\\n",
       "18960      0.0         1               0               0                 0   \n",
       "11353      0.0         3               0               1                 0   \n",
       "7449       0.0         2               0               0                 0   \n",
       "14308      0.0         6               0               0                 0   \n",
       "11889      1.0         2               0               1                 0   \n",
       "...        ...       ...             ...             ...               ...   \n",
       "10955      0.0        10               0               1                 0   \n",
       "17289      0.0         1               0               0                 0   \n",
       "5192       0.0         2               0               0                 1   \n",
       "12172      0.0        27               0               1                 0   \n",
       "235        0.0         7               1               0                 0   \n",
       "\n",
       "       weekday_Sunday  weekday_Thursday  weekday_Tuesday  weekday_Wednesday  \n",
       "18960               0                 1                0                  0  \n",
       "11353               0                 0                0                  0  \n",
       "7449                1                 0                0                  0  \n",
       "14308               0                 0                1                  0  \n",
       "11889               0                 0                0                  0  \n",
       "...               ...               ...              ...                ...  \n",
       "10955               0                 0                0                  0  \n",
       "17289               0                 0                0                  1  \n",
       "5192                0                 0                0                  0  \n",
       "12172               0                 0                0                  0  \n",
       "235                 0                 0                0                  0  \n",
       "\n",
       "[15000 rows x 77 columns]"
      ]
     },
     "execution_count": 18,
     "metadata": {},
     "output_type": "execute_result"
    }
   ],
   "source": [
    "X_train"
   ]
  },
  {
   "cell_type": "code",
   "execution_count": null,
   "metadata": {},
   "outputs": [],
   "source": []
  },
  {
   "cell_type": "code",
   "execution_count": 19,
   "metadata": {},
   "outputs": [],
   "source": [
    "# quité la estandarización porque así sale mejor la evaluación de los modelos\n",
    "#pero está en otro notebook, por si acaso"
   ]
  },
  {
   "cell_type": "code",
   "execution_count": null,
   "metadata": {},
   "outputs": [],
   "source": []
  },
  {
   "cell_type": "markdown",
   "metadata": {},
   "source": [
    "# Feature selection"
   ]
  },
  {
   "cell_type": "code",
   "execution_count": 20,
   "metadata": {},
   "outputs": [],
   "source": [
    "#lo que está comentado no es necesario correrlo porque ya está en un pickle"
   ]
  },
  {
   "cell_type": "code",
   "execution_count": 14,
   "metadata": {},
   "outputs": [],
   "source": [
    "#from sklearn.ensemble import ExtraTreesClassifier\n",
    "#import matplotlib.pyplot as plt"
   ]
  },
  {
   "cell_type": "code",
   "execution_count": 15,
   "metadata": {},
   "outputs": [],
   "source": [
    "#model_fs = ExtraTreesClassifier(n_estimators=500)\n",
    "#model_fs.fit(X_train,y_train)\n",
    "#print(model_fs.feature_importances_)"
   ]
  },
  {
   "cell_type": "code",
   "execution_count": 16,
   "metadata": {},
   "outputs": [],
   "source": [
    "#feat_importances = pd.Series(model_fs.feature_importances_, index=X_train.columns)\n",
    "#feat_importances.nlargest(50).plot(kind='barh')\n",
    "#plt.show()"
   ]
  },
  {
   "cell_type": "code",
   "execution_count": 17,
   "metadata": {},
   "outputs": [],
   "source": [
    "#feat_importances.nlargest(50)"
   ]
  },
  {
   "cell_type": "code",
   "execution_count": 18,
   "metadata": {},
   "outputs": [],
   "source": [
    "#selected_var = feat_importances.nlargest(50).index"
   ]
  },
  {
   "cell_type": "code",
   "execution_count": 21,
   "metadata": {},
   "outputs": [],
   "source": [
    "import pickle"
   ]
  },
  {
   "cell_type": "code",
   "execution_count": 22,
   "metadata": {},
   "outputs": [],
   "source": [
    "#guardamos un pickle\n",
    "\n",
    "#pickle.dump(selected_var, open(\"pickles/selected_var\", \"wb\"))"
   ]
  },
  {
   "cell_type": "code",
   "execution_count": 23,
   "metadata": {},
   "outputs": [],
   "source": [
    "#cargamos el pickle\n",
    "selected_var = pickle.load(open(\"pickles/selected_var\",\"rb\"))"
   ]
  },
  {
   "cell_type": "code",
   "execution_count": 24,
   "metadata": {},
   "outputs": [
    {
     "data": {
      "text/plain": [
       "Index(['variedad', 'scan_count', 'regreso',\n",
       "       'department_description_DSD GROCERY',\n",
       "       'department_description_FINANCIAL SERVICES',\n",
       "       'department_description_PERSONAL CARE',\n",
       "       'department_description_PHARMACY OTC',\n",
       "       'department_description_GROCERY DRY GOODS',\n",
       "       'department_description_PRODUCE', 'department_description_DAIRY',\n",
       "       'department_description_SERVICE DELI',\n",
       "       'department_description_IMPULSE MERCHANDISE',\n",
       "       'department_description_MENSWEAR',\n",
       "       'department_description_HOUSEHOLD CHEMICALS/SUPP',\n",
       "       'department_description_PHARMACY RX',\n",
       "       'department_description_INFANT CONSUMABLE HARDLINES',\n",
       "       'department_description_BEAUTY', 'department_description_FROZEN FOODS',\n",
       "       'department_description_HOUSEHOLD PAPER GOODS',\n",
       "       'department_description_COMM BREAD',\n",
       "       'department_description_CANDY, TOBACCO, COOKIES',\n",
       "       'department_description_MEAT - FRESH & FROZEN',\n",
       "       'department_description_LADIESWEAR',\n",
       "       'department_description_PETS AND SUPPLIES', 'weekday_Saturday',\n",
       "       'department_description_CELEBRATION', 'weekday_Friday',\n",
       "       'department_description_AUTOMOTIVE', 'department_description_SHOES',\n",
       "       'weekday_Sunday', 'department_description_LIQUOR,WINE,BEER',\n",
       "       'weekday_Monday', 'department_description_HOME MANAGEMENT',\n",
       "       'department_description_COOK AND DINE',\n",
       "       'department_description_OFFICE SUPPLIES', 'department_description_TOYS',\n",
       "       'department_description_BAKERY', 'weekday_Thursday',\n",
       "       'weekday_Wednesday', 'weekday_Tuesday',\n",
       "       'department_description_SPORTING GOODS',\n",
       "       'department_description_LAWN AND GARDEN',\n",
       "       'department_description_HARDWARE', 'department_description_ELECTRONICS',\n",
       "       'department_description_PRE PACKED DELI',\n",
       "       'department_description_HOME DECOR', 'department_description_WIRELESS',\n",
       "       'department_description_FABRICS AND CRAFTS',\n",
       "       'department_description_INFANT APPAREL',\n",
       "       'department_description_BATH AND SHOWER'],\n",
       "      dtype='object')"
      ]
     },
     "execution_count": 24,
     "metadata": {},
     "output_type": "execute_result"
    }
   ],
   "source": [
    "selected_var"
   ]
  },
  {
   "cell_type": "markdown",
   "metadata": {},
   "source": [
    "## X train y X test after feature selection:"
   ]
  },
  {
   "cell_type": "markdown",
   "metadata": {},
   "source": [
    "**50 variables**"
   ]
  },
  {
   "cell_type": "code",
   "execution_count": 25,
   "metadata": {},
   "outputs": [],
   "source": [
    "X_train_fs = X_train[selected_var]"
   ]
  },
  {
   "cell_type": "code",
   "execution_count": 26,
   "metadata": {},
   "outputs": [],
   "source": [
    "X_test_fs = X_test[selected_var]"
   ]
  },
  {
   "cell_type": "code",
   "execution_count": 27,
   "metadata": {},
   "outputs": [
    {
     "data": {
      "text/plain": [
       "(5000, 50)"
      ]
     },
     "execution_count": 27,
     "metadata": {},
     "output_type": "execute_result"
    }
   ],
   "source": [
    "X_test_fs.shape"
   ]
  },
  {
   "cell_type": "markdown",
   "metadata": {},
   "source": [
    "# Modelos"
   ]
  },
  {
   "cell_type": "markdown",
   "metadata": {},
   "source": [
    "### Random Forest"
   ]
  },
  {
   "cell_type": "code",
   "execution_count": 44,
   "metadata": {},
   "outputs": [],
   "source": [
    "from sklearn.ensemble import RandomForestClassifier\n",
    "model = RandomForestClassifier(n_estimators=500)\n",
    "model.fit(X_train_fs, y_train)\n",
    "y_model = model.predict(X_test_fs)"
   ]
  },
  {
   "cell_type": "code",
   "execution_count": 45,
   "metadata": {},
   "outputs": [
    {
     "name": "stdout",
     "output_type": "stream",
     "text": [
      "Accuracy: 0.646180860403863\n"
     ]
    }
   ],
   "source": [
    "from sklearn.metrics import accuracy_score\n",
    "print(\"Accuracy: {}\".format(accuracy_score(y_test, y_model)))"
   ]
  },
  {
   "cell_type": "code",
   "execution_count": 58,
   "metadata": {},
   "outputs": [],
   "source": [
    "pickle.dump( model, open( \"pickles/random_forest_21_columns\", \"wb\" ) )"
   ]
  },
  {
   "cell_type": "code",
   "execution_count": null,
   "metadata": {},
   "outputs": [],
   "source": [
    "#no me corre con mil árboles :(, lo voy a hacer con 500\n",
    "# con 500 árboles y 50 variables: 0.646180860403863"
   ]
  },
  {
   "cell_type": "code",
   "execution_count": null,
   "metadata": {},
   "outputs": [],
   "source": []
  },
  {
   "cell_type": "code",
   "execution_count": null,
   "metadata": {},
   "outputs": [],
   "source": [
    "# Accuracy: 0.5881516785818806 con la seleccion de features de 21 variables.  "
   ]
  },
  {
   "cell_type": "code",
   "execution_count": null,
   "metadata": {},
   "outputs": [],
   "source": [
    "# Con todo el data set nos habia dado accuracy: 0.6539343009931246"
   ]
  },
  {
   "cell_type": "markdown",
   "metadata": {},
   "source": [
    "### Knn"
   ]
  },
  {
   "cell_type": "code",
   "execution_count": 28,
   "metadata": {},
   "outputs": [],
   "source": [
    "from sklearn.metrics import accuracy_score\n",
    "from sklearn.neighbors import KNeighborsClassifier"
   ]
  },
  {
   "cell_type": "code",
   "execution_count": 19,
   "metadata": {},
   "outputs": [
    {
     "name": "stdout",
     "output_type": "stream",
     "text": [
      "CPU times: user 59.1 s, sys: 0 ns, total: 59.1 s\n",
      "Wall time: 59.2 s\n"
     ]
    }
   ],
   "source": [
    "%%time\n",
    "\n",
    "model_knn = KNeighborsClassifier(n_neighbors=15)\n",
    "model_knn.fit(X_train, y_train)\n",
    "y_model_knn = model_knn.predict(X_test)"
   ]
  },
  {
   "cell_type": "code",
   "execution_count": 20,
   "metadata": {},
   "outputs": [
    {
     "name": "stdout",
     "output_type": "stream",
     "text": [
      "Accuracy: 0.650319829424307\n"
     ]
    }
   ],
   "source": [
    "print(\"Accuracy: {}\".format(accuracy_score(y_test, y_model_knn)))"
   ]
  },
  {
   "cell_type": "code",
   "execution_count": null,
   "metadata": {},
   "outputs": [],
   "source": [
    "# 10 VECINOS\n",
    "#accuracy 50 variables: 0.5876499853672812\n",
    "#accuracy con todas las variables: 0.5976002341235002\n",
    "# 5 VECINOS\n",
    "#accuracy con todas las variables: 0.590994606797943, 2 min\n",
    "# 15 VECINOS\n",
    "#accuracy con todas las variables: 0.59772565742715, 2 min\n",
    "\n",
    "#sin estandarizar variedad, 15 vecinos, todas las variables: 0.6305029474476358\n",
    "#igual pero con la wide limpia: 0.6323842970023831\n",
    "#igual pero con corrección de menswear e imputación: 0.650319829424307"
   ]
  },
  {
   "cell_type": "markdown",
   "metadata": {},
   "source": [
    "### SVM"
   ]
  },
  {
   "cell_type": "code",
   "execution_count": 29,
   "metadata": {},
   "outputs": [],
   "source": [
    "from sklearn import svm"
   ]
  },
  {
   "cell_type": "code",
   "execution_count": 32,
   "metadata": {},
   "outputs": [
    {
     "name": "stdout",
     "output_type": "stream",
     "text": [
      "CPU times: user 13min 51s, sys: 515 ms, total: 13min 52s\n",
      "Wall time: 13min 54s\n"
     ]
    }
   ],
   "source": [
    "%%time\n",
    "model_svm = svm.SVC(kernel='linear', probability=True, random_state=0)\n",
    "model_svm.fit(X_train_fs, y_train)\n",
    "y_model_svm = model_svm.predict(X_test_fs)"
   ]
  },
  {
   "cell_type": "code",
   "execution_count": 33,
   "metadata": {},
   "outputs": [
    {
     "name": "stdout",
     "output_type": "stream",
     "text": [
      "Accuracy: 0.6660813579163009\n"
     ]
    }
   ],
   "source": [
    "print(\"Accuracy: {}\".format(accuracy_score(y_test, y_model_svm)))"
   ]
  },
  {
   "cell_type": "code",
   "execution_count": null,
   "metadata": {},
   "outputs": [],
   "source": [
    "#accuracy con todas las variables: 0.6856892010535558, se tardó 25 minutos\n",
    "#accurCY con 50 variables: 0.6660813579163009, se tardó 13 minutos"
   ]
  },
  {
   "cell_type": "markdown",
   "metadata": {},
   "source": [
    "### Árbol de Decisiones"
   ]
  },
  {
   "cell_type": "code",
   "execution_count": 30,
   "metadata": {},
   "outputs": [],
   "source": [
    "from sklearn.tree import DecisionTreeClassifier"
   ]
  },
  {
   "cell_type": "code",
   "execution_count": 36,
   "metadata": {},
   "outputs": [
    {
     "name": "stdout",
     "output_type": "stream",
     "text": [
      "CPU times: user 784 ms, sys: 0 ns, total: 784 ms\n",
      "Wall time: 783 ms\n"
     ]
    }
   ],
   "source": [
    "%%time\n",
    "model_dt = DecisionTreeClassifier()\n",
    "model_dt.fit(X_train_fs, y_train)\n",
    "y_model_dt = model_dt.predict(X_test_fs)"
   ]
  },
  {
   "cell_type": "code",
   "execution_count": 37,
   "metadata": {},
   "outputs": [
    {
     "name": "stdout",
     "output_type": "stream",
     "text": [
      "Accuracy: 0.5752330783059493\n"
     ]
    }
   ],
   "source": [
    "print(\"Accuracy: {}\".format(accuracy_score(y_test, y_model_dt)))"
   ]
  },
  {
   "cell_type": "code",
   "execution_count": null,
   "metadata": {},
   "outputs": [],
   "source": [
    "#accuracy con todas las variables:  0.5939629583176554, se tarda un segundo\n",
    "# accuracy con 50: 0.5752330783059493, menos d eun segundo"
   ]
  },
  {
   "cell_type": "markdown",
   "metadata": {},
   "source": [
    "### Gradient Boosting"
   ]
  },
  {
   "cell_type": "code",
   "execution_count": 31,
   "metadata": {},
   "outputs": [],
   "source": [
    "from sklearn.ensemble import GradientBoostingClassifier"
   ]
  },
  {
   "cell_type": "code",
   "execution_count": 40,
   "metadata": {},
   "outputs": [
    {
     "name": "stdout",
     "output_type": "stream",
     "text": [
      "CPU times: user 50.5 s, sys: 16 ms, total: 50.6 s\n",
      "Wall time: 50.6 s\n"
     ]
    }
   ],
   "source": [
    "%%time\n",
    "model_gb = GradientBoostingClassifier(learning_rate=0.05, subsample=0.5, max_depth=6, n_estimators=10)\n",
    "model_gb.fit(X_train_fs, y_train)\n",
    "y_model_gb = model_gb.predict(X_test_fs)"
   ]
  },
  {
   "cell_type": "code",
   "execution_count": 41,
   "metadata": {},
   "outputs": [
    {
     "name": "stdout",
     "output_type": "stream",
     "text": [
      "Accuracy: 0.6190476190476191\n"
     ]
    }
   ],
   "source": [
    "print(\"Accuracy: {}\".format(accuracy_score(y_test, y_model_gb)))"
   ]
  },
  {
   "cell_type": "code",
   "execution_count": null,
   "metadata": {},
   "outputs": [],
   "source": [
    "# accuracy con todas las variables:  0.6311718717337681, 1 minuto\n",
    "# accuracy con 50: 0.6190476190476191, menos de 1 minuto"
   ]
  },
  {
   "cell_type": "markdown",
   "metadata": {},
   "source": [
    "### Logistic Regression"
   ]
  },
  {
   "cell_type": "code",
   "execution_count": 32,
   "metadata": {},
   "outputs": [],
   "source": [
    "from sklearn.linear_model import LogisticRegression"
   ]
  },
  {
   "cell_type": "code",
   "execution_count": 29,
   "metadata": {},
   "outputs": [
    {
     "name": "stdout",
     "output_type": "stream",
     "text": [
      "CPU times: user 1min 17s, sys: 26.3 ms, total: 1min 17s\n",
      "Wall time: 1min 17s\n"
     ]
    }
   ],
   "source": [
    "%%time\n",
    "model_lr = LogisticRegression(penalty='l2', C=1e5, solver='liblinear')\n",
    "model_lr.fit(X_train, y_train)\n",
    "y_model_lr = model_lr.predict(X_test)"
   ]
  },
  {
   "cell_type": "code",
   "execution_count": 30,
   "metadata": {},
   "outputs": [
    {
     "name": "stdout",
     "output_type": "stream",
     "text": [
      "Accuracy: 0.6399515029892554\n"
     ]
    }
   ],
   "source": [
    "print(\"Accuracy: {}\".format(accuracy_score(y_test, y_model_lr)))"
   ]
  },
  {
   "cell_type": "code",
   "execution_count": null,
   "metadata": {},
   "outputs": [],
   "source": [
    "# con 50 variables: 0.6178351937790041\n",
    "# con todas: 0.6399515029892554"
   ]
  },
  {
   "cell_type": "code",
   "execution_count": null,
   "metadata": {},
   "outputs": [],
   "source": []
  },
  {
   "cell_type": "markdown",
   "metadata": {},
   "source": [
    "## Magic Loop"
   ]
  },
  {
   "cell_type": "code",
   "execution_count": 33,
   "metadata": {},
   "outputs": [],
   "source": [
    "from time import time\n",
    "from sklearn.linear_model import LogisticRegression\n",
    "from sklearn.ensemble import GradientBoostingClassifier\n",
    "from sklearn import svm\n",
    "from sklearn.neighbors import KNeighborsClassifier\n",
    "from sklearn.ensemble import RandomForestClassifier"
   ]
  },
  {
   "cell_type": "code",
   "execution_count": 129,
   "metadata": {},
   "outputs": [],
   "source": [
    "from sklearn import metrics\n",
    "def precision_at_k(y_true, y_scores, k):\n",
    "    threshold = np.sort(y_scores)[::-1][int(k*len(y_scores))]\n",
    "    y_pred = np.asarray([1 if i >= threshold else 0 for i in y_scores])\n",
    "    #return metrics.precision_score(y_true, y_pred, average = 'weighted', zero_division = 0)\n",
    "    return metrics.precision_score(y_true, y_pred, average = 'macro')"
   ]
  },
  {
   "cell_type": "code",
   "execution_count": 130,
   "metadata": {},
   "outputs": [],
   "source": [
    "#magic loop, máximo 4 hiper parámetros\n",
    "#comente random forest porque me odia"
   ]
  },
  {
   "cell_type": "code",
   "execution_count": 131,
   "metadata": {},
   "outputs": [],
   "source": [
    "def define_hyper_params():\n",
    "    clfs = {\n",
    "        #'RF': RandomForestClassifier(n_estimators=100),\n",
    "        'KNN': KNeighborsClassifier(n_neighbors=15),\n",
    "        #'SVM': svm.SVC(kernel='linear', probability=True, random_state=0),\n",
    "        #'GB': GradientBoostingClassifier(learning_rate=0.05, subsample=0.5, max_depth=6, n_estimators=10),\n",
    "        #'DT': DecisionTreeClassifier(),\n",
    "        'LR': LogisticRegression(penalty='l2', C=1e5, solver='liblinear')\n",
    "        \n",
    "            }\n",
    "\n",
    "    grid = { \n",
    "        #'RF':{'n_estimators': [10,100,500], 'max_depth': [10,25,50,100], 'max_features': ['sqrt','log2'],'min_samples_split': [2,5,10]},\n",
    "        'KNN' :{'n_neighbors': [5,15,25,50],'weights': ['uniform','distance'],'algorithm': ['auto','ball_tree','kd_tree']},\n",
    "        #'SVM' :{'C' :[0.00001,0.001,0.1,1],'kernel':['linear', 'rbf']},\n",
    "        #'GB': {'n_estimators': [1,10,100,500], 'learning_rate' : [0.01,0.05,0.1,0.5],'subsample' : [0.1,0.5,1.0], 'max_depth': [5,10,20,50]},\n",
    "        #'DT': {'criterion': ['gini', 'entropy'], 'max_depth': [5,10,20,50,100], 'max_features': ['sqrt','log2'],'min_samples_split': [2,5,10]},\n",
    "        'LR': { 'penalty': ['l1','l2'], 'C': [0.0001,0.001,0.01,0.1,1]}\n",
    "           }\n",
    "\n",
    "    return clfs, grid"
   ]
  },
  {
   "cell_type": "code",
   "execution_count": 132,
   "metadata": {},
   "outputs": [],
   "source": [
    "def magic_loop(models_to_run, clfs, grid, X, y, search = 1):\n",
    "    for n in range(1, 2):\n",
    "        X_train, X_test, y_train, y_test = train_test_split(X, y)\n",
    "        for index, clf in enumerate([clfs[x] for x in models_to_run]):\n",
    "            print(models_to_run[index])\n",
    "            parameter_values = grid[models_to_run[index]]\n",
    "            try:\n",
    "                if(search):\n",
    "                    gs = GridSearchCV(clf, parameter_values, cv=3)\n",
    "                    start = time()\n",
    "                    y_pred_probs = gs.fit(X_train, y_train).predict_proba(X_test)[:,1]\n",
    "                    y_score = gs.fit(X_train, y_train).decision_function(X_test)\n",
    "                    print(precision_at_k(y_test, y_pred_probs, 0.05))\n",
    "                    print(\"GridSearch time: \" + (str)(time() - start))\n",
    "\n",
    "                else:\n",
    "                    start = time()\n",
    "                    rs = RandomizedSearchCV(clf, parameter_values, cv=3)\n",
    "                    y_pred_probs = rs.fit(X_train, y_train).predict_proba(X_test)[:,1]\n",
    "                    print(y_test)\n",
    "                    print(y_pred_probs)\n",
    "                    print(rs.best_estimator_)\n",
    "                    print(precision_at_k(y_test.astype(float), y_pred_probs.astype(float), 0.05)) \n",
    "                    print(\"RandomizedSearch time: \" + (str)(time() - start))\n",
    "            except IndexError as e:\n",
    "                print('Error:', e)\n",
    "                continue"
   ]
  },
  {
   "cell_type": "code",
   "execution_count": 133,
   "metadata": {},
   "outputs": [],
   "source": [
    "clfs, grid = define_hyper_params()\n",
    "#models = ['RF','KNN','SVM','GB','DT','LR']\n",
    "models = ['KNN','LR']"
   ]
  },
  {
   "cell_type": "code",
   "execution_count": 134,
   "metadata": {},
   "outputs": [],
   "source": [
    "X_fs = X_sample[selected_var]"
   ]
  },
  {
   "cell_type": "code",
   "execution_count": 135,
   "metadata": {},
   "outputs": [],
   "source": [
    "#Grid Search\n",
    "#magic_loop(models, clfs, grid, X_fs, y, search = 1)"
   ]
  },
  {
   "cell_type": "code",
   "execution_count": null,
   "metadata": {},
   "outputs": [
    {
     "name": "stdout",
     "output_type": "stream",
     "text": [
      "KNN\n"
     ]
    },
    {
     "name": "stderr",
     "output_type": "stream",
     "text": [
      "/home/diramtz/anaconda3/lib/python3.8/site-packages/sklearn/model_selection/_split.py:670: UserWarning: The least populated class in y has only 2 members, which is less than n_splits=3.\n",
      "  warnings.warn((\"The least populated class in y has only %d\"\n"
     ]
    },
    {
     "name": "stdout",
     "output_type": "stream",
     "text": [
      "17433     8\n",
      "5003      7\n",
      "8592     28\n",
      "13427     9\n",
      "7429     39\n",
      "         ..\n",
      "16333    35\n",
      "12768    39\n",
      "7614     40\n",
      "9654     34\n",
      "11275     5\n",
      "Name: trip_type, Length: 5000, dtype: category\n",
      "Categories (38, object): ['3', '4', '5', '6', ..., '42', '43', '44', '999']\n",
      "[0.         0.04346495 0.         ... 0.         0.         0.        ]\n",
      "KNeighborsClassifier(n_neighbors=25, weights='distance')\n",
      "0.0\n",
      "RandomizedSearch time: 74.2112123966217\n",
      "LR\n"
     ]
    },
    {
     "name": "stderr",
     "output_type": "stream",
     "text": [
      "/home/diramtz/anaconda3/lib/python3.8/site-packages/sklearn/metrics/_classification.py:1221: UndefinedMetricWarning: Precision is ill-defined and being set to 0.0 in labels with no predicted samples. Use `zero_division` parameter to control this behavior.\n",
      "  _warn_prf(average, modifier, msg_start, len(result))\n",
      "/home/diramtz/anaconda3/lib/python3.8/site-packages/sklearn/model_selection/_split.py:670: UserWarning: The least populated class in y has only 2 members, which is less than n_splits=3.\n",
      "  warnings.warn((\"The least populated class in y has only %d\"\n"
     ]
    }
   ],
   "source": [
    "%%time\n",
    "#RandomSearch\n",
    "magic_loop(models, clfs, grid, X_fs, y_sample, search = 0)"
   ]
  },
  {
   "cell_type": "code",
   "execution_count": null,
   "metadata": {},
   "outputs": [],
   "source": []
  }
 ],
 "metadata": {
  "kernelspec": {
   "display_name": "Python 3",
   "language": "python",
   "name": "python3"
  },
  "language_info": {
   "codemirror_mode": {
    "name": "ipython",
    "version": 3
   },
   "file_extension": ".py",
   "mimetype": "text/x-python",
   "name": "python",
   "nbconvert_exporter": "python",
   "pygments_lexer": "ipython3",
   "version": "3.8.5"
  }
 },
 "nbformat": 4,
 "nbformat_minor": 4
}
