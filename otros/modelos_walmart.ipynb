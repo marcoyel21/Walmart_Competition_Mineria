{
 "cells": [
  {
   "cell_type": "code",
   "execution_count": 1,
   "metadata": {},
   "outputs": [],
   "source": [
    "import feather\n",
    "import numpy as np "
   ]
  },
  {
   "cell_type": "code",
   "execution_count": 2,
   "metadata": {},
   "outputs": [],
   "source": [
    "# Por si queremos dividir datos entre train y test de modo provisional:\n",
    "\n",
    "from sklearn.model_selection import train_test_split"
   ]
  },
  {
   "cell_type": "code",
   "execution_count": 3,
   "metadata": {},
   "outputs": [],
   "source": [
    "walmart= feather.read_dataframe('walmart.feather')"
   ]
  },
  {
   "cell_type": "code",
   "execution_count": null,
   "metadata": {},
   "outputs": [],
   "source": [
    "## AGREGAR NUEVA BASE DE DATOS WIDE. "
   ]
  },
  {
   "cell_type": "code",
   "execution_count": null,
   "metadata": {},
   "outputs": [],
   "source": []
  },
  {
   "cell_type": "code",
   "execution_count": 4,
   "metadata": {},
   "outputs": [
    {
     "data": {
      "text/html": [
       "<div>\n",
       "<style scoped>\n",
       "    .dataframe tbody tr th:only-of-type {\n",
       "        vertical-align: middle;\n",
       "    }\n",
       "\n",
       "    .dataframe tbody tr th {\n",
       "        vertical-align: top;\n",
       "    }\n",
       "\n",
       "    .dataframe thead th {\n",
       "        text-align: right;\n",
       "    }\n",
       "</style>\n",
       "<table border=\"1\" class=\"dataframe\">\n",
       "  <thead>\n",
       "    <tr style=\"text-align: right;\">\n",
       "      <th></th>\n",
       "      <th>trip_type</th>\n",
       "      <th>visit_number</th>\n",
       "      <th>weekday</th>\n",
       "      <th>upc</th>\n",
       "      <th>scan_count</th>\n",
       "      <th>department_description</th>\n",
       "      <th>fineline_number</th>\n",
       "    </tr>\n",
       "  </thead>\n",
       "  <tbody>\n",
       "    <tr>\n",
       "      <th>0</th>\n",
       "      <td>999</td>\n",
       "      <td>5.0</td>\n",
       "      <td>Friday</td>\n",
       "      <td>6.811315e+10</td>\n",
       "      <td>-1.0</td>\n",
       "      <td>FINANCIAL SERVICES</td>\n",
       "      <td>1000</td>\n",
       "    </tr>\n",
       "    <tr>\n",
       "      <th>1</th>\n",
       "      <td>30</td>\n",
       "      <td>7.0</td>\n",
       "      <td>Friday</td>\n",
       "      <td>6.053882e+10</td>\n",
       "      <td>1.0</td>\n",
       "      <td>SHOES</td>\n",
       "      <td>8931</td>\n",
       "    </tr>\n",
       "    <tr>\n",
       "      <th>2</th>\n",
       "      <td>30</td>\n",
       "      <td>7.0</td>\n",
       "      <td>Friday</td>\n",
       "      <td>7.410811e+09</td>\n",
       "      <td>1.0</td>\n",
       "      <td>PERSONAL CARE</td>\n",
       "      <td>4504</td>\n",
       "    </tr>\n",
       "    <tr>\n",
       "      <th>3</th>\n",
       "      <td>26</td>\n",
       "      <td>8.0</td>\n",
       "      <td>Friday</td>\n",
       "      <td>2.238404e+09</td>\n",
       "      <td>2.0</td>\n",
       "      <td>PAINT AND ACCESSORIES</td>\n",
       "      <td>3565</td>\n",
       "    </tr>\n",
       "    <tr>\n",
       "      <th>4</th>\n",
       "      <td>26</td>\n",
       "      <td>8.0</td>\n",
       "      <td>Friday</td>\n",
       "      <td>2.006614e+09</td>\n",
       "      <td>2.0</td>\n",
       "      <td>PAINT AND ACCESSORIES</td>\n",
       "      <td>1017</td>\n",
       "    </tr>\n",
       "    <tr>\n",
       "      <th>...</th>\n",
       "      <td>...</td>\n",
       "      <td>...</td>\n",
       "      <td>...</td>\n",
       "      <td>...</td>\n",
       "      <td>...</td>\n",
       "      <td>...</td>\n",
       "      <td>...</td>\n",
       "    </tr>\n",
       "    <tr>\n",
       "      <th>647049</th>\n",
       "      <td>39</td>\n",
       "      <td>191346.0</td>\n",
       "      <td>Sunday</td>\n",
       "      <td>3.239000e+10</td>\n",
       "      <td>1.0</td>\n",
       "      <td>PHARMACY OTC</td>\n",
       "      <td>1118</td>\n",
       "    </tr>\n",
       "    <tr>\n",
       "      <th>647050</th>\n",
       "      <td>39</td>\n",
       "      <td>191346.0</td>\n",
       "      <td>Sunday</td>\n",
       "      <td>7.874205e+09</td>\n",
       "      <td>1.0</td>\n",
       "      <td>FROZEN FOODS</td>\n",
       "      <td>1752</td>\n",
       "    </tr>\n",
       "    <tr>\n",
       "      <th>647051</th>\n",
       "      <td>39</td>\n",
       "      <td>191346.0</td>\n",
       "      <td>Sunday</td>\n",
       "      <td>4.072000e+03</td>\n",
       "      <td>1.0</td>\n",
       "      <td>PRODUCE</td>\n",
       "      <td>4170</td>\n",
       "    </tr>\n",
       "    <tr>\n",
       "      <th>647052</th>\n",
       "      <td>8</td>\n",
       "      <td>191347.0</td>\n",
       "      <td>Sunday</td>\n",
       "      <td>4.190008e+09</td>\n",
       "      <td>1.0</td>\n",
       "      <td>DAIRY</td>\n",
       "      <td>1512</td>\n",
       "    </tr>\n",
       "    <tr>\n",
       "      <th>647053</th>\n",
       "      <td>8</td>\n",
       "      <td>191347.0</td>\n",
       "      <td>Sunday</td>\n",
       "      <td>3.800060e+09</td>\n",
       "      <td>1.0</td>\n",
       "      <td>GROCERY DRY GOODS</td>\n",
       "      <td>3600</td>\n",
       "    </tr>\n",
       "  </tbody>\n",
       "</table>\n",
       "<p>647054 rows × 7 columns</p>\n",
       "</div>"
      ],
      "text/plain": [
       "       trip_type  visit_number weekday           upc  scan_count  \\\n",
       "0            999           5.0  Friday  6.811315e+10        -1.0   \n",
       "1             30           7.0  Friday  6.053882e+10         1.0   \n",
       "2             30           7.0  Friday  7.410811e+09         1.0   \n",
       "3             26           8.0  Friday  2.238404e+09         2.0   \n",
       "4             26           8.0  Friday  2.006614e+09         2.0   \n",
       "...          ...           ...     ...           ...         ...   \n",
       "647049        39      191346.0  Sunday  3.239000e+10         1.0   \n",
       "647050        39      191346.0  Sunday  7.874205e+09         1.0   \n",
       "647051        39      191346.0  Sunday  4.072000e+03         1.0   \n",
       "647052         8      191347.0  Sunday  4.190008e+09         1.0   \n",
       "647053         8      191347.0  Sunday  3.800060e+09         1.0   \n",
       "\n",
       "       department_description fineline_number  \n",
       "0          FINANCIAL SERVICES            1000  \n",
       "1                       SHOES            8931  \n",
       "2               PERSONAL CARE            4504  \n",
       "3       PAINT AND ACCESSORIES            3565  \n",
       "4       PAINT AND ACCESSORIES            1017  \n",
       "...                       ...             ...  \n",
       "647049           PHARMACY OTC            1118  \n",
       "647050           FROZEN FOODS            1752  \n",
       "647051                PRODUCE            4170  \n",
       "647052                  DAIRY            1512  \n",
       "647053      GROCERY DRY GOODS            3600  \n",
       "\n",
       "[647054 rows x 7 columns]"
      ]
     },
     "execution_count": 4,
     "metadata": {},
     "output_type": "execute_result"
    }
   ],
   "source": [
    "walmart"
   ]
  },
  {
   "cell_type": "markdown",
   "metadata": {},
   "source": [
    "Separamos las variables explicativas y  la variable independiente:"
   ]
  },
  {
   "cell_type": "code",
   "execution_count": 5,
   "metadata": {},
   "outputs": [],
   "source": [
    "X = walmart.drop('trip_type', axis=1)"
   ]
  },
  {
   "cell_type": "code",
   "execution_count": 6,
   "metadata": {},
   "outputs": [],
   "source": [
    "y=walmart.iloc[:,0]"
   ]
  },
  {
   "cell_type": "markdown",
   "metadata": {},
   "source": [
    "De manera provisional voy a dividir los datos en train y test:"
   ]
  },
  {
   "cell_type": "code",
   "execution_count": 7,
   "metadata": {},
   "outputs": [],
   "source": [
    "X_train, X_test, y_train, y_test = train_test_split(X, y, random_state=1)"
   ]
  },
  {
   "cell_type": "markdown",
   "metadata": {},
   "source": [
    "# Preprocesamiento\n",
    "## Convertimos la columna Filename Number a One Hot Encoding"
   ]
  },
  {
   "cell_type": "code",
   "execution_count": 8,
   "metadata": {},
   "outputs": [
    {
     "name": "stdout",
     "output_type": "stream",
     "text": [
      "274956          FABRICS AND CRAFTS\n",
      "435019                     PRODUCE\n",
      "282734    HOUSEHOLD CHEMICALS/SUPP\n",
      "68298                        SHOES\n",
      "180864                  HOME DECOR\n",
      "                    ...           \n",
      "371403                     PRODUCE\n",
      "491263       HOUSEHOLD PAPER GOODS\n",
      "470924             PRE PACKED DELI\n",
      "491755                       DAIRY\n",
      "128037          FINANCIAL SERVICES\n",
      "Name: department_description, Length: 485290, dtype: category\n",
      "Categories (68, object): [1-HR PHOTO, ACCESSORIES, AUTOMOTIVE, BAKERY, ..., SPORTING GOODS, SWIMWEAR/OUTERWEAR, TOYS, WIRELESS]\n"
     ]
    }
   ],
   "source": [
    "print(X_train['department_description'])"
   ]
  },
  {
   "cell_type": "code",
   "execution_count": 9,
   "metadata": {},
   "outputs": [
    {
     "data": {
      "text/plain": [
       "CategoricalDtype(categories=['1-HR PHOTO', 'ACCESSORIES', 'AUTOMOTIVE', 'BAKERY',\n",
       "                  'BATH AND SHOWER', 'BEAUTY', 'BEDDING',\n",
       "                  'BOOKS AND MAGAZINES', 'BOYS WEAR', 'BRAS & SHAPEWEAR',\n",
       "                  'CAMERAS AND SUPPLIES', 'CANDY, TOBACCO, COOKIES',\n",
       "                  'CELEBRATION', 'COMM BREAD', 'CONCEPT STORES',\n",
       "                  'COOK AND DINE', 'DAIRY', 'DSD GROCERY', 'ELECTRONICS',\n",
       "                  'FABRICS AND CRAFTS', 'FINANCIAL SERVICES', 'FROZEN FOODS',\n",
       "                  'FURNITURE', 'GIRLS WEAR, 4-6X  AND 7-14',\n",
       "                  'GROCERY DRY GOODS', 'HARDWARE', 'HEALTH AND BEAUTY AIDS',\n",
       "                  'HOME DECOR', 'HOME MANAGEMENT', 'HORTICULTURE AND ACCESS',\n",
       "                  'HOUSEHOLD CHEMICALS/SUPP', 'HOUSEHOLD PAPER GOODS',\n",
       "                  'IMPULSE MERCHANDISE', 'INFANT APPAREL',\n",
       "                  'INFANT CONSUMABLE HARDLINES', 'JEWELRY AND SUNGLASSES',\n",
       "                  'LADIES SOCKS', 'LADIESWEAR', 'LARGE HOUSEHOLD GOODS',\n",
       "                  'LAWN AND GARDEN', 'LIQUOR,WINE,BEER',\n",
       "                  'MEAT - FRESH & FROZEN', 'MEDIA AND GAMING', 'MENS WEAR',\n",
       "                  'MENSWEAR', 'OFFICE SUPPLIES', 'OPTICAL - FRAMES',\n",
       "                  'OPTICAL - LENSES', 'OTHER DEPARTMENTS',\n",
       "                  'PAINT AND ACCESSORIES', 'PERSONAL CARE',\n",
       "                  'PETS AND SUPPLIES', 'PHARMACY OTC', 'PHARMACY RX',\n",
       "                  'PLAYERS AND ELECTRONICS', 'PLUS AND MATERNITY',\n",
       "                  'PRE PACKED DELI', 'PRODUCE', 'SEAFOOD', 'SEASONAL',\n",
       "                  'SERVICE DELI', 'SHEER HOSIERY', 'SHOES',\n",
       "                  'SLEEPWEAR/FOUNDATIONS', 'SPORTING GOODS',\n",
       "                  'SWIMWEAR/OUTERWEAR', 'TOYS', 'WIRELESS'],\n",
       "                 ordered=False)"
      ]
     },
     "execution_count": 9,
     "metadata": {},
     "output_type": "execute_result"
    }
   ],
   "source": [
    "X_train['department_description'].dtype"
   ]
  },
  {
   "cell_type": "code",
   "execution_count": 10,
   "metadata": {},
   "outputs": [
    {
     "data": {
      "text/plain": [
       "visit_number               float64\n",
       "weekday                   category\n",
       "upc                        float64\n",
       "scan_count                 float64\n",
       "department_description    category\n",
       "fineline_number           category\n",
       "dtype: object"
      ]
     },
     "execution_count": 10,
     "metadata": {},
     "output_type": "execute_result"
    }
   ],
   "source": [
    "X_train.dtypes"
   ]
  },
  {
   "cell_type": "code",
   "execution_count": null,
   "metadata": {},
   "outputs": [],
   "source": [
    "## Hago  esta conversion para que python lea la columna como un string, per me devuelve un warning:"
   ]
  },
  {
   "cell_type": "code",
   "execution_count": 13,
   "metadata": {},
   "outputs": [
    {
     "name": "stderr",
     "output_type": "stream",
     "text": [
      "<ipython-input-13-c28fe5696e6f>:1: SettingWithCopyWarning: \n",
      "A value is trying to be set on a copy of a slice from a DataFrame.\n",
      "Try using .loc[row_indexer,col_indexer] = value instead\n",
      "\n",
      "See the caveats in the documentation: https://pandas.pydata.org/pandas-docs/stable/user_guide/indexing.html#returning-a-view-versus-a-copy\n",
      "  X_train['department_description'] =  X_train['department_description'].astype(\"|S\")\n"
     ]
    }
   ],
   "source": [
    "X_train['department_description'] =  X_train['department_description'].astype(\"|S\")"
   ]
  },
  {
   "cell_type": "code",
   "execution_count": null,
   "metadata": {},
   "outputs": [],
   "source": [
    "# Le agrega esa b medio rara a la izquierda de depatment_descripcion , de cada elemento: "
   ]
  },
  {
   "cell_type": "code",
   "execution_count": 14,
   "metadata": {},
   "outputs": [
    {
     "data": {
      "text/html": [
       "<div>\n",
       "<style scoped>\n",
       "    .dataframe tbody tr th:only-of-type {\n",
       "        vertical-align: middle;\n",
       "    }\n",
       "\n",
       "    .dataframe tbody tr th {\n",
       "        vertical-align: top;\n",
       "    }\n",
       "\n",
       "    .dataframe thead th {\n",
       "        text-align: right;\n",
       "    }\n",
       "</style>\n",
       "<table border=\"1\" class=\"dataframe\">\n",
       "  <thead>\n",
       "    <tr style=\"text-align: right;\">\n",
       "      <th></th>\n",
       "      <th>visit_number</th>\n",
       "      <th>weekday</th>\n",
       "      <th>upc</th>\n",
       "      <th>scan_count</th>\n",
       "      <th>department_description</th>\n",
       "      <th>fineline_number</th>\n",
       "    </tr>\n",
       "  </thead>\n",
       "  <tbody>\n",
       "    <tr>\n",
       "      <th>274956</th>\n",
       "      <td>82143.0</td>\n",
       "      <td>Thursday</td>\n",
       "      <td>7.659404e+10</td>\n",
       "      <td>1.0</td>\n",
       "      <td>b'FABRICS AND CRAFTS'</td>\n",
       "      <td>517</td>\n",
       "    </tr>\n",
       "    <tr>\n",
       "      <th>435019</th>\n",
       "      <td>129561.0</td>\n",
       "      <td>Thursday</td>\n",
       "      <td>3.283000e+03</td>\n",
       "      <td>1.0</td>\n",
       "      <td>b'PRODUCE'</td>\n",
       "      <td>1262</td>\n",
       "    </tr>\n",
       "    <tr>\n",
       "      <th>282734</th>\n",
       "      <td>84735.0</td>\n",
       "      <td>Thursday</td>\n",
       "      <td>3.700048e+09</td>\n",
       "      <td>1.0</td>\n",
       "      <td>b'HOUSEHOLD CHEMICALS/SUPP'</td>\n",
       "      <td>130</td>\n",
       "    </tr>\n",
       "    <tr>\n",
       "      <th>68298</th>\n",
       "      <td>19104.0</td>\n",
       "      <td>Sunday</td>\n",
       "      <td>8.050403e+10</td>\n",
       "      <td>1.0</td>\n",
       "      <td>b'SHOES'</td>\n",
       "      <td>8994</td>\n",
       "    </tr>\n",
       "    <tr>\n",
       "      <th>180864</th>\n",
       "      <td>54358.0</td>\n",
       "      <td>Saturday</td>\n",
       "      <td>8.183260e+10</td>\n",
       "      <td>1.0</td>\n",
       "      <td>b'HOME DECOR'</td>\n",
       "      <td>2523</td>\n",
       "    </tr>\n",
       "    <tr>\n",
       "      <th>...</th>\n",
       "      <td>...</td>\n",
       "      <td>...</td>\n",
       "      <td>...</td>\n",
       "      <td>...</td>\n",
       "      <td>...</td>\n",
       "      <td>...</td>\n",
       "    </tr>\n",
       "    <tr>\n",
       "      <th>371403</th>\n",
       "      <td>109360.0</td>\n",
       "      <td>Monday</td>\n",
       "      <td>3.338365e+09</td>\n",
       "      <td>1.0</td>\n",
       "      <td>b'PRODUCE'</td>\n",
       "      <td>7501</td>\n",
       "    </tr>\n",
       "    <tr>\n",
       "      <th>491263</th>\n",
       "      <td>145836.0</td>\n",
       "      <td>Sunday</td>\n",
       "      <td>3.700088e+09</td>\n",
       "      <td>1.0</td>\n",
       "      <td>b'HOUSEHOLD PAPER GOODS'</td>\n",
       "      <td>1006</td>\n",
       "    </tr>\n",
       "    <tr>\n",
       "      <th>470924</th>\n",
       "      <td>140410.0</td>\n",
       "      <td>Saturday</td>\n",
       "      <td>4.470008e+09</td>\n",
       "      <td>1.0</td>\n",
       "      <td>b'PRE PACKED DELI'</td>\n",
       "      <td>7508</td>\n",
       "    </tr>\n",
       "    <tr>\n",
       "      <th>491755</th>\n",
       "      <td>145975.0</td>\n",
       "      <td>Sunday</td>\n",
       "      <td>2.100061e+09</td>\n",
       "      <td>1.0</td>\n",
       "      <td>b'DAIRY'</td>\n",
       "      <td>7958</td>\n",
       "    </tr>\n",
       "    <tr>\n",
       "      <th>128037</th>\n",
       "      <td>38264.0</td>\n",
       "      <td>Thursday</td>\n",
       "      <td>6.053881e+10</td>\n",
       "      <td>1.0</td>\n",
       "      <td>b'FINANCIAL SERVICES'</td>\n",
       "      <td>278</td>\n",
       "    </tr>\n",
       "  </tbody>\n",
       "</table>\n",
       "<p>485290 rows × 6 columns</p>\n",
       "</div>"
      ],
      "text/plain": [
       "        visit_number   weekday           upc  scan_count  \\\n",
       "274956       82143.0  Thursday  7.659404e+10         1.0   \n",
       "435019      129561.0  Thursday  3.283000e+03         1.0   \n",
       "282734       84735.0  Thursday  3.700048e+09         1.0   \n",
       "68298        19104.0    Sunday  8.050403e+10         1.0   \n",
       "180864       54358.0  Saturday  8.183260e+10         1.0   \n",
       "...              ...       ...           ...         ...   \n",
       "371403      109360.0    Monday  3.338365e+09         1.0   \n",
       "491263      145836.0    Sunday  3.700088e+09         1.0   \n",
       "470924      140410.0  Saturday  4.470008e+09         1.0   \n",
       "491755      145975.0    Sunday  2.100061e+09         1.0   \n",
       "128037       38264.0  Thursday  6.053881e+10         1.0   \n",
       "\n",
       "             department_description fineline_number  \n",
       "274956        b'FABRICS AND CRAFTS'             517  \n",
       "435019                   b'PRODUCE'            1262  \n",
       "282734  b'HOUSEHOLD CHEMICALS/SUPP'             130  \n",
       "68298                      b'SHOES'            8994  \n",
       "180864                b'HOME DECOR'            2523  \n",
       "...                             ...             ...  \n",
       "371403                   b'PRODUCE'            7501  \n",
       "491263     b'HOUSEHOLD PAPER GOODS'            1006  \n",
       "470924           b'PRE PACKED DELI'            7508  \n",
       "491755                     b'DAIRY'            7958  \n",
       "128037        b'FINANCIAL SERVICES'             278  \n",
       "\n",
       "[485290 rows x 6 columns]"
      ]
     },
     "execution_count": 14,
     "metadata": {},
     "output_type": "execute_result"
    }
   ],
   "source": [
    "X_train"
   ]
  },
  {
   "cell_type": "code",
   "execution_count": 22,
   "metadata": {},
   "outputs": [],
   "source": [
    "from sklearn.preprocessing import LabelEncoder\n",
    "from sklearn.preprocessing import OneHotEncoder\n",
    "\n",
    "label_encoder = LabelEncoder()  ## Para convertir a enteros\n",
    "one_hot_encoder = OneHotEncoder()\n",
    "\n",
    "## Convertirmos a enteros cada categoria \n",
    "department_description = label_encoder.fit_transform(X_train['department_description'])\n",
    "\n"
   ]
  },
  {
   "cell_type": "code",
   "execution_count": 23,
   "metadata": {},
   "outputs": [
    {
     "data": {
      "text/plain": [
       "array([19, 57, 30, ..., 56, 16, 20])"
      ]
     },
     "execution_count": 23,
     "metadata": {},
     "output_type": "execute_result"
    }
   ],
   "source": [
    "department_description"
   ]
  },
  {
   "cell_type": "code",
   "execution_count": null,
   "metadata": {},
   "outputs": [],
   "source": []
  },
  {
   "cell_type": "code",
   "execution_count": 24,
   "metadata": {},
   "outputs": [],
   "source": [
    "## Ya no se le pueden pasar vectores (arreglos 1D) a los preprocesadores\n",
    "department_description = department_description[:, np.newaxis]\n",
    "\n",
    "## Debemos invocar todense() ya que OneHotEncoder devuelve una matriz rala\n",
    "department_description_one_hot = one_hot_encoder.fit_transform(filename_number)"
   ]
  },
  {
   "cell_type": "code",
   "execution_count": 25,
   "metadata": {},
   "outputs": [
    {
     "data": {
      "text/plain": [
       "<485290x69 sparse matrix of type '<class 'numpy.float64'>'\n",
       "\twith 485290 stored elements in Compressed Sparse Row format>"
      ]
     },
     "execution_count": 25,
     "metadata": {},
     "output_type": "execute_result"
    }
   ],
   "source": [
    "department_description_one_hot"
   ]
  },
  {
   "cell_type": "code",
   "execution_count": 27,
   "metadata": {},
   "outputs": [
    {
     "data": {
      "text/plain": [
       "(485290, 1)"
      ]
     },
     "execution_count": 27,
     "metadata": {},
     "output_type": "execute_result"
    }
   ],
   "source": [
    "department_description.shape"
   ]
  },
  {
   "cell_type": "code",
   "execution_count": 33,
   "metadata": {},
   "outputs": [
    {
     "data": {
      "text/plain": [
       "(485290,)"
      ]
     },
     "execution_count": 33,
     "metadata": {},
     "output_type": "execute_result"
    }
   ],
   "source": [
    "X_train['department_description'].shape"
   ]
  },
  {
   "cell_type": "code",
   "execution_count": 34,
   "metadata": {},
   "outputs": [
    {
     "name": "stderr",
     "output_type": "stream",
     "text": [
      "<ipython-input-34-48fd3a165d21>:1: SettingWithCopyWarning: \n",
      "A value is trying to be set on a copy of a slice from a DataFrame.\n",
      "Try using .loc[row_indexer,col_indexer] = value instead\n",
      "\n",
      "See the caveats in the documentation: https://pandas.pydata.org/pandas-docs/stable/user_guide/indexing.html#returning-a-view-versus-a-copy\n",
      "  X_train['department_description'] = department_description\n"
     ]
    }
   ],
   "source": [
    "X_train['department_description'] = department_description"
   ]
  },
  {
   "cell_type": "code",
   "execution_count": 35,
   "metadata": {},
   "outputs": [
    {
     "data": {
      "text/html": [
       "<div>\n",
       "<style scoped>\n",
       "    .dataframe tbody tr th:only-of-type {\n",
       "        vertical-align: middle;\n",
       "    }\n",
       "\n",
       "    .dataframe tbody tr th {\n",
       "        vertical-align: top;\n",
       "    }\n",
       "\n",
       "    .dataframe thead th {\n",
       "        text-align: right;\n",
       "    }\n",
       "</style>\n",
       "<table border=\"1\" class=\"dataframe\">\n",
       "  <thead>\n",
       "    <tr style=\"text-align: right;\">\n",
       "      <th></th>\n",
       "      <th>visit_number</th>\n",
       "      <th>weekday</th>\n",
       "      <th>upc</th>\n",
       "      <th>scan_count</th>\n",
       "      <th>department_description</th>\n",
       "      <th>fineline_number</th>\n",
       "    </tr>\n",
       "  </thead>\n",
       "  <tbody>\n",
       "    <tr>\n",
       "      <th>274956</th>\n",
       "      <td>82143.0</td>\n",
       "      <td>Thursday</td>\n",
       "      <td>7.659404e+10</td>\n",
       "      <td>1.0</td>\n",
       "      <td>19</td>\n",
       "      <td>517</td>\n",
       "    </tr>\n",
       "    <tr>\n",
       "      <th>435019</th>\n",
       "      <td>129561.0</td>\n",
       "      <td>Thursday</td>\n",
       "      <td>3.283000e+03</td>\n",
       "      <td>1.0</td>\n",
       "      <td>57</td>\n",
       "      <td>1262</td>\n",
       "    </tr>\n",
       "    <tr>\n",
       "      <th>282734</th>\n",
       "      <td>84735.0</td>\n",
       "      <td>Thursday</td>\n",
       "      <td>3.700048e+09</td>\n",
       "      <td>1.0</td>\n",
       "      <td>30</td>\n",
       "      <td>130</td>\n",
       "    </tr>\n",
       "    <tr>\n",
       "      <th>68298</th>\n",
       "      <td>19104.0</td>\n",
       "      <td>Sunday</td>\n",
       "      <td>8.050403e+10</td>\n",
       "      <td>1.0</td>\n",
       "      <td>62</td>\n",
       "      <td>8994</td>\n",
       "    </tr>\n",
       "    <tr>\n",
       "      <th>180864</th>\n",
       "      <td>54358.0</td>\n",
       "      <td>Saturday</td>\n",
       "      <td>8.183260e+10</td>\n",
       "      <td>1.0</td>\n",
       "      <td>27</td>\n",
       "      <td>2523</td>\n",
       "    </tr>\n",
       "    <tr>\n",
       "      <th>...</th>\n",
       "      <td>...</td>\n",
       "      <td>...</td>\n",
       "      <td>...</td>\n",
       "      <td>...</td>\n",
       "      <td>...</td>\n",
       "      <td>...</td>\n",
       "    </tr>\n",
       "    <tr>\n",
       "      <th>371403</th>\n",
       "      <td>109360.0</td>\n",
       "      <td>Monday</td>\n",
       "      <td>3.338365e+09</td>\n",
       "      <td>1.0</td>\n",
       "      <td>57</td>\n",
       "      <td>7501</td>\n",
       "    </tr>\n",
       "    <tr>\n",
       "      <th>491263</th>\n",
       "      <td>145836.0</td>\n",
       "      <td>Sunday</td>\n",
       "      <td>3.700088e+09</td>\n",
       "      <td>1.0</td>\n",
       "      <td>31</td>\n",
       "      <td>1006</td>\n",
       "    </tr>\n",
       "    <tr>\n",
       "      <th>470924</th>\n",
       "      <td>140410.0</td>\n",
       "      <td>Saturday</td>\n",
       "      <td>4.470008e+09</td>\n",
       "      <td>1.0</td>\n",
       "      <td>56</td>\n",
       "      <td>7508</td>\n",
       "    </tr>\n",
       "    <tr>\n",
       "      <th>491755</th>\n",
       "      <td>145975.0</td>\n",
       "      <td>Sunday</td>\n",
       "      <td>2.100061e+09</td>\n",
       "      <td>1.0</td>\n",
       "      <td>16</td>\n",
       "      <td>7958</td>\n",
       "    </tr>\n",
       "    <tr>\n",
       "      <th>128037</th>\n",
       "      <td>38264.0</td>\n",
       "      <td>Thursday</td>\n",
       "      <td>6.053881e+10</td>\n",
       "      <td>1.0</td>\n",
       "      <td>20</td>\n",
       "      <td>278</td>\n",
       "    </tr>\n",
       "  </tbody>\n",
       "</table>\n",
       "<p>485290 rows × 6 columns</p>\n",
       "</div>"
      ],
      "text/plain": [
       "        visit_number   weekday           upc  scan_count  \\\n",
       "274956       82143.0  Thursday  7.659404e+10         1.0   \n",
       "435019      129561.0  Thursday  3.283000e+03         1.0   \n",
       "282734       84735.0  Thursday  3.700048e+09         1.0   \n",
       "68298        19104.0    Sunday  8.050403e+10         1.0   \n",
       "180864       54358.0  Saturday  8.183260e+10         1.0   \n",
       "...              ...       ...           ...         ...   \n",
       "371403      109360.0    Monday  3.338365e+09         1.0   \n",
       "491263      145836.0    Sunday  3.700088e+09         1.0   \n",
       "470924      140410.0  Saturday  4.470008e+09         1.0   \n",
       "491755      145975.0    Sunday  2.100061e+09         1.0   \n",
       "128037       38264.0  Thursday  6.053881e+10         1.0   \n",
       "\n",
       "        department_description fineline_number  \n",
       "274956                      19             517  \n",
       "435019                      57            1262  \n",
       "282734                      30             130  \n",
       "68298                       62            8994  \n",
       "180864                      27            2523  \n",
       "...                        ...             ...  \n",
       "371403                      57            7501  \n",
       "491263                      31            1006  \n",
       "470924                      56            7508  \n",
       "491755                      16            7958  \n",
       "128037                      20             278  \n",
       "\n",
       "[485290 rows x 6 columns]"
      ]
     },
     "execution_count": 35,
     "metadata": {},
     "output_type": "execute_result"
    }
   ],
   "source": [
    "X_train"
   ]
  },
  {
   "cell_type": "markdown",
   "metadata": {},
   "source": [
    "## Regresion logistica: "
   ]
  },
  {
   "cell_type": "code",
   "execution_count": 36,
   "metadata": {},
   "outputs": [],
   "source": [
    "from sklearn.linear_model import LogisticRegression\n",
    "\n",
    "classifier = LogisticRegression()\n"
   ]
  },
  {
   "cell_type": "code",
   "execution_count": 37,
   "metadata": {},
   "outputs": [
    {
     "ename": "ValueError",
     "evalue": "could not convert string to float: 'Thursday'",
     "output_type": "error",
     "traceback": [
      "\u001b[0;31m---------------------------------------------------------------------------\u001b[0m",
      "\u001b[0;31mValueError\u001b[0m                                Traceback (most recent call last)",
      "\u001b[0;32m<ipython-input-37-f44724590846>\u001b[0m in \u001b[0;36m<module>\u001b[0;34m\u001b[0m\n\u001b[0;32m----> 1\u001b[0;31m \u001b[0mclassifier\u001b[0m\u001b[0;34m.\u001b[0m\u001b[0mfit\u001b[0m\u001b[0;34m(\u001b[0m\u001b[0mX_train\u001b[0m\u001b[0;34m,\u001b[0m \u001b[0my_train\u001b[0m\u001b[0;34m)\u001b[0m\u001b[0;34m\u001b[0m\u001b[0;34m\u001b[0m\u001b[0m\n\u001b[0m",
      "\u001b[0;32m~/opt/anaconda3/lib/python3.8/site-packages/sklearn/linear_model/_logistic.py\u001b[0m in \u001b[0;36mfit\u001b[0;34m(self, X, y, sample_weight)\u001b[0m\n\u001b[1;32m   1340\u001b[0m             \u001b[0m_dtype\u001b[0m \u001b[0;34m=\u001b[0m \u001b[0;34m[\u001b[0m\u001b[0mnp\u001b[0m\u001b[0;34m.\u001b[0m\u001b[0mfloat64\u001b[0m\u001b[0;34m,\u001b[0m \u001b[0mnp\u001b[0m\u001b[0;34m.\u001b[0m\u001b[0mfloat32\u001b[0m\u001b[0;34m]\u001b[0m\u001b[0;34m\u001b[0m\u001b[0;34m\u001b[0m\u001b[0m\n\u001b[1;32m   1341\u001b[0m \u001b[0;34m\u001b[0m\u001b[0m\n\u001b[0;32m-> 1342\u001b[0;31m         X, y = self._validate_data(X, y, accept_sparse='csr', dtype=_dtype,\n\u001b[0m\u001b[1;32m   1343\u001b[0m                                    \u001b[0morder\u001b[0m\u001b[0;34m=\u001b[0m\u001b[0;34m\"C\"\u001b[0m\u001b[0;34m,\u001b[0m\u001b[0;34m\u001b[0m\u001b[0;34m\u001b[0m\u001b[0m\n\u001b[1;32m   1344\u001b[0m                                    accept_large_sparse=solver != 'liblinear')\n",
      "\u001b[0;32m~/opt/anaconda3/lib/python3.8/site-packages/sklearn/base.py\u001b[0m in \u001b[0;36m_validate_data\u001b[0;34m(self, X, y, reset, validate_separately, **check_params)\u001b[0m\n\u001b[1;32m    430\u001b[0m                 \u001b[0my\u001b[0m \u001b[0;34m=\u001b[0m \u001b[0mcheck_array\u001b[0m\u001b[0;34m(\u001b[0m\u001b[0my\u001b[0m\u001b[0;34m,\u001b[0m \u001b[0;34m**\u001b[0m\u001b[0mcheck_y_params\u001b[0m\u001b[0;34m)\u001b[0m\u001b[0;34m\u001b[0m\u001b[0;34m\u001b[0m\u001b[0m\n\u001b[1;32m    431\u001b[0m             \u001b[0;32melse\u001b[0m\u001b[0;34m:\u001b[0m\u001b[0;34m\u001b[0m\u001b[0;34m\u001b[0m\u001b[0m\n\u001b[0;32m--> 432\u001b[0;31m                 \u001b[0mX\u001b[0m\u001b[0;34m,\u001b[0m \u001b[0my\u001b[0m \u001b[0;34m=\u001b[0m \u001b[0mcheck_X_y\u001b[0m\u001b[0;34m(\u001b[0m\u001b[0mX\u001b[0m\u001b[0;34m,\u001b[0m \u001b[0my\u001b[0m\u001b[0;34m,\u001b[0m \u001b[0;34m**\u001b[0m\u001b[0mcheck_params\u001b[0m\u001b[0;34m)\u001b[0m\u001b[0;34m\u001b[0m\u001b[0;34m\u001b[0m\u001b[0m\n\u001b[0m\u001b[1;32m    433\u001b[0m             \u001b[0mout\u001b[0m \u001b[0;34m=\u001b[0m \u001b[0mX\u001b[0m\u001b[0;34m,\u001b[0m \u001b[0my\u001b[0m\u001b[0;34m\u001b[0m\u001b[0;34m\u001b[0m\u001b[0m\n\u001b[1;32m    434\u001b[0m \u001b[0;34m\u001b[0m\u001b[0m\n",
      "\u001b[0;32m~/opt/anaconda3/lib/python3.8/site-packages/sklearn/utils/validation.py\u001b[0m in \u001b[0;36minner_f\u001b[0;34m(*args, **kwargs)\u001b[0m\n\u001b[1;32m     71\u001b[0m                           FutureWarning)\n\u001b[1;32m     72\u001b[0m         \u001b[0mkwargs\u001b[0m\u001b[0;34m.\u001b[0m\u001b[0mupdate\u001b[0m\u001b[0;34m(\u001b[0m\u001b[0;34m{\u001b[0m\u001b[0mk\u001b[0m\u001b[0;34m:\u001b[0m \u001b[0marg\u001b[0m \u001b[0;32mfor\u001b[0m \u001b[0mk\u001b[0m\u001b[0;34m,\u001b[0m \u001b[0marg\u001b[0m \u001b[0;32min\u001b[0m \u001b[0mzip\u001b[0m\u001b[0;34m(\u001b[0m\u001b[0msig\u001b[0m\u001b[0;34m.\u001b[0m\u001b[0mparameters\u001b[0m\u001b[0;34m,\u001b[0m \u001b[0margs\u001b[0m\u001b[0;34m)\u001b[0m\u001b[0;34m}\u001b[0m\u001b[0;34m)\u001b[0m\u001b[0;34m\u001b[0m\u001b[0;34m\u001b[0m\u001b[0m\n\u001b[0;32m---> 73\u001b[0;31m         \u001b[0;32mreturn\u001b[0m \u001b[0mf\u001b[0m\u001b[0;34m(\u001b[0m\u001b[0;34m**\u001b[0m\u001b[0mkwargs\u001b[0m\u001b[0;34m)\u001b[0m\u001b[0;34m\u001b[0m\u001b[0;34m\u001b[0m\u001b[0m\n\u001b[0m\u001b[1;32m     74\u001b[0m     \u001b[0;32mreturn\u001b[0m \u001b[0minner_f\u001b[0m\u001b[0;34m\u001b[0m\u001b[0;34m\u001b[0m\u001b[0m\n\u001b[1;32m     75\u001b[0m \u001b[0;34m\u001b[0m\u001b[0m\n",
      "\u001b[0;32m~/opt/anaconda3/lib/python3.8/site-packages/sklearn/utils/validation.py\u001b[0m in \u001b[0;36mcheck_X_y\u001b[0;34m(X, y, accept_sparse, accept_large_sparse, dtype, order, copy, force_all_finite, ensure_2d, allow_nd, multi_output, ensure_min_samples, ensure_min_features, y_numeric, estimator)\u001b[0m\n\u001b[1;32m    794\u001b[0m         \u001b[0;32mraise\u001b[0m \u001b[0mValueError\u001b[0m\u001b[0;34m(\u001b[0m\u001b[0;34m\"y cannot be None\"\u001b[0m\u001b[0;34m)\u001b[0m\u001b[0;34m\u001b[0m\u001b[0;34m\u001b[0m\u001b[0m\n\u001b[1;32m    795\u001b[0m \u001b[0;34m\u001b[0m\u001b[0m\n\u001b[0;32m--> 796\u001b[0;31m     X = check_array(X, accept_sparse=accept_sparse,\n\u001b[0m\u001b[1;32m    797\u001b[0m                     \u001b[0maccept_large_sparse\u001b[0m\u001b[0;34m=\u001b[0m\u001b[0maccept_large_sparse\u001b[0m\u001b[0;34m,\u001b[0m\u001b[0;34m\u001b[0m\u001b[0;34m\u001b[0m\u001b[0m\n\u001b[1;32m    798\u001b[0m                     \u001b[0mdtype\u001b[0m\u001b[0;34m=\u001b[0m\u001b[0mdtype\u001b[0m\u001b[0;34m,\u001b[0m \u001b[0morder\u001b[0m\u001b[0;34m=\u001b[0m\u001b[0morder\u001b[0m\u001b[0;34m,\u001b[0m \u001b[0mcopy\u001b[0m\u001b[0;34m=\u001b[0m\u001b[0mcopy\u001b[0m\u001b[0;34m,\u001b[0m\u001b[0;34m\u001b[0m\u001b[0;34m\u001b[0m\u001b[0m\n",
      "\u001b[0;32m~/opt/anaconda3/lib/python3.8/site-packages/sklearn/utils/validation.py\u001b[0m in \u001b[0;36minner_f\u001b[0;34m(*args, **kwargs)\u001b[0m\n\u001b[1;32m     71\u001b[0m                           FutureWarning)\n\u001b[1;32m     72\u001b[0m         \u001b[0mkwargs\u001b[0m\u001b[0;34m.\u001b[0m\u001b[0mupdate\u001b[0m\u001b[0;34m(\u001b[0m\u001b[0;34m{\u001b[0m\u001b[0mk\u001b[0m\u001b[0;34m:\u001b[0m \u001b[0marg\u001b[0m \u001b[0;32mfor\u001b[0m \u001b[0mk\u001b[0m\u001b[0;34m,\u001b[0m \u001b[0marg\u001b[0m \u001b[0;32min\u001b[0m \u001b[0mzip\u001b[0m\u001b[0;34m(\u001b[0m\u001b[0msig\u001b[0m\u001b[0;34m.\u001b[0m\u001b[0mparameters\u001b[0m\u001b[0;34m,\u001b[0m \u001b[0margs\u001b[0m\u001b[0;34m)\u001b[0m\u001b[0;34m}\u001b[0m\u001b[0;34m)\u001b[0m\u001b[0;34m\u001b[0m\u001b[0;34m\u001b[0m\u001b[0m\n\u001b[0;32m---> 73\u001b[0;31m         \u001b[0;32mreturn\u001b[0m \u001b[0mf\u001b[0m\u001b[0;34m(\u001b[0m\u001b[0;34m**\u001b[0m\u001b[0mkwargs\u001b[0m\u001b[0;34m)\u001b[0m\u001b[0;34m\u001b[0m\u001b[0;34m\u001b[0m\u001b[0m\n\u001b[0m\u001b[1;32m     74\u001b[0m     \u001b[0;32mreturn\u001b[0m \u001b[0minner_f\u001b[0m\u001b[0;34m\u001b[0m\u001b[0;34m\u001b[0m\u001b[0m\n\u001b[1;32m     75\u001b[0m \u001b[0;34m\u001b[0m\u001b[0m\n",
      "\u001b[0;32m~/opt/anaconda3/lib/python3.8/site-packages/sklearn/utils/validation.py\u001b[0m in \u001b[0;36mcheck_array\u001b[0;34m(array, accept_sparse, accept_large_sparse, dtype, order, copy, force_all_finite, ensure_2d, allow_nd, ensure_min_samples, ensure_min_features, estimator)\u001b[0m\n\u001b[1;32m    597\u001b[0m                     \u001b[0marray\u001b[0m \u001b[0;34m=\u001b[0m \u001b[0marray\u001b[0m\u001b[0;34m.\u001b[0m\u001b[0mastype\u001b[0m\u001b[0;34m(\u001b[0m\u001b[0mdtype\u001b[0m\u001b[0;34m,\u001b[0m \u001b[0mcasting\u001b[0m\u001b[0;34m=\u001b[0m\u001b[0;34m\"unsafe\"\u001b[0m\u001b[0;34m,\u001b[0m \u001b[0mcopy\u001b[0m\u001b[0;34m=\u001b[0m\u001b[0;32mFalse\u001b[0m\u001b[0;34m)\u001b[0m\u001b[0;34m\u001b[0m\u001b[0;34m\u001b[0m\u001b[0m\n\u001b[1;32m    598\u001b[0m                 \u001b[0;32melse\u001b[0m\u001b[0;34m:\u001b[0m\u001b[0;34m\u001b[0m\u001b[0;34m\u001b[0m\u001b[0m\n\u001b[0;32m--> 599\u001b[0;31m                     \u001b[0marray\u001b[0m \u001b[0;34m=\u001b[0m \u001b[0mnp\u001b[0m\u001b[0;34m.\u001b[0m\u001b[0masarray\u001b[0m\u001b[0;34m(\u001b[0m\u001b[0marray\u001b[0m\u001b[0;34m,\u001b[0m \u001b[0morder\u001b[0m\u001b[0;34m=\u001b[0m\u001b[0morder\u001b[0m\u001b[0;34m,\u001b[0m \u001b[0mdtype\u001b[0m\u001b[0;34m=\u001b[0m\u001b[0mdtype\u001b[0m\u001b[0;34m)\u001b[0m\u001b[0;34m\u001b[0m\u001b[0;34m\u001b[0m\u001b[0m\n\u001b[0m\u001b[1;32m    600\u001b[0m             \u001b[0;32mexcept\u001b[0m \u001b[0mComplexWarning\u001b[0m\u001b[0;34m:\u001b[0m\u001b[0;34m\u001b[0m\u001b[0;34m\u001b[0m\u001b[0m\n\u001b[1;32m    601\u001b[0m                 raise ValueError(\"Complex data not supported\\n\"\n",
      "\u001b[0;32m~/opt/anaconda3/lib/python3.8/site-packages/numpy/core/_asarray.py\u001b[0m in \u001b[0;36masarray\u001b[0;34m(a, dtype, order)\u001b[0m\n\u001b[1;32m     83\u001b[0m \u001b[0;34m\u001b[0m\u001b[0m\n\u001b[1;32m     84\u001b[0m     \"\"\"\n\u001b[0;32m---> 85\u001b[0;31m     \u001b[0;32mreturn\u001b[0m \u001b[0marray\u001b[0m\u001b[0;34m(\u001b[0m\u001b[0ma\u001b[0m\u001b[0;34m,\u001b[0m \u001b[0mdtype\u001b[0m\u001b[0;34m,\u001b[0m \u001b[0mcopy\u001b[0m\u001b[0;34m=\u001b[0m\u001b[0;32mFalse\u001b[0m\u001b[0;34m,\u001b[0m \u001b[0morder\u001b[0m\u001b[0;34m=\u001b[0m\u001b[0morder\u001b[0m\u001b[0;34m)\u001b[0m\u001b[0;34m\u001b[0m\u001b[0;34m\u001b[0m\u001b[0m\n\u001b[0m\u001b[1;32m     86\u001b[0m \u001b[0;34m\u001b[0m\u001b[0m\n\u001b[1;32m     87\u001b[0m \u001b[0;34m\u001b[0m\u001b[0m\n",
      "\u001b[0;31mValueError\u001b[0m: could not convert string to float: 'Thursday'"
     ]
    }
   ],
   "source": [
    "classifier.fit(X_train, y_train)"
   ]
  },
  {
   "cell_type": "code",
   "execution_count": null,
   "metadata": {},
   "outputs": [],
   "source": [
    "from sklearn.model_selection import cross_val_score\n",
    "scores = cross_val_score(classifier, X, y, cv=5)\n",
    "\n",
    "print(scores)  ## Todos los scores\n",
    "\n",
    "print(np.mean(scores)) ## El promedio de los scores\n",
    "\n",
    "# Si queremos controlar los folds podemos usar KFold, StratifiedKFold, ShuffleSplit, LeaveOneOut\n",
    "# Algunos de ellos se muestran en las imágenes siguientes"
   ]
  },
  {
   "cell_type": "code",
   "execution_count": null,
   "metadata": {},
   "outputs": [],
   "source": [
    " \n",
    "\n"
   ]
  }
 ],
 "metadata": {
  "kernelspec": {
   "display_name": "Python 3",
   "language": "python",
   "name": "python3"
  },
  "language_info": {
   "codemirror_mode": {
    "name": "ipython",
    "version": 3
   },
   "file_extension": ".py",
   "mimetype": "text/x-python",
   "name": "python",
   "nbconvert_exporter": "python",
   "pygments_lexer": "ipython3",
   "version": "3.8.3"
  }
 },
 "nbformat": 4,
 "nbformat_minor": 4
}
