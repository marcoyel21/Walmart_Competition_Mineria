{
 "cells": [
  {
   "cell_type": "code",
   "execution_count": 2,
   "metadata": {},
   "outputs": [],
   "source": [
    "import feather\n",
    "import numpy as np \n",
    "import pandas as pd\n",
    "from sklearn.preprocessing import (OneHotEncoder,StandardScaler)\n",
    "from sklearn.pipeline import Pipeline\n",
    "\n",
    "from sklearn.model_selection import (\n",
    "    GridSearchCV)"
   ]
  },
  {
   "cell_type": "code",
   "execution_count": 3,
   "metadata": {},
   "outputs": [],
   "source": [
    "data_wide_train= feather.read_dataframe('walmart_wide_train.feather')\n",
    "data_original=pd.read_csv(\"train.csv\")\n",
    "\n",
    "data_wide_test= feather.read_dataframe('walmart_wide_test.feather')\n",
    "data_original_test=pd.read_csv(\"test.csv\")"
   ]
  },
  {
   "cell_type": "code",
   "execution_count": null,
   "metadata": {},
   "outputs": [],
   "source": [
    "data_wide_train"
   ]
  },
  {
   "cell_type": "code",
   "execution_count": 4,
   "metadata": {},
   "outputs": [],
   "source": [
    "from scipy import sparse\n",
    "from scipy.sparse import hstack\n"
   ]
  },
  {
   "cell_type": "code",
   "execution_count": 5,
   "metadata": {},
   "outputs": [],
   "source": [
    "def create_sparse_matrix(original_data):\n",
    "    dummies = pd.get_dummies(original_data.FinelineNumber)\n",
    "    dummies = dummies[data_original[data_original.FinelineNumber < 200].FinelineNumber.unique()]\n",
    "    data_visit = original_data[[\"VisitNumber\"]]\n",
    "    dummy_data = pd.concat([dummies, data_visit], axis=1)\n",
    "    dummy_data = dummy_data.groupby(\"VisitNumber\")\n",
    "    total_dummy_data = dummy_data.aggregate(np.sum)\n",
    "\n",
    "    dummies = pd.get_dummies(original_data.FinelineNumber)\n",
    "    for x in range(200,9000,100):\n",
    "        dummies1 = dummies[data_original[(data_original.FinelineNumber >= x) & (data_original.FinelineNumber < x + 100)].FinelineNumber.unique()]\n",
    "        data_visit = original_data[[\"VisitNumber\"]]\n",
    "        dummy_data = pd.concat([dummies1, data_visit], axis=1)\n",
    "        dummy_data = dummy_data.groupby(\"VisitNumber\")\n",
    "        dummy_data = dummy_data.aggregate(np.sum)\n",
    "        total_dummy_data = hstack((total_dummy_data, dummy_data))\n",
    "    return total_dummy_data"
   ]
  },
  {
   "cell_type": "code",
   "execution_count": 6,
   "metadata": {},
   "outputs": [],
   "source": [
    "#Creo la spare matrix de finite number\n",
    "spare_matrix_finite_train = create_sparse_matrix(data_original)\n"
   ]
  },
  {
   "cell_type": "code",
   "execution_count": 8,
   "metadata": {},
   "outputs": [
    {
     "data": {
      "text/plain": [
       "<95674x4933 sparse matrix of type '<class 'numpy.uint8'>'\n",
       "\twith 525471 stored elements in COOrdinate format>"
      ]
     },
     "execution_count": 8,
     "metadata": {},
     "output_type": "execute_result"
    }
   ],
   "source": [
    "spare_matrix_finite_train\n"
   ]
  },
  {
   "cell_type": "code",
   "execution_count": 9,
   "metadata": {},
   "outputs": [],
   "source": [
    "#Creo la spare matrix de mis datos wide\n",
    "\n",
    "data_sparse_train = sparse.bsr_matrix(data_wide_train.astype(np.float))\n"
   ]
  },
  {
   "cell_type": "code",
   "execution_count": 11,
   "metadata": {},
   "outputs": [],
   "source": [
    "#Finalmente hago un merge\n",
    "data_total_train = hstack((data_sparse_train, spare_matrix_finite_train))\n"
   ]
  },
  {
   "cell_type": "code",
   "execution_count": 12,
   "metadata": {},
   "outputs": [
    {
     "data": {
      "text/plain": [
       "<95674x5011 sparse matrix of type '<class 'numpy.float64'>'\n",
       "\twith 1228246 stored elements in COOrdinate format>"
      ]
     },
     "execution_count": 12,
     "metadata": {},
     "output_type": "execute_result"
    }
   ],
   "source": [
    "data_total_train"
   ]
  },
  {
   "cell_type": "code",
   "execution_count": null,
   "metadata": {},
   "outputs": [],
   "source": []
  }
 ],
 "metadata": {
  "kernelspec": {
   "display_name": "Python 3",
   "language": "python",
   "name": "python3"
  },
  "language_info": {
   "codemirror_mode": {
    "name": "ipython",
    "version": 3
   },
   "file_extension": ".py",
   "mimetype": "text/x-python",
   "name": "python",
   "nbconvert_exporter": "python",
   "pygments_lexer": "ipython3",
   "version": "3.7.6"
  }
 },
 "nbformat": 4,
 "nbformat_minor": 4
}
