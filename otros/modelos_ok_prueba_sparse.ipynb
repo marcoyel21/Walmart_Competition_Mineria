{
 "cells": [
  {
   "cell_type": "code",
   "execution_count": 3,
   "metadata": {},
   "outputs": [],
   "source": [
    "import feather\n",
    "import numpy as np \n",
    "import pandas as pd\n",
    "from sklearn.preprocessing import (OneHotEncoder,StandardScaler)\n",
    "from sklearn.pipeline import Pipeline\n",
    "from sklearn.model_selection import (\n",
    "    GridSearchCV, RandomizedSearchCV)"
   ]
  },
  {
   "cell_type": "code",
   "execution_count": 4,
   "metadata": {},
   "outputs": [],
   "source": [
    "from sklearn.compose import ColumnTransformer"
   ]
  },
  {
   "cell_type": "code",
   "execution_count": 5,
   "metadata": {},
   "outputs": [],
   "source": [
    "#Modelos a utilizar:\n",
    "from sklearn.ensemble import RandomForestClassifier\n",
    "from sklearn.tree import DecisionTreeClassifier"
   ]
  },
  {
   "cell_type": "code",
   "execution_count": 127,
   "metadata": {},
   "outputs": [],
   "source": [
    "#walmart_anterior= feather.read_dataframe('feathers/walmart_wide_train.feather')"
   ]
  },
  {
   "cell_type": "code",
   "execution_count": 128,
   "metadata": {},
   "outputs": [],
   "source": [
    "#walmart_anterior"
   ]
  },
  {
   "cell_type": "code",
   "execution_count": 96,
   "metadata": {},
   "outputs": [],
   "source": [
    "#regreso= walmart_anterior['regreso']"
   ]
  },
  {
   "cell_type": "code",
   "execution_count": 99,
   "metadata": {},
   "outputs": [],
   "source": [
    "#variedad= walmart_anterior['variedad']"
   ]
  },
  {
   "cell_type": "code",
   "execution_count": 113,
   "metadata": {},
   "outputs": [],
   "source": [
    "#walmart_train= feather.read_dataframe('feathers/walmart_wide_train.feather')"
   ]
  },
  {
   "cell_type": "code",
   "execution_count": 114,
   "metadata": {},
   "outputs": [],
   "source": [
    "#walmart_test= feather.read_dataframe('feathers/walmart_wide_test.feather')"
   ]
  },
  {
   "cell_type": "code",
   "execution_count": 116,
   "metadata": {},
   "outputs": [],
   "source": [
    "#walmart_wide_full=pd.concat([walmart_train, walmart_test], axis=1, sort=True)"
   ]
  },
  {
   "cell_type": "code",
   "execution_count": 1,
   "metadata": {},
   "outputs": [],
   "source": [
    "#walmart_wide_full"
   ]
  },
  {
   "cell_type": "code",
   "execution_count": 120,
   "metadata": {},
   "outputs": [],
   "source": [
    "#walmart_wide_full.sort_values(by=['visit_number'])"
   ]
  },
  {
   "cell_type": "code",
   "execution_count": 7,
   "metadata": {},
   "outputs": [],
   "source": []
  },
  {
   "cell_type": "markdown",
   "metadata": {},
   "source": [
    "# Creo los features: "
   ]
  },
  {
   "cell_type": "code",
   "execution_count": 22,
   "metadata": {},
   "outputs": [],
   "source": [
    "walmart_2 = feather.read_dataframe('feathers/walmart.feather')"
   ]
  },
  {
   "cell_type": "code",
   "execution_count": 23,
   "metadata": {},
   "outputs": [
    {
     "data": {
      "text/html": [
       "<div>\n",
       "<style scoped>\n",
       "    .dataframe tbody tr th:only-of-type {\n",
       "        vertical-align: middle;\n",
       "    }\n",
       "\n",
       "    .dataframe tbody tr th {\n",
       "        vertical-align: top;\n",
       "    }\n",
       "\n",
       "    .dataframe thead th {\n",
       "        text-align: right;\n",
       "    }\n",
       "</style>\n",
       "<table border=\"1\" class=\"dataframe\">\n",
       "  <thead>\n",
       "    <tr style=\"text-align: right;\">\n",
       "      <th></th>\n",
       "      <th>trip_type</th>\n",
       "      <th>visit_number</th>\n",
       "      <th>weekday</th>\n",
       "      <th>upc</th>\n",
       "      <th>scan_count</th>\n",
       "      <th>department_description</th>\n",
       "      <th>fineline_number</th>\n",
       "    </tr>\n",
       "  </thead>\n",
       "  <tbody>\n",
       "    <tr>\n",
       "      <th>0</th>\n",
       "      <td>999</td>\n",
       "      <td>5.0</td>\n",
       "      <td>Friday</td>\n",
       "      <td>6.811315e+10</td>\n",
       "      <td>-1.0</td>\n",
       "      <td>FINANCIAL SERVICES</td>\n",
       "      <td>1000</td>\n",
       "    </tr>\n",
       "    <tr>\n",
       "      <th>1</th>\n",
       "      <td>30</td>\n",
       "      <td>7.0</td>\n",
       "      <td>Friday</td>\n",
       "      <td>6.053882e+10</td>\n",
       "      <td>1.0</td>\n",
       "      <td>SHOES</td>\n",
       "      <td>8931</td>\n",
       "    </tr>\n",
       "    <tr>\n",
       "      <th>2</th>\n",
       "      <td>30</td>\n",
       "      <td>7.0</td>\n",
       "      <td>Friday</td>\n",
       "      <td>7.410811e+09</td>\n",
       "      <td>1.0</td>\n",
       "      <td>PERSONAL CARE</td>\n",
       "      <td>4504</td>\n",
       "    </tr>\n",
       "    <tr>\n",
       "      <th>3</th>\n",
       "      <td>26</td>\n",
       "      <td>8.0</td>\n",
       "      <td>Friday</td>\n",
       "      <td>2.238404e+09</td>\n",
       "      <td>2.0</td>\n",
       "      <td>PAINT AND ACCESSORIES</td>\n",
       "      <td>3565</td>\n",
       "    </tr>\n",
       "    <tr>\n",
       "      <th>4</th>\n",
       "      <td>26</td>\n",
       "      <td>8.0</td>\n",
       "      <td>Friday</td>\n",
       "      <td>2.006614e+09</td>\n",
       "      <td>2.0</td>\n",
       "      <td>PAINT AND ACCESSORIES</td>\n",
       "      <td>1017</td>\n",
       "    </tr>\n",
       "    <tr>\n",
       "      <th>...</th>\n",
       "      <td>...</td>\n",
       "      <td>...</td>\n",
       "      <td>...</td>\n",
       "      <td>...</td>\n",
       "      <td>...</td>\n",
       "      <td>...</td>\n",
       "      <td>...</td>\n",
       "    </tr>\n",
       "    <tr>\n",
       "      <th>647049</th>\n",
       "      <td>39</td>\n",
       "      <td>191346.0</td>\n",
       "      <td>Sunday</td>\n",
       "      <td>3.239000e+10</td>\n",
       "      <td>1.0</td>\n",
       "      <td>PHARMACY OTC</td>\n",
       "      <td>1118</td>\n",
       "    </tr>\n",
       "    <tr>\n",
       "      <th>647050</th>\n",
       "      <td>39</td>\n",
       "      <td>191346.0</td>\n",
       "      <td>Sunday</td>\n",
       "      <td>7.874205e+09</td>\n",
       "      <td>1.0</td>\n",
       "      <td>FROZEN FOODS</td>\n",
       "      <td>1752</td>\n",
       "    </tr>\n",
       "    <tr>\n",
       "      <th>647051</th>\n",
       "      <td>39</td>\n",
       "      <td>191346.0</td>\n",
       "      <td>Sunday</td>\n",
       "      <td>4.072000e+03</td>\n",
       "      <td>1.0</td>\n",
       "      <td>PRODUCE</td>\n",
       "      <td>4170</td>\n",
       "    </tr>\n",
       "    <tr>\n",
       "      <th>647052</th>\n",
       "      <td>8</td>\n",
       "      <td>191347.0</td>\n",
       "      <td>Sunday</td>\n",
       "      <td>4.190008e+09</td>\n",
       "      <td>1.0</td>\n",
       "      <td>DAIRY</td>\n",
       "      <td>1512</td>\n",
       "    </tr>\n",
       "    <tr>\n",
       "      <th>647053</th>\n",
       "      <td>8</td>\n",
       "      <td>191347.0</td>\n",
       "      <td>Sunday</td>\n",
       "      <td>3.800060e+09</td>\n",
       "      <td>1.0</td>\n",
       "      <td>GROCERY DRY GOODS</td>\n",
       "      <td>3600</td>\n",
       "    </tr>\n",
       "  </tbody>\n",
       "</table>\n",
       "<p>647054 rows × 7 columns</p>\n",
       "</div>"
      ],
      "text/plain": [
       "       trip_type  visit_number weekday           upc  scan_count  \\\n",
       "0            999           5.0  Friday  6.811315e+10        -1.0   \n",
       "1             30           7.0  Friday  6.053882e+10         1.0   \n",
       "2             30           7.0  Friday  7.410811e+09         1.0   \n",
       "3             26           8.0  Friday  2.238404e+09         2.0   \n",
       "4             26           8.0  Friday  2.006614e+09         2.0   \n",
       "...          ...           ...     ...           ...         ...   \n",
       "647049        39      191346.0  Sunday  3.239000e+10         1.0   \n",
       "647050        39      191346.0  Sunday  7.874205e+09         1.0   \n",
       "647051        39      191346.0  Sunday  4.072000e+03         1.0   \n",
       "647052         8      191347.0  Sunday  4.190008e+09         1.0   \n",
       "647053         8      191347.0  Sunday  3.800060e+09         1.0   \n",
       "\n",
       "       department_description fineline_number  \n",
       "0          FINANCIAL SERVICES            1000  \n",
       "1                       SHOES            8931  \n",
       "2               PERSONAL CARE            4504  \n",
       "3       PAINT AND ACCESSORIES            3565  \n",
       "4       PAINT AND ACCESSORIES            1017  \n",
       "...                       ...             ...  \n",
       "647049           PHARMACY OTC            1118  \n",
       "647050           FROZEN FOODS            1752  \n",
       "647051                PRODUCE            4170  \n",
       "647052                  DAIRY            1512  \n",
       "647053      GROCERY DRY GOODS            3600  \n",
       "\n",
       "[647054 rows x 7 columns]"
      ]
     },
     "execution_count": 23,
     "metadata": {},
     "output_type": "execute_result"
    }
   ],
   "source": [
    "walmart_2"
   ]
  },
  {
   "cell_type": "code",
   "execution_count": 24,
   "metadata": {},
   "outputs": [],
   "source": [
    "X_walmart_2 = walmart_2.drop(['trip_type'], axis=1)"
   ]
  },
  {
   "cell_type": "code",
   "execution_count": 25,
   "metadata": {},
   "outputs": [
    {
     "data": {
      "text/html": [
       "<div>\n",
       "<style scoped>\n",
       "    .dataframe tbody tr th:only-of-type {\n",
       "        vertical-align: middle;\n",
       "    }\n",
       "\n",
       "    .dataframe tbody tr th {\n",
       "        vertical-align: top;\n",
       "    }\n",
       "\n",
       "    .dataframe thead th {\n",
       "        text-align: right;\n",
       "    }\n",
       "</style>\n",
       "<table border=\"1\" class=\"dataframe\">\n",
       "  <thead>\n",
       "    <tr style=\"text-align: right;\">\n",
       "      <th></th>\n",
       "      <th>visit_number</th>\n",
       "      <th>weekday</th>\n",
       "      <th>upc</th>\n",
       "      <th>scan_count</th>\n",
       "      <th>department_description</th>\n",
       "      <th>fineline_number</th>\n",
       "    </tr>\n",
       "  </thead>\n",
       "  <tbody>\n",
       "    <tr>\n",
       "      <th>0</th>\n",
       "      <td>5.0</td>\n",
       "      <td>Friday</td>\n",
       "      <td>6.811315e+10</td>\n",
       "      <td>-1.0</td>\n",
       "      <td>FINANCIAL SERVICES</td>\n",
       "      <td>1000</td>\n",
       "    </tr>\n",
       "    <tr>\n",
       "      <th>1</th>\n",
       "      <td>7.0</td>\n",
       "      <td>Friday</td>\n",
       "      <td>6.053882e+10</td>\n",
       "      <td>1.0</td>\n",
       "      <td>SHOES</td>\n",
       "      <td>8931</td>\n",
       "    </tr>\n",
       "    <tr>\n",
       "      <th>2</th>\n",
       "      <td>7.0</td>\n",
       "      <td>Friday</td>\n",
       "      <td>7.410811e+09</td>\n",
       "      <td>1.0</td>\n",
       "      <td>PERSONAL CARE</td>\n",
       "      <td>4504</td>\n",
       "    </tr>\n",
       "    <tr>\n",
       "      <th>3</th>\n",
       "      <td>8.0</td>\n",
       "      <td>Friday</td>\n",
       "      <td>2.238404e+09</td>\n",
       "      <td>2.0</td>\n",
       "      <td>PAINT AND ACCESSORIES</td>\n",
       "      <td>3565</td>\n",
       "    </tr>\n",
       "    <tr>\n",
       "      <th>4</th>\n",
       "      <td>8.0</td>\n",
       "      <td>Friday</td>\n",
       "      <td>2.006614e+09</td>\n",
       "      <td>2.0</td>\n",
       "      <td>PAINT AND ACCESSORIES</td>\n",
       "      <td>1017</td>\n",
       "    </tr>\n",
       "    <tr>\n",
       "      <th>...</th>\n",
       "      <td>...</td>\n",
       "      <td>...</td>\n",
       "      <td>...</td>\n",
       "      <td>...</td>\n",
       "      <td>...</td>\n",
       "      <td>...</td>\n",
       "    </tr>\n",
       "    <tr>\n",
       "      <th>647049</th>\n",
       "      <td>191346.0</td>\n",
       "      <td>Sunday</td>\n",
       "      <td>3.239000e+10</td>\n",
       "      <td>1.0</td>\n",
       "      <td>PHARMACY OTC</td>\n",
       "      <td>1118</td>\n",
       "    </tr>\n",
       "    <tr>\n",
       "      <th>647050</th>\n",
       "      <td>191346.0</td>\n",
       "      <td>Sunday</td>\n",
       "      <td>7.874205e+09</td>\n",
       "      <td>1.0</td>\n",
       "      <td>FROZEN FOODS</td>\n",
       "      <td>1752</td>\n",
       "    </tr>\n",
       "    <tr>\n",
       "      <th>647051</th>\n",
       "      <td>191346.0</td>\n",
       "      <td>Sunday</td>\n",
       "      <td>4.072000e+03</td>\n",
       "      <td>1.0</td>\n",
       "      <td>PRODUCE</td>\n",
       "      <td>4170</td>\n",
       "    </tr>\n",
       "    <tr>\n",
       "      <th>647052</th>\n",
       "      <td>191347.0</td>\n",
       "      <td>Sunday</td>\n",
       "      <td>4.190008e+09</td>\n",
       "      <td>1.0</td>\n",
       "      <td>DAIRY</td>\n",
       "      <td>1512</td>\n",
       "    </tr>\n",
       "    <tr>\n",
       "      <th>647053</th>\n",
       "      <td>191347.0</td>\n",
       "      <td>Sunday</td>\n",
       "      <td>3.800060e+09</td>\n",
       "      <td>1.0</td>\n",
       "      <td>GROCERY DRY GOODS</td>\n",
       "      <td>3600</td>\n",
       "    </tr>\n",
       "  </tbody>\n",
       "</table>\n",
       "<p>647054 rows × 6 columns</p>\n",
       "</div>"
      ],
      "text/plain": [
       "        visit_number weekday           upc  scan_count department_description  \\\n",
       "0                5.0  Friday  6.811315e+10        -1.0     FINANCIAL SERVICES   \n",
       "1                7.0  Friday  6.053882e+10         1.0                  SHOES   \n",
       "2                7.0  Friday  7.410811e+09         1.0          PERSONAL CARE   \n",
       "3                8.0  Friday  2.238404e+09         2.0  PAINT AND ACCESSORIES   \n",
       "4                8.0  Friday  2.006614e+09         2.0  PAINT AND ACCESSORIES   \n",
       "...              ...     ...           ...         ...                    ...   \n",
       "647049      191346.0  Sunday  3.239000e+10         1.0           PHARMACY OTC   \n",
       "647050      191346.0  Sunday  7.874205e+09         1.0           FROZEN FOODS   \n",
       "647051      191346.0  Sunday  4.072000e+03         1.0                PRODUCE   \n",
       "647052      191347.0  Sunday  4.190008e+09         1.0                  DAIRY   \n",
       "647053      191347.0  Sunday  3.800060e+09         1.0      GROCERY DRY GOODS   \n",
       "\n",
       "       fineline_number  \n",
       "0                 1000  \n",
       "1                 8931  \n",
       "2                 4504  \n",
       "3                 3565  \n",
       "4                 1017  \n",
       "...                ...  \n",
       "647049            1118  \n",
       "647050            1752  \n",
       "647051            4170  \n",
       "647052            1512  \n",
       "647053            3600  \n",
       "\n",
       "[647054 rows x 6 columns]"
      ]
     },
     "execution_count": 25,
     "metadata": {},
     "output_type": "execute_result"
    }
   ],
   "source": [
    "X_walmart_2"
   ]
  },
  {
   "cell_type": "code",
   "execution_count": 10,
   "metadata": {},
   "outputs": [
    {
     "data": {
      "text/plain": [
       "4129"
      ]
     },
     "execution_count": 10,
     "metadata": {},
     "output_type": "execute_result"
    }
   ],
   "source": [
    "X_walmart_2['fineline_number'].isna().sum()"
   ]
  },
  {
   "cell_type": "code",
   "execution_count": null,
   "metadata": {},
   "outputs": [],
   "source": [
    "# Reemplazo los NAS de fineline number: "
   ]
  },
  {
   "cell_type": "code",
   "execution_count": null,
   "metadata": {},
   "outputs": [],
   "source": [
    "## Reemplazar NAs con el valor 4822... por ser la media de farmacia, que era la que tenia NAS"
   ]
  },
  {
   "cell_type": "code",
   "execution_count": 11,
   "metadata": {},
   "outputs": [],
   "source": [
    "fineline_without_nas = X_walmart_2['fineline_number'].fillna('4822', inplace=False)"
   ]
  },
  {
   "cell_type": "code",
   "execution_count": 12,
   "metadata": {},
   "outputs": [],
   "source": [
    "X_walmart_2['fineline_number']= fineline_without_nas"
   ]
  },
  {
   "cell_type": "code",
   "execution_count": 13,
   "metadata": {},
   "outputs": [
    {
     "data": {
      "text/plain": [
       "trip_type                    0\n",
       "weekday                      0\n",
       "upc                       4129\n",
       "scan_count                   0\n",
       "department_description       0\n",
       "fineline_number              0\n",
       "dtype: int64"
      ]
     },
     "execution_count": 13,
     "metadata": {},
     "output_type": "execute_result"
    }
   ],
   "source": [
    "X_walmart_2.isna().sum()"
   ]
  },
  {
   "cell_type": "code",
   "execution_count": null,
   "metadata": {},
   "outputs": [],
   "source": []
  },
  {
   "cell_type": "code",
   "execution_count": null,
   "metadata": {},
   "outputs": [],
   "source": [
    "# Hago OHE con las tres columnas: "
   ]
  },
  {
   "cell_type": "code",
   "execution_count": 14,
   "metadata": {},
   "outputs": [],
   "source": [
    "from sklearn.preprocessing import OneHotEncoder\n",
    "from sklearn.pipeline import Pipeline\n",
    "from sklearn.compose import ColumnTransformer\n",
    "from sklearn.impute import SimpleImputer"
   ]
  },
  {
   "cell_type": "code",
   "execution_count": 15,
   "metadata": {},
   "outputs": [],
   "source": [
    "#categoric_for_OHE=['weekday','department_description','fineline_number']"
   ]
  },
  {
   "cell_type": "code",
   "execution_count": 16,
   "metadata": {},
   "outputs": [],
   "source": [
    "OHE=OneHotEncoder(sparse=False)"
   ]
  },
  {
   "cell_type": "code",
   "execution_count": 17,
   "metadata": {},
   "outputs": [],
   "source": [
    "X_walmart_trans= X_walmart_2.drop(['upc','scan_count'],axis=1)"
   ]
  },
  {
   "cell_type": "code",
   "execution_count": null,
   "metadata": {},
   "outputs": [],
   "source": []
  },
  {
   "cell_type": "code",
   "execution_count": 85,
   "metadata": {},
   "outputs": [],
   "source": [
    "## UN PROBLEMA EN esto que estoy hciendo en que no esta teniendo ni VARIENDAD NI SCAN COUNT ni REGRESO, que antes resultaron relevantes> "
   ]
  },
  {
   "cell_type": "markdown",
   "metadata": {},
   "source": [
    "## Columnas sobre la que voy a trabajar: "
   ]
  },
  {
   "cell_type": "code",
   "execution_count": 18,
   "metadata": {},
   "outputs": [
    {
     "data": {
      "text/html": [
       "<div>\n",
       "<style scoped>\n",
       "    .dataframe tbody tr th:only-of-type {\n",
       "        vertical-align: middle;\n",
       "    }\n",
       "\n",
       "    .dataframe tbody tr th {\n",
       "        vertical-align: top;\n",
       "    }\n",
       "\n",
       "    .dataframe thead th {\n",
       "        text-align: right;\n",
       "    }\n",
       "</style>\n",
       "<table border=\"1\" class=\"dataframe\">\n",
       "  <thead>\n",
       "    <tr style=\"text-align: right;\">\n",
       "      <th></th>\n",
       "      <th>trip_type</th>\n",
       "      <th>weekday</th>\n",
       "      <th>department_description</th>\n",
       "      <th>fineline_number</th>\n",
       "    </tr>\n",
       "  </thead>\n",
       "  <tbody>\n",
       "    <tr>\n",
       "      <th>0</th>\n",
       "      <td>999</td>\n",
       "      <td>Friday</td>\n",
       "      <td>FINANCIAL SERVICES</td>\n",
       "      <td>1000</td>\n",
       "    </tr>\n",
       "    <tr>\n",
       "      <th>1</th>\n",
       "      <td>30</td>\n",
       "      <td>Friday</td>\n",
       "      <td>SHOES</td>\n",
       "      <td>8931</td>\n",
       "    </tr>\n",
       "    <tr>\n",
       "      <th>2</th>\n",
       "      <td>30</td>\n",
       "      <td>Friday</td>\n",
       "      <td>PERSONAL CARE</td>\n",
       "      <td>4504</td>\n",
       "    </tr>\n",
       "    <tr>\n",
       "      <th>3</th>\n",
       "      <td>26</td>\n",
       "      <td>Friday</td>\n",
       "      <td>PAINT AND ACCESSORIES</td>\n",
       "      <td>3565</td>\n",
       "    </tr>\n",
       "    <tr>\n",
       "      <th>4</th>\n",
       "      <td>26</td>\n",
       "      <td>Friday</td>\n",
       "      <td>PAINT AND ACCESSORIES</td>\n",
       "      <td>1017</td>\n",
       "    </tr>\n",
       "    <tr>\n",
       "      <th>...</th>\n",
       "      <td>...</td>\n",
       "      <td>...</td>\n",
       "      <td>...</td>\n",
       "      <td>...</td>\n",
       "    </tr>\n",
       "    <tr>\n",
       "      <th>647049</th>\n",
       "      <td>39</td>\n",
       "      <td>Sunday</td>\n",
       "      <td>PHARMACY OTC</td>\n",
       "      <td>1118</td>\n",
       "    </tr>\n",
       "    <tr>\n",
       "      <th>647050</th>\n",
       "      <td>39</td>\n",
       "      <td>Sunday</td>\n",
       "      <td>FROZEN FOODS</td>\n",
       "      <td>1752</td>\n",
       "    </tr>\n",
       "    <tr>\n",
       "      <th>647051</th>\n",
       "      <td>39</td>\n",
       "      <td>Sunday</td>\n",
       "      <td>PRODUCE</td>\n",
       "      <td>4170</td>\n",
       "    </tr>\n",
       "    <tr>\n",
       "      <th>647052</th>\n",
       "      <td>8</td>\n",
       "      <td>Sunday</td>\n",
       "      <td>DAIRY</td>\n",
       "      <td>1512</td>\n",
       "    </tr>\n",
       "    <tr>\n",
       "      <th>647053</th>\n",
       "      <td>8</td>\n",
       "      <td>Sunday</td>\n",
       "      <td>GROCERY DRY GOODS</td>\n",
       "      <td>3600</td>\n",
       "    </tr>\n",
       "  </tbody>\n",
       "</table>\n",
       "<p>647054 rows × 4 columns</p>\n",
       "</div>"
      ],
      "text/plain": [
       "       trip_type weekday department_description fineline_number\n",
       "0            999  Friday     FINANCIAL SERVICES            1000\n",
       "1             30  Friday                  SHOES            8931\n",
       "2             30  Friday          PERSONAL CARE            4504\n",
       "3             26  Friday  PAINT AND ACCESSORIES            3565\n",
       "4             26  Friday  PAINT AND ACCESSORIES            1017\n",
       "...          ...     ...                    ...             ...\n",
       "647049        39  Sunday           PHARMACY OTC            1118\n",
       "647050        39  Sunday           FROZEN FOODS            1752\n",
       "647051        39  Sunday                PRODUCE            4170\n",
       "647052         8  Sunday                  DAIRY            1512\n",
       "647053         8  Sunday      GROCERY DRY GOODS            3600\n",
       "\n",
       "[647054 rows x 4 columns]"
      ]
     },
     "execution_count": 18,
     "metadata": {},
     "output_type": "execute_result"
    }
   ],
   "source": [
    "X_walmart_trans"
   ]
  },
  {
   "cell_type": "code",
   "execution_count": null,
   "metadata": {},
   "outputs": [],
   "source": [
    "## agregar esto> \n",
    "#regreso= walmart_anterior['regreso']\n",
    "#variedad= walmart_anterior['variedad']\n",
    "#X_walmart_trans['variedad']=variedad.values"
   ]
  },
  {
   "cell_type": "code",
   "execution_count": 19,
   "metadata": {},
   "outputs": [],
   "source": [
    "X_walmart_trans_ok= OHE.fit_transform(X_walmart_trans)"
   ]
  },
  {
   "cell_type": "code",
   "execution_count": 20,
   "metadata": {},
   "outputs": [
    {
     "data": {
      "text/plain": [
       "array([[0., 0., 0., ..., 0., 0., 0.],\n",
       "       [0., 0., 0., ..., 0., 0., 0.],\n",
       "       [0., 0., 0., ..., 0., 0., 0.],\n",
       "       ...,\n",
       "       [0., 0., 0., ..., 0., 0., 0.],\n",
       "       [0., 0., 0., ..., 0., 0., 0.],\n",
       "       [0., 0., 0., ..., 0., 0., 0.]])"
      ]
     },
     "execution_count": 20,
     "metadata": {},
     "output_type": "execute_result"
    }
   ],
   "source": [
    "X_walmart_trans_ok"
   ]
  },
  {
   "cell_type": "code",
   "execution_count": 27,
   "metadata": {},
   "outputs": [
    {
     "data": {
      "text/plain": [
       "(647054, 5307)"
      ]
     },
     "execution_count": 27,
     "metadata": {},
     "output_type": "execute_result"
    }
   ],
   "source": [
    "X_walmart_trans_ok.shape"
   ]
  },
  {
   "cell_type": "code",
   "execution_count": 28,
   "metadata": {},
   "outputs": [
    {
     "data": {
      "text/plain": [
       "array(['x0_12', 'x0_14', 'x0_15', ..., 'x3_9991', 'x3_9997', 'x3_9998'],\n",
       "      dtype=object)"
      ]
     },
     "execution_count": 28,
     "metadata": {},
     "output_type": "execute_result"
    }
   ],
   "source": [
    "columns_walmart_wide= OHE.get_feature_names()\n",
    "columns_walmart_wide"
   ]
  },
  {
   "cell_type": "code",
   "execution_count": null,
   "metadata": {},
   "outputs": [],
   "source": []
  },
  {
   "cell_type": "markdown",
   "metadata": {},
   "source": [
    "## SPARSE MATRIX "
   ]
  },
  {
   "cell_type": "code",
   "execution_count": 42,
   "metadata": {},
   "outputs": [],
   "source": [
    "OHE_sparse=OneHotEncoder()"
   ]
  },
  {
   "cell_type": "code",
   "execution_count": 43,
   "metadata": {},
   "outputs": [
    {
     "data": {
      "text/html": [
       "<div>\n",
       "<style scoped>\n",
       "    .dataframe tbody tr th:only-of-type {\n",
       "        vertical-align: middle;\n",
       "    }\n",
       "\n",
       "    .dataframe tbody tr th {\n",
       "        vertical-align: top;\n",
       "    }\n",
       "\n",
       "    .dataframe thead th {\n",
       "        text-align: right;\n",
       "    }\n",
       "</style>\n",
       "<table border=\"1\" class=\"dataframe\">\n",
       "  <thead>\n",
       "    <tr style=\"text-align: right;\">\n",
       "      <th></th>\n",
       "      <th>weekday</th>\n",
       "      <th>department_description</th>\n",
       "      <th>fineline_number</th>\n",
       "    </tr>\n",
       "  </thead>\n",
       "  <tbody>\n",
       "    <tr>\n",
       "      <th>0</th>\n",
       "      <td>Friday</td>\n",
       "      <td>FINANCIAL SERVICES</td>\n",
       "      <td>1000</td>\n",
       "    </tr>\n",
       "    <tr>\n",
       "      <th>1</th>\n",
       "      <td>Friday</td>\n",
       "      <td>SHOES</td>\n",
       "      <td>8931</td>\n",
       "    </tr>\n",
       "    <tr>\n",
       "      <th>2</th>\n",
       "      <td>Friday</td>\n",
       "      <td>PERSONAL CARE</td>\n",
       "      <td>4504</td>\n",
       "    </tr>\n",
       "    <tr>\n",
       "      <th>3</th>\n",
       "      <td>Friday</td>\n",
       "      <td>PAINT AND ACCESSORIES</td>\n",
       "      <td>3565</td>\n",
       "    </tr>\n",
       "    <tr>\n",
       "      <th>4</th>\n",
       "      <td>Friday</td>\n",
       "      <td>PAINT AND ACCESSORIES</td>\n",
       "      <td>1017</td>\n",
       "    </tr>\n",
       "    <tr>\n",
       "      <th>...</th>\n",
       "      <td>...</td>\n",
       "      <td>...</td>\n",
       "      <td>...</td>\n",
       "    </tr>\n",
       "    <tr>\n",
       "      <th>647049</th>\n",
       "      <td>Sunday</td>\n",
       "      <td>PHARMACY OTC</td>\n",
       "      <td>1118</td>\n",
       "    </tr>\n",
       "    <tr>\n",
       "      <th>647050</th>\n",
       "      <td>Sunday</td>\n",
       "      <td>FROZEN FOODS</td>\n",
       "      <td>1752</td>\n",
       "    </tr>\n",
       "    <tr>\n",
       "      <th>647051</th>\n",
       "      <td>Sunday</td>\n",
       "      <td>PRODUCE</td>\n",
       "      <td>4170</td>\n",
       "    </tr>\n",
       "    <tr>\n",
       "      <th>647052</th>\n",
       "      <td>Sunday</td>\n",
       "      <td>DAIRY</td>\n",
       "      <td>1512</td>\n",
       "    </tr>\n",
       "    <tr>\n",
       "      <th>647053</th>\n",
       "      <td>Sunday</td>\n",
       "      <td>GROCERY DRY GOODS</td>\n",
       "      <td>3600</td>\n",
       "    </tr>\n",
       "  </tbody>\n",
       "</table>\n",
       "<p>647054 rows × 3 columns</p>\n",
       "</div>"
      ],
      "text/plain": [
       "       weekday department_description fineline_number\n",
       "0       Friday     FINANCIAL SERVICES            1000\n",
       "1       Friday                  SHOES            8931\n",
       "2       Friday          PERSONAL CARE            4504\n",
       "3       Friday  PAINT AND ACCESSORIES            3565\n",
       "4       Friday  PAINT AND ACCESSORIES            1017\n",
       "...        ...                    ...             ...\n",
       "647049  Sunday           PHARMACY OTC            1118\n",
       "647050  Sunday           FROZEN FOODS            1752\n",
       "647051  Sunday                PRODUCE            4170\n",
       "647052  Sunday                  DAIRY            1512\n",
       "647053  Sunday      GROCERY DRY GOODS            3600\n",
       "\n",
       "[647054 rows x 3 columns]"
      ]
     },
     "execution_count": 43,
     "metadata": {},
     "output_type": "execute_result"
    }
   ],
   "source": [
    "X_walmart_trans"
   ]
  },
  {
   "cell_type": "code",
   "execution_count": 45,
   "metadata": {},
   "outputs": [],
   "source": [
    "X_walmart_trans_sparse= OHE_sparse.fit_transform(X_walmart_trans)"
   ]
  },
  {
   "cell_type": "code",
   "execution_count": 46,
   "metadata": {},
   "outputs": [
    {
     "data": {
      "text/plain": [
       "<647054x5269 sparse matrix of type '<class 'numpy.float64'>'\n",
       "\twith 1941162 stored elements in Compressed Sparse Row format>"
      ]
     },
     "execution_count": 46,
     "metadata": {},
     "output_type": "execute_result"
    }
   ],
   "source": [
    "X_walmart_trans_sparse"
   ]
  },
  {
   "cell_type": "code",
   "execution_count": 68,
   "metadata": {},
   "outputs": [
    {
     "data": {
      "text/plain": [
       "(5269,)"
      ]
     },
     "execution_count": 68,
     "metadata": {},
     "output_type": "execute_result"
    }
   ],
   "source": [
    "columns_walmart_wide_sparse= OHE_sparse.get_feature_names()\n",
    "columns_walmart_wide_sparse"
   ]
  },
  {
   "cell_type": "markdown",
   "metadata": {},
   "source": [
    "# PANDAS WIDE WIDE "
   ]
  },
  {
   "cell_type": "markdown",
   "metadata": {},
   "source": [
    "### ESTa opcion de convertir a data frame no es lo que conviene para scikit learn: "
   ]
  },
  {
   "cell_type": "code",
   "execution_count": 54,
   "metadata": {},
   "outputs": [],
   "source": [
    "visit_number_ok= pd.DataFrame(walmart_2['visit_number'],columns=['visit_number'])"
   ]
  },
  {
   "cell_type": "code",
   "execution_count": null,
   "metadata": {},
   "outputs": [],
   "source": [
    "df4 = pd.DataFrame([['bird', 'polly'], ['monkey', 'george']],\n",
    "                   columns=['animal', 'name'])"
   ]
  },
  {
   "cell_type": "code",
   "execution_count": 58,
   "metadata": {},
   "outputs": [],
   "source": [
    "walmart_wide_ok= pd.DataFrame(data=X_walmart_trans_ok, index=None, columns=[columns_walmart_wide])\n"
   ]
  },
  {
   "cell_type": "code",
   "execution_count": null,
   "metadata": {},
   "outputs": [],
   "source": [
    "walmart_wide_yes=pd.concat([visit_number_ok,walmart_wide_ok],axis=1)"
   ]
  },
  {
   "cell_type": "code",
   "execution_count": null,
   "metadata": {},
   "outputs": [],
   "source": [
    "walmart_wide_ok=walmart_wide_yes.groupby(by=[\"visit_number\"]).sum()"
   ]
  },
  {
   "cell_type": "code",
   "execution_count": null,
   "metadata": {},
   "outputs": [],
   "source": [
    "walmart_wide_ok = walmart_wide_ok.clip(upper=1)"
   ]
  },
  {
   "cell_type": "code",
   "execution_count": null,
   "metadata": {
    "scrolled": false
   },
   "outputs": [],
   "source": [
    "walmart_wide_ok"
   ]
  },
  {
   "cell_type": "code",
   "execution_count": null,
   "metadata": {},
   "outputs": [],
   "source": [
    "# Agregar trip number.... "
   ]
  },
  {
   "cell_type": "code",
   "execution_count": null,
   "metadata": {},
   "outputs": [],
   "source": []
  },
  {
   "cell_type": "code",
   "execution_count": null,
   "metadata": {},
   "outputs": [],
   "source": []
  },
  {
   "cell_type": "code",
   "execution_count": null,
   "metadata": {},
   "outputs": [],
   "source": [
    "\n",
    "\n"
   ]
  },
  {
   "cell_type": "code",
   "execution_count": 82,
   "metadata": {},
   "outputs": [],
   "source": [
    "import pickle"
   ]
  },
  {
   "cell_type": "code",
   "execution_count": null,
   "metadata": {},
   "outputs": [],
   "source": [
    "pickle.dump(walmart_wide_ok, open(\"pickles/walmart_wide_ok\", \"wb\"))"
   ]
  },
  {
   "cell_type": "code",
   "execution_count": null,
   "metadata": {},
   "outputs": [],
   "source": [
    "## Abrimos el pickle con la tabla: \n",
    "selected_var = pickle.load(open(\"pickles/selected_var\",\"rb\"))"
   ]
  },
  {
   "cell_type": "code",
   "execution_count": null,
   "metadata": {},
   "outputs": [],
   "source": [
    "#Quizas no me conviene volverlo a DATA FRAMe: nos quedamos directo con esta matriz y se la pasamos al feature selection. "
   ]
  },
  {
   "cell_type": "code",
   "execution_count": 54,
   "metadata": {},
   "outputs": [],
   "source": [
    "#walmart_wide= pipeline_OHE.fit_transform(X_walmart_2) #.todense()"
   ]
  },
  {
   "cell_type": "code",
   "execution_count": null,
   "metadata": {},
   "outputs": [],
   "source": []
  },
  {
   "cell_type": "code",
   "execution_count": 27,
   "metadata": {},
   "outputs": [],
   "source": [
    "y=walmart.iloc[:,1]"
   ]
  },
  {
   "cell_type": "code",
   "execution_count": 28,
   "metadata": {},
   "outputs": [
    {
     "data": {
      "text/plain": [
       "0        999\n",
       "1         30\n",
       "2         26\n",
       "3          8\n",
       "4          8\n",
       "        ... \n",
       "95669     25\n",
       "95670     22\n",
       "95671     39\n",
       "95672     39\n",
       "95673      8\n",
       "Name: trip_type, Length: 95674, dtype: category\n",
       "Categories (38, object): [3, 4, 5, 6, ..., 42, 43, 44, 999]"
      ]
     },
     "execution_count": 28,
     "metadata": {},
     "output_type": "execute_result"
    }
   ],
   "source": [
    "y"
   ]
  },
  {
   "cell_type": "markdown",
   "metadata": {},
   "source": [
    "### Sample de la WIDE MATRIX"
   ]
  },
  {
   "cell_type": "code",
   "execution_count": 33,
   "metadata": {},
   "outputs": [],
   "source": [
    "X_sample = X_walmart_trans_ok[0:20000]"
   ]
  },
  {
   "cell_type": "code",
   "execution_count": 35,
   "metadata": {},
   "outputs": [
    {
     "data": {
      "text/plain": [
       "(20000, 5269)"
      ]
     },
     "execution_count": 35,
     "metadata": {},
     "output_type": "execute_result"
    }
   ],
   "source": [
    "X_sample.shape"
   ]
  },
  {
   "cell_type": "code",
   "execution_count": 36,
   "metadata": {},
   "outputs": [],
   "source": [
    "y_sample = y[0:20000]"
   ]
  },
  {
   "cell_type": "code",
   "execution_count": null,
   "metadata": {},
   "outputs": [],
   "source": []
  },
  {
   "cell_type": "code",
   "execution_count": 37,
   "metadata": {},
   "outputs": [],
   "source": [
    "from sklearn.model_selection import train_test_split\n",
    "\n",
    "X_train, X_test, y_train, y_test = train_test_split(X_sample, y_sample, random_state=1)"
   ]
  },
  {
   "cell_type": "code",
   "execution_count": 82,
   "metadata": {},
   "outputs": [
    {
     "data": {
      "text/plain": [
       "array([[1., 0., 0., ..., 0., 0., 0.],\n",
       "       [1., 0., 0., ..., 0., 0., 0.],\n",
       "       [1., 0., 0., ..., 0., 0., 0.],\n",
       "       ...,\n",
       "       [1., 0., 0., ..., 0., 0., 0.],\n",
       "       [1., 0., 0., ..., 0., 0., 0.],\n",
       "       [1., 0., 0., ..., 0., 0., 0.]])"
      ]
     },
     "execution_count": 82,
     "metadata": {},
     "output_type": "execute_result"
    }
   ],
   "source": [
    "X_train"
   ]
  },
  {
   "cell_type": "code",
   "execution_count": null,
   "metadata": {},
   "outputs": [],
   "source": []
  },
  {
   "cell_type": "code",
   "execution_count": 19,
   "metadata": {},
   "outputs": [],
   "source": [
    "# quité la estandarización porque así sale mejor la evaluación de los modelos\n",
    "#pero está en otro notebook, por si acaso"
   ]
  },
  {
   "cell_type": "code",
   "execution_count": null,
   "metadata": {},
   "outputs": [],
   "source": []
  },
  {
   "cell_type": "markdown",
   "metadata": {},
   "source": [
    "## Sample de SPARSE WIDE MATRIX "
   ]
  },
  {
   "cell_type": "code",
   "execution_count": 50,
   "metadata": {
    "scrolled": true
   },
   "outputs": [
    {
     "data": {
      "text/plain": [
       "<647054x5269 sparse matrix of type '<class 'numpy.float64'>'\n",
       "\twith 1941162 stored elements in Compressed Sparse Row format>"
      ]
     },
     "execution_count": 50,
     "metadata": {},
     "output_type": "execute_result"
    }
   ],
   "source": [
    "X_walmart_trans_sparse"
   ]
  },
  {
   "cell_type": "code",
   "execution_count": 52,
   "metadata": {},
   "outputs": [],
   "source": [
    "X_wide_sparse_sample= X_walmart_trans_sparse[0:20000]"
   ]
  },
  {
   "cell_type": "code",
   "execution_count": null,
   "metadata": {},
   "outputs": [],
   "source": []
  },
  {
   "cell_type": "markdown",
   "metadata": {},
   "source": [
    "# Feature selection"
   ]
  },
  {
   "cell_type": "code",
   "execution_count": 29,
   "metadata": {},
   "outputs": [],
   "source": [
    "from sklearn.ensemble import ExtraTreesClassifier\n",
    "import matplotlib.pyplot as plt"
   ]
  },
  {
   "cell_type": "code",
   "execution_count": 30,
   "metadata": {},
   "outputs": [],
   "source": [
    "model_fs = ExtraTreesClassifier(n_estimators=500)\n"
   ]
  },
  {
   "cell_type": "code",
   "execution_count": null,
   "metadata": {},
   "outputs": [],
   "source": [
    "model_fs.fit(X_train,y_train)\n",
    "print(model_fs.feature_importances_)"
   ]
  },
  {
   "cell_type": "code",
   "execution_count": null,
   "metadata": {},
   "outputs": [],
   "source": []
  },
  {
   "cell_type": "markdown",
   "metadata": {},
   "source": [
    "## Feature selection Sparse Matrix: "
   ]
  },
  {
   "cell_type": "markdown",
   "metadata": {},
   "source": [
    "### sample"
   ]
  },
  {
   "cell_type": "code",
   "execution_count": 55,
   "metadata": {},
   "outputs": [],
   "source": [
    "y_sample = y[0:20000]"
   ]
  },
  {
   "cell_type": "code",
   "execution_count": 56,
   "metadata": {},
   "outputs": [],
   "source": [
    "from sklearn.model_selection import train_test_split\n",
    "\n",
    "X_train_sparse, X_test_sparse, y_train_sparse, y_test_sparse = train_test_split(X_wide_sparse_sample, y_sample, random_state=1)"
   ]
  },
  {
   "cell_type": "code",
   "execution_count": 83,
   "metadata": {},
   "outputs": [
    {
     "data": {
      "text/plain": [
       "<15000x5269 sparse matrix of type '<class 'numpy.float64'>'\n",
       "\twith 45000 stored elements in Compressed Sparse Row format>"
      ]
     },
     "execution_count": 83,
     "metadata": {},
     "output_type": "execute_result"
    }
   ],
   "source": [
    "X_train_sparse"
   ]
  },
  {
   "cell_type": "code",
   "execution_count": 57,
   "metadata": {},
   "outputs": [],
   "source": [
    "from sklearn.ensemble import ExtraTreesClassifier\n",
    "import matplotlib.pyplot as plt"
   ]
  },
  {
   "cell_type": "code",
   "execution_count": 58,
   "metadata": {},
   "outputs": [],
   "source": [
    "model_fs = ExtraTreesClassifier(n_estimators=500)\n"
   ]
  },
  {
   "cell_type": "code",
   "execution_count": 60,
   "metadata": {},
   "outputs": [
    {
     "name": "stdout",
     "output_type": "stream",
     "text": [
      "[0.00086152 0.         0.00086644 ... 0.         0.         0.00020175]\n"
     ]
    }
   ],
   "source": [
    "model_fs.fit(X_train_sparse,y_train_sparse)\n",
    "print(model_fs.feature_importances_)"
   ]
  },
  {
   "cell_type": "code",
   "execution_count": 66,
   "metadata": {},
   "outputs": [
    {
     "data": {
      "text/plain": [
       "(5269,)"
      ]
     },
     "execution_count": 66,
     "metadata": {},
     "output_type": "execute_result"
    }
   ],
   "source": [
    " model_fs.feature_importances_.shape"
   ]
  },
  {
   "cell_type": "code",
   "execution_count": 69,
   "metadata": {},
   "outputs": [],
   "source": [
    "feat_importances = pd.Series(model_fs.feature_importances_, index=columns_walmart_wide_sparse)"
   ]
  },
  {
   "cell_type": "code",
   "execution_count": 70,
   "metadata": {},
   "outputs": [
    {
     "data": {
      "text/plain": [
       "<matplotlib.axes._subplots.AxesSubplot at 0x7fbebb1a67c0>"
      ]
     },
     "execution_count": 70,
     "metadata": {},
     "output_type": "execute_result"
    },
    {
     "data": {
      "image/png": "[encoded data removed]",
      "text/plain": [
       "<Figure size 432x288 with 1 Axes>"
      ]
     },
     "metadata": {
      "needs_background": "light"
     },
     "output_type": "display_data"
    }
   ],
   "source": [
    "feat_importances.nlargest(50).plot(kind='barh')"
   ]
  },
  {
   "cell_type": "code",
   "execution_count": 71,
   "metadata": {},
   "outputs": [
    {
     "data": {
      "text/plain": [
       "x1_GROCERY DRY GOODS              0.008710\n",
       "x1_PERSONAL CARE                  0.007863\n",
       "x1_HOUSEHOLD PAPER GOODS          0.006244\n",
       "x1_INFANT CONSUMABLE HARDLINES    0.005034\n",
       "x1_PHARMACY OTC                   0.004688\n",
       "x1_COOK AND DINE                  0.004337\n",
       "x1_HOUSEHOLD CHEMICALS/SUPP       0.003750\n",
       "x1_TOYS                           0.003709\n",
       "x1_LAWN AND GARDEN                0.003406\n",
       "x1_IMPULSE MERCHANDISE            0.003285\n",
       "x1_LADIESWEAR                     0.003184\n",
       "x1_BAKERY                         0.003120\n",
       "x1_HARDWARE                       0.002996\n",
       "x1_MEAT - FRESH & FROZEN          0.002939\n",
       "x1_LIQUOR,WINE,BEER               0.002840\n",
       "x1_PETS AND SUPPLIES              0.002630\n",
       "x1_DAIRY                          0.002588\n",
       "x1_INFANT APPAREL                 0.002514\n",
       "x1_FROZEN FOODS                   0.002478\n",
       "x1_SERVICE DELI                   0.002342\n",
       "x1_FABRICS AND CRAFTS             0.002307\n",
       "x1_CELEBRATION                    0.002290\n",
       "x1_BEAUTY                         0.002262\n",
       "x1_ELECTRONICS                    0.001843\n",
       "x1_SHOES                          0.001803\n",
       "x1_HOME MANAGEMENT                0.001692\n",
       "x1_DSD GROCERY                    0.001689\n",
       "x1_COMM BREAD                     0.001670\n",
       "x1_AUTOMOTIVE                     0.001622\n",
       "x1_GIRLS WEAR, 4-6X  AND 7-14     0.001553\n",
       "x1_PAINT AND ACCESSORIES          0.001547\n",
       "x1_BRAS & SHAPEWEAR               0.001497\n",
       "x1_PRODUCE                        0.001438\n",
       "x2_530                            0.001399\n",
       "x1_HORTICULTURE AND ACCESS        0.001348\n",
       "x1_BATH AND SHOWER                0.001329\n",
       "x2_1001                           0.001282\n",
       "x1_JEWELRY AND SUNGLASSES         0.001251\n",
       "x1_OPTICAL - FRAMES               0.001226\n",
       "x1_SPORTING GOODS                 0.001215\n",
       "x2_610                            0.001209\n",
       "x2_3701                           0.001186\n",
       "x2_1005                           0.001177\n",
       "x2_3004                           0.001134\n",
       "x2_1201                           0.001133\n",
       "x2_3011                           0.001108\n",
       "x2_2005                           0.001103\n",
       "x2_202                            0.001096\n",
       "x2_1202                           0.001059\n",
       "x2_2006                           0.001034\n",
       "dtype: float64"
      ]
     },
     "execution_count": 71,
     "metadata": {},
     "output_type": "execute_result"
    }
   ],
   "source": [
    "feat_importances.nlargest(50)"
   ]
  },
  {
   "cell_type": "code",
   "execution_count": 73,
   "metadata": {},
   "outputs": [],
   "source": [
    "selected_var_sparse = feat_importances.nlargest(50).index"
   ]
  },
  {
   "cell_type": "code",
   "execution_count": 75,
   "metadata": {},
   "outputs": [],
   "source": [
    "import pickle"
   ]
  },
  {
   "cell_type": "code",
   "execution_count": 78,
   "metadata": {},
   "outputs": [],
   "source": [
    "pickle.dump(selected_var, open(\"pickles/selected_var_sparse\", \"wb\"))"
   ]
  },
  {
   "cell_type": "code",
   "execution_count": 80,
   "metadata": {},
   "outputs": [],
   "source": [
    "#guardamos un pickle\n",
    "selected_var_sparse = pickle.load(open(\"pickles/selected_var_sparse\",\"rb\"))"
   ]
  },
  {
   "cell_type": "code",
   "execution_count": 87,
   "metadata": {},
   "outputs": [
    {
     "data": {
      "text/plain": [
       "Index(['x1_GROCERY DRY GOODS', 'x1_PERSONAL CARE', 'x1_HOUSEHOLD PAPER GOODS',\n",
       "       'x1_INFANT CONSUMABLE HARDLINES', 'x1_PHARMACY OTC', 'x1_COOK AND DINE',\n",
       "       'x1_HOUSEHOLD CHEMICALS/SUPP', 'x1_TOYS', 'x1_LAWN AND GARDEN',\n",
       "       'x1_IMPULSE MERCHANDISE', 'x1_LADIESWEAR', 'x1_BAKERY', 'x1_HARDWARE',\n",
       "       'x1_MEAT - FRESH & FROZEN', 'x1_LIQUOR,WINE,BEER',\n",
       "       'x1_PETS AND SUPPLIES', 'x1_DAIRY', 'x1_INFANT APPAREL',\n",
       "       'x1_FROZEN FOODS', 'x1_SERVICE DELI', 'x1_FABRICS AND CRAFTS',\n",
       "       'x1_CELEBRATION', 'x1_BEAUTY', 'x1_ELECTRONICS', 'x1_SHOES',\n",
       "       'x1_HOME MANAGEMENT', 'x1_DSD GROCERY', 'x1_COMM BREAD',\n",
       "       'x1_AUTOMOTIVE', 'x1_GIRLS WEAR, 4-6X  AND 7-14',\n",
       "       'x1_PAINT AND ACCESSORIES', 'x1_BRAS & SHAPEWEAR', 'x1_PRODUCE',\n",
       "       'x2_530', 'x1_HORTICULTURE AND ACCESS', 'x1_BATH AND SHOWER', 'x2_1001',\n",
       "       'x1_JEWELRY AND SUNGLASSES', 'x1_OPTICAL - FRAMES', 'x1_SPORTING GOODS',\n",
       "       'x2_610', 'x2_3701', 'x2_1005', 'x2_3004', 'x2_1201', 'x2_3011',\n",
       "       'x2_2005', 'x2_202', 'x2_1202', 'x2_2006'],\n",
       "      dtype='object')"
      ]
     },
     "execution_count": 87,
     "metadata": {},
     "output_type": "execute_result"
    }
   ],
   "source": [
    "selected_var_sparse "
   ]
  },
  {
   "cell_type": "code",
   "execution_count": 20,
   "metadata": {},
   "outputs": [],
   "source": [
    "#lo que está comentado no es necesario correrlo porque ya está en un pickle"
   ]
  },
  {
   "cell_type": "code",
   "execution_count": 14,
   "metadata": {},
   "outputs": [],
   "source": [
    "#from sklearn.ensemble import ExtraTreesClassifier\n",
    "#import matplotlib.pyplot as plt"
   ]
  },
  {
   "cell_type": "code",
   "execution_count": 15,
   "metadata": {},
   "outputs": [],
   "source": [
    "#model_fs = ExtraTreesClassifier(n_estimators=500)\n",
    "#model_fs.fit(X_train,y_train)\n",
    "#print(model_fs.feature_importances_)"
   ]
  },
  {
   "cell_type": "code",
   "execution_count": 16,
   "metadata": {},
   "outputs": [],
   "source": [
    "#feat_importances = pd.Series(model_fs.feature_importances_, index=X_train.columns)\n",
    "#feat_importances.nlargest(50).plot(kind='barh')\n",
    "#plt.show()"
   ]
  },
  {
   "cell_type": "code",
   "execution_count": 17,
   "metadata": {},
   "outputs": [],
   "source": [
    "#feat_importances.nlargest(50)"
   ]
  },
  {
   "cell_type": "code",
   "execution_count": 18,
   "metadata": {},
   "outputs": [],
   "source": [
    "#selected_var = feat_importances.nlargest(50).index"
   ]
  },
  {
   "cell_type": "code",
   "execution_count": 21,
   "metadata": {},
   "outputs": [],
   "source": [
    "import pickle"
   ]
  },
  {
   "cell_type": "code",
   "execution_count": 22,
   "metadata": {},
   "outputs": [],
   "source": [
    "#guardamos un pickle\n",
    "\n",
    "#pickle.dump(selected_var, open(\"pickles/selected_var\", \"wb\"))\n",
    "\n",
    "selected_var = pickle.load(open(\"pickles/selected_var_sparse\",\"rb\"))"
   ]
  },
  {
   "cell_type": "code",
   "execution_count": 23,
   "metadata": {},
   "outputs": [],
   "source": [
    "#cargamos el pickle\n",
    "selected_var = pickle.load(open(\"pickles/selected_var\",\"rb\"))"
   ]
  },
  {
   "cell_type": "code",
   "execution_count": 24,
   "metadata": {},
   "outputs": [
    {
     "data": {
      "text/plain": [
       "Index(['variedad', 'scan_count', 'regreso',\n",
       "       'department_description_DSD GROCERY',\n",
       "       'department_description_FINANCIAL SERVICES',\n",
       "       'department_description_PERSONAL CARE',\n",
       "       'department_description_PHARMACY OTC',\n",
       "       'department_description_GROCERY DRY GOODS',\n",
       "       'department_description_PRODUCE', 'department_description_DAIRY',\n",
       "       'department_description_SERVICE DELI',\n",
       "       'department_description_IMPULSE MERCHANDISE',\n",
       "       'department_description_MENSWEAR',\n",
       "       'department_description_HOUSEHOLD CHEMICALS/SUPP',\n",
       "       'department_description_PHARMACY RX',\n",
       "       'department_description_INFANT CONSUMABLE HARDLINES',\n",
       "       'department_description_BEAUTY', 'department_description_FROZEN FOODS',\n",
       "       'department_description_HOUSEHOLD PAPER GOODS',\n",
       "       'department_description_COMM BREAD',\n",
       "       'department_description_CANDY, TOBACCO, COOKIES',\n",
       "       'department_description_MEAT - FRESH & FROZEN',\n",
       "       'department_description_LADIESWEAR',\n",
       "       'department_description_PETS AND SUPPLIES', 'weekday_Saturday',\n",
       "       'department_description_CELEBRATION', 'weekday_Friday',\n",
       "       'department_description_AUTOMOTIVE', 'department_description_SHOES',\n",
       "       'weekday_Sunday', 'department_description_LIQUOR,WINE,BEER',\n",
       "       'weekday_Monday', 'department_description_HOME MANAGEMENT',\n",
       "       'department_description_COOK AND DINE',\n",
       "       'department_description_OFFICE SUPPLIES', 'department_description_TOYS',\n",
       "       'department_description_BAKERY', 'weekday_Thursday',\n",
       "       'weekday_Wednesday', 'weekday_Tuesday',\n",
       "       'department_description_SPORTING GOODS',\n",
       "       'department_description_LAWN AND GARDEN',\n",
       "       'department_description_HARDWARE', 'department_description_ELECTRONICS',\n",
       "       'department_description_PRE PACKED DELI',\n",
       "       'department_description_HOME DECOR', 'department_description_WIRELESS',\n",
       "       'department_description_FABRICS AND CRAFTS',\n",
       "       'department_description_INFANT APPAREL',\n",
       "       'department_description_BATH AND SHOWER'],\n",
       "      dtype='object')"
      ]
     },
     "execution_count": 24,
     "metadata": {},
     "output_type": "execute_result"
    }
   ],
   "source": [
    "selected_var"
   ]
  },
  {
   "cell_type": "code",
   "execution_count": null,
   "metadata": {},
   "outputs": [],
   "source": []
  },
  {
   "cell_type": "markdown",
   "metadata": {},
   "source": [
    "### SELECCIONAR SOLO LAS COLUMNAS QUE NECESITAMOS:"
   ]
  },
  {
   "cell_type": "code",
   "execution_count": 88,
   "metadata": {},
   "outputs": [
    {
     "data": {
      "text/plain": [
       "Index(['x1_GROCERY DRY GOODS', 'x1_PERSONAL CARE', 'x1_HOUSEHOLD PAPER GOODS',\n",
       "       'x1_INFANT CONSUMABLE HARDLINES', 'x1_PHARMACY OTC', 'x1_COOK AND DINE',\n",
       "       'x1_HOUSEHOLD CHEMICALS/SUPP', 'x1_TOYS', 'x1_LAWN AND GARDEN',\n",
       "       'x1_IMPULSE MERCHANDISE', 'x1_LADIESWEAR', 'x1_BAKERY', 'x1_HARDWARE',\n",
       "       'x1_MEAT - FRESH & FROZEN', 'x1_LIQUOR,WINE,BEER',\n",
       "       'x1_PETS AND SUPPLIES', 'x1_DAIRY', 'x1_INFANT APPAREL',\n",
       "       'x1_FROZEN FOODS', 'x1_SERVICE DELI', 'x1_FABRICS AND CRAFTS',\n",
       "       'x1_CELEBRATION', 'x1_BEAUTY', 'x1_ELECTRONICS', 'x1_SHOES',\n",
       "       'x1_HOME MANAGEMENT', 'x1_DSD GROCERY', 'x1_COMM BREAD',\n",
       "       'x1_AUTOMOTIVE', 'x1_GIRLS WEAR, 4-6X  AND 7-14',\n",
       "       'x1_PAINT AND ACCESSORIES', 'x1_BRAS & SHAPEWEAR', 'x1_PRODUCE',\n",
       "       'x2_530', 'x1_HORTICULTURE AND ACCESS', 'x1_BATH AND SHOWER', 'x2_1001',\n",
       "       'x1_JEWELRY AND SUNGLASSES', 'x1_OPTICAL - FRAMES', 'x1_SPORTING GOODS',\n",
       "       'x2_610', 'x2_3701', 'x2_1005', 'x2_3004', 'x2_1201', 'x2_3011',\n",
       "       'x2_2005', 'x2_202', 'x2_1202', 'x2_2006'],\n",
       "      dtype='object')"
      ]
     },
     "execution_count": 88,
     "metadata": {},
     "output_type": "execute_result"
    }
   ],
   "source": [
    "selected_var_sparse"
   ]
  },
  {
   "cell_type": "code",
   "execution_count": null,
   "metadata": {},
   "outputs": [],
   "source": []
  },
  {
   "cell_type": "code",
   "execution_count": null,
   "metadata": {},
   "outputs": [],
   "source": []
  },
  {
   "cell_type": "code",
   "execution_count": null,
   "metadata": {},
   "outputs": [],
   "source": []
  },
  {
   "cell_type": "code",
   "execution_count": null,
   "metadata": {},
   "outputs": [],
   "source": []
  },
  {
   "cell_type": "markdown",
   "metadata": {},
   "source": [
    "## X train y X test after feature selection:"
   ]
  },
  {
   "cell_type": "markdown",
   "metadata": {},
   "source": [
    "**50 variables**"
   ]
  },
  {
   "cell_type": "code",
   "execution_count": 25,
   "metadata": {},
   "outputs": [],
   "source": [
    "X_train_fs = X_train[selected_var_sparse]"
   ]
  },
  {
   "cell_type": "code",
   "execution_count": 26,
   "metadata": {},
   "outputs": [],
   "source": [
    "X_test_fs = X_test[selected_var_sparse]"
   ]
  },
  {
   "cell_type": "code",
   "execution_count": 27,
   "metadata": {},
   "outputs": [
    {
     "data": {
      "text/plain": [
       "(5000, 50)"
      ]
     },
     "execution_count": 27,
     "metadata": {},
     "output_type": "execute_result"
    }
   ],
   "source": [
    "X_test_fs.shape"
   ]
  },
  {
   "cell_type": "markdown",
   "metadata": {},
   "source": [
    "# Modelos"
   ]
  },
  {
   "cell_type": "markdown",
   "metadata": {},
   "source": [
    "### Random Forest"
   ]
  },
  {
   "cell_type": "code",
   "execution_count": 44,
   "metadata": {},
   "outputs": [],
   "source": [
    "from sklearn.ensemble import RandomForestClassifier\n",
    "model = RandomForestClassifier(n_estimators=500)\n",
    "model.fit(X_train_fs, y_train)\n",
    "y_model = model.predict(X_test_fs)"
   ]
  },
  {
   "cell_type": "code",
   "execution_count": 45,
   "metadata": {},
   "outputs": [
    {
     "name": "stdout",
     "output_type": "stream",
     "text": [
      "Accuracy: 0.646180860403863\n"
     ]
    }
   ],
   "source": [
    "from sklearn.metrics import accuracy_score\n",
    "print(\"Accuracy: {}\".format(accuracy_score(y_test, y_model)))"
   ]
  },
  {
   "cell_type": "code",
   "execution_count": 58,
   "metadata": {},
   "outputs": [],
   "source": [
    "pickle.dump( model, open( \"pickles/random_forest_21_columns\", \"wb\" ) )"
   ]
  },
  {
   "cell_type": "code",
   "execution_count": null,
   "metadata": {},
   "outputs": [],
   "source": [
    "#no me corre con mil árboles :(, lo voy a hacer con 500\n",
    "# con 500 árboles y 50 variables: 0.646180860403863"
   ]
  },
  {
   "cell_type": "code",
   "execution_count": null,
   "metadata": {},
   "outputs": [],
   "source": []
  },
  {
   "cell_type": "code",
   "execution_count": null,
   "metadata": {},
   "outputs": [],
   "source": [
    "# Accuracy: 0.5881516785818806 con la seleccion de features de 21 variables.  "
   ]
  },
  {
   "cell_type": "code",
   "execution_count": null,
   "metadata": {},
   "outputs": [],
   "source": [
    "# Con todo el data set nos habia dado accuracy: 0.6539343009931246"
   ]
  },
  {
   "cell_type": "markdown",
   "metadata": {},
   "source": [
    "### Knn"
   ]
  },
  {
   "cell_type": "code",
   "execution_count": 28,
   "metadata": {},
   "outputs": [],
   "source": [
    "from sklearn.metrics import accuracy_score\n",
    "from sklearn.neighbors import KNeighborsClassifier"
   ]
  },
  {
   "cell_type": "code",
   "execution_count": 19,
   "metadata": {},
   "outputs": [
    {
     "name": "stdout",
     "output_type": "stream",
     "text": [
      "CPU times: user 59.1 s, sys: 0 ns, total: 59.1 s\n",
      "Wall time: 59.2 s\n"
     ]
    }
   ],
   "source": [
    "%%time\n",
    "\n",
    "model_knn = KNeighborsClassifier(n_neighbors=15)\n",
    "model_knn.fit(X_train, y_train)\n",
    "y_model_knn = model_knn.predict(X_test)"
   ]
  },
  {
   "cell_type": "code",
   "execution_count": 20,
   "metadata": {},
   "outputs": [
    {
     "name": "stdout",
     "output_type": "stream",
     "text": [
      "Accuracy: 0.650319829424307\n"
     ]
    }
   ],
   "source": [
    "print(\"Accuracy: {}\".format(accuracy_score(y_test, y_model_knn)))"
   ]
  },
  {
   "cell_type": "code",
   "execution_count": null,
   "metadata": {},
   "outputs": [],
   "source": [
    "# 10 VECINOS\n",
    "#accuracy 50 variables: 0.5876499853672812\n",
    "#accuracy con todas las variables: 0.5976002341235002\n",
    "# 5 VECINOS\n",
    "#accuracy con todas las variables: 0.590994606797943, 2 min\n",
    "# 15 VECINOS\n",
    "#accuracy con todas las variables: 0.59772565742715, 2 min\n",
    "\n",
    "#sin estandarizar variedad, 15 vecinos, todas las variables: 0.6305029474476358\n",
    "#igual pero con la wide limpia: 0.6323842970023831\n",
    "#igual pero con corrección de menswear e imputación: 0.650319829424307"
   ]
  },
  {
   "cell_type": "markdown",
   "metadata": {},
   "source": [
    "### SVM"
   ]
  },
  {
   "cell_type": "code",
   "execution_count": 29,
   "metadata": {},
   "outputs": [],
   "source": [
    "from sklearn import svm"
   ]
  },
  {
   "cell_type": "code",
   "execution_count": 32,
   "metadata": {},
   "outputs": [
    {
     "name": "stdout",
     "output_type": "stream",
     "text": [
      "CPU times: user 13min 51s, sys: 515 ms, total: 13min 52s\n",
      "Wall time: 13min 54s\n"
     ]
    }
   ],
   "source": [
    "%%time\n",
    "model_svm = svm.SVC(kernel='linear', probability=True, random_state=0)\n",
    "model_svm.fit(X_train_fs, y_train)\n",
    "y_model_svm = model_svm.predict(X_test_fs)"
   ]
  },
  {
   "cell_type": "code",
   "execution_count": 33,
   "metadata": {},
   "outputs": [
    {
     "name": "stdout",
     "output_type": "stream",
     "text": [
      "Accuracy: 0.6660813579163009\n"
     ]
    }
   ],
   "source": [
    "print(\"Accuracy: {}\".format(accuracy_score(y_test, y_model_svm)))"
   ]
  },
  {
   "cell_type": "code",
   "execution_count": null,
   "metadata": {},
   "outputs": [],
   "source": [
    "#accuracy con todas las variables: 0.6856892010535558, se tardó 25 minutos\n",
    "#accurCY con 50 variables: 0.6660813579163009, se tardó 13 minutos"
   ]
  },
  {
   "cell_type": "markdown",
   "metadata": {},
   "source": [
    "### Árbol de Decisiones"
   ]
  },
  {
   "cell_type": "code",
   "execution_count": 30,
   "metadata": {},
   "outputs": [],
   "source": [
    "from sklearn.tree import DecisionTreeClassifier"
   ]
  },
  {
   "cell_type": "code",
   "execution_count": 36,
   "metadata": {},
   "outputs": [
    {
     "name": "stdout",
     "output_type": "stream",
     "text": [
      "CPU times: user 784 ms, sys: 0 ns, total: 784 ms\n",
      "Wall time: 783 ms\n"
     ]
    }
   ],
   "source": [
    "%%time\n",
    "model_dt = DecisionTreeClassifier()\n",
    "model_dt.fit(X_train_fs, y_train)\n",
    "y_model_dt = model_dt.predict(X_test_fs)"
   ]
  },
  {
   "cell_type": "code",
   "execution_count": 37,
   "metadata": {},
   "outputs": [
    {
     "name": "stdout",
     "output_type": "stream",
     "text": [
      "Accuracy: 0.5752330783059493\n"
     ]
    }
   ],
   "source": [
    "print(\"Accuracy: {}\".format(accuracy_score(y_test, y_model_dt)))"
   ]
  },
  {
   "cell_type": "code",
   "execution_count": null,
   "metadata": {},
   "outputs": [],
   "source": [
    "#accuracy con todas las variables:  0.5939629583176554, se tarda un segundo\n",
    "# accuracy con 50: 0.5752330783059493, menos d eun segundo"
   ]
  },
  {
   "cell_type": "markdown",
   "metadata": {},
   "source": [
    "### Gradient Boosting"
   ]
  },
  {
   "cell_type": "code",
   "execution_count": 31,
   "metadata": {},
   "outputs": [],
   "source": [
    "from sklearn.ensemble import GradientBoostingClassifier"
   ]
  },
  {
   "cell_type": "code",
   "execution_count": 40,
   "metadata": {},
   "outputs": [
    {
     "name": "stdout",
     "output_type": "stream",
     "text": [
      "CPU times: user 50.5 s, sys: 16 ms, total: 50.6 s\n",
      "Wall time: 50.6 s\n"
     ]
    }
   ],
   "source": [
    "%%time\n",
    "model_gb = GradientBoostingClassifier(learning_rate=0.05, subsample=0.5, max_depth=6, n_estimators=10)\n",
    "model_gb.fit(X_train_fs, y_train)\n",
    "y_model_gb = model_gb.predict(X_test_fs)"
   ]
  },
  {
   "cell_type": "code",
   "execution_count": 41,
   "metadata": {},
   "outputs": [
    {
     "name": "stdout",
     "output_type": "stream",
     "text": [
      "Accuracy: 0.6190476190476191\n"
     ]
    }
   ],
   "source": [
    "print(\"Accuracy: {}\".format(accuracy_score(y_test, y_model_gb)))"
   ]
  },
  {
   "cell_type": "code",
   "execution_count": null,
   "metadata": {},
   "outputs": [],
   "source": [
    "# accuracy con todas las variables:  0.6311718717337681, 1 minuto\n",
    "# accuracy con 50: 0.6190476190476191, menos de 1 minuto"
   ]
  },
  {
   "cell_type": "markdown",
   "metadata": {},
   "source": [
    "### Logistic Regression"
   ]
  },
  {
   "cell_type": "code",
   "execution_count": 32,
   "metadata": {},
   "outputs": [],
   "source": [
    "from sklearn.linear_model import LogisticRegression"
   ]
  },
  {
   "cell_type": "code",
   "execution_count": 29,
   "metadata": {},
   "outputs": [
    {
     "name": "stdout",
     "output_type": "stream",
     "text": [
      "CPU times: user 1min 17s, sys: 26.3 ms, total: 1min 17s\n",
      "Wall time: 1min 17s\n"
     ]
    }
   ],
   "source": [
    "%%time\n",
    "model_lr = LogisticRegression(penalty='l2', C=1e5, solver='liblinear')\n",
    "model_lr.fit(X_train, y_train)\n",
    "y_model_lr = model_lr.predict(X_test)"
   ]
  },
  {
   "cell_type": "code",
   "execution_count": 30,
   "metadata": {},
   "outputs": [
    {
     "name": "stdout",
     "output_type": "stream",
     "text": [
      "Accuracy: 0.6399515029892554\n"
     ]
    }
   ],
   "source": [
    "print(\"Accuracy: {}\".format(accuracy_score(y_test, y_model_lr)))"
   ]
  },
  {
   "cell_type": "code",
   "execution_count": null,
   "metadata": {},
   "outputs": [],
   "source": [
    "# con 50 variables: 0.6178351937790041\n",
    "# con todas: 0.6399515029892554"
   ]
  },
  {
   "cell_type": "code",
   "execution_count": null,
   "metadata": {},
   "outputs": [],
   "source": []
  },
  {
   "cell_type": "markdown",
   "metadata": {},
   "source": [
    "## Magic Loop"
   ]
  },
  {
   "cell_type": "code",
   "execution_count": 33,
   "metadata": {},
   "outputs": [],
   "source": [
    "from time import time\n",
    "from sklearn.linear_model import LogisticRegression\n",
    "from sklearn.ensemble import GradientBoostingClassifier\n",
    "from sklearn import svm\n",
    "from sklearn.neighbors import KNeighborsClassifier\n",
    "from sklearn.ensemble import RandomForestClassifier"
   ]
  },
  {
   "cell_type": "code",
   "execution_count": 129,
   "metadata": {},
   "outputs": [],
   "source": [
    "from sklearn import metrics\n",
    "def precision_at_k(y_true, y_scores, k):\n",
    "    threshold = np.sort(y_scores)[::-1][int(k*len(y_scores))]\n",
    "    y_pred = np.asarray([1 if i >= threshold else 0 for i in y_scores])\n",
    "    #return metrics.precision_score(y_true, y_pred, average = 'weighted', zero_division = 0)\n",
    "    return metrics.precision_score(y_true, y_pred, average = 'macro')"
   ]
  },
  {
   "cell_type": "code",
   "execution_count": 130,
   "metadata": {},
   "outputs": [],
   "source": [
    "#magic loop, máximo 4 hiper parámetros\n",
    "#comente random forest porque me odia"
   ]
  },
  {
   "cell_type": "code",
   "execution_count": 131,
   "metadata": {},
   "outputs": [],
   "source": [
    "def define_hyper_params():\n",
    "    clfs = {\n",
    "        #'RF': RandomForestClassifier(n_estimators=100),\n",
    "        'KNN': KNeighborsClassifier(n_neighbors=15),\n",
    "        #'SVM': svm.SVC(kernel='linear', probability=True, random_state=0),\n",
    "        #'GB': GradientBoostingClassifier(learning_rate=0.05, subsample=0.5, max_depth=6, n_estimators=10),\n",
    "        #'DT': DecisionTreeClassifier(),\n",
    "        'LR': LogisticRegression(penalty='l2', C=1e5, solver='liblinear')\n",
    "        \n",
    "            }\n",
    "\n",
    "    grid = { \n",
    "        #'RF':{'n_estimators': [10,100,500], 'max_depth': [10,25,50,100], 'max_features': ['sqrt','log2'],'min_samples_split': [2,5,10]},\n",
    "        'KNN' :{'n_neighbors': [5,15,25,50],'weights': ['uniform','distance'],'algorithm': ['auto','ball_tree','kd_tree']},\n",
    "        #'SVM' :{'C' :[0.00001,0.001,0.1,1],'kernel':['linear', 'rbf']},\n",
    "        #'GB': {'n_estimators': [1,10,100,500], 'learning_rate' : [0.01,0.05,0.1,0.5],'subsample' : [0.1,0.5,1.0], 'max_depth': [5,10,20,50]},\n",
    "        #'DT': {'criterion': ['gini', 'entropy'], 'max_depth': [5,10,20,50,100], 'max_features': ['sqrt','log2'],'min_samples_split': [2,5,10]},\n",
    "        'LR': { 'penalty': ['l1','l2'], 'C': [0.0001,0.001,0.01,0.1,1]}\n",
    "           }\n",
    "\n",
    "    return clfs, grid"
   ]
  },
  {
   "cell_type": "code",
   "execution_count": 132,
   "metadata": {},
   "outputs": [],
   "source": [
    "def magic_loop(models_to_run, clfs, grid, X, y, search = 1):\n",
    "    for n in range(1, 2):\n",
    "        X_train, X_test, y_train, y_test = train_test_split(X, y)\n",
    "        for index, clf in enumerate([clfs[x] for x in models_to_run]):\n",
    "            print(models_to_run[index])\n",
    "            parameter_values = grid[models_to_run[index]]\n",
    "            try:\n",
    "                if(search):\n",
    "                    gs = GridSearchCV(clf, parameter_values, cv=3)\n",
    "                    start = time()\n",
    "                    y_pred_probs = gs.fit(X_train, y_train).predict_proba(X_test)[:,1]\n",
    "                    y_score = gs.fit(X_train, y_train).decision_function(X_test)\n",
    "                    print(precision_at_k(y_test, y_pred_probs, 0.05))\n",
    "                    print(\"GridSearch time: \" + (str)(time() - start))\n",
    "\n",
    "                else:\n",
    "                    start = time()\n",
    "                    rs = RandomizedSearchCV(clf, parameter_values, cv=3)\n",
    "                    y_pred_probs = rs.fit(X_train, y_train).predict_proba(X_test)[:,1]\n",
    "                    print(y_test)\n",
    "                    print(y_pred_probs)\n",
    "                    print(rs.best_estimator_)\n",
    "                    print(precision_at_k(y_test.astype(float), y_pred_probs.astype(float), 0.05)) \n",
    "                    print(\"RandomizedSearch time: \" + (str)(time() - start))\n",
    "            except IndexError as e:\n",
    "                print('Error:', e)\n",
    "                continue"
   ]
  },
  {
   "cell_type": "code",
   "execution_count": 133,
   "metadata": {},
   "outputs": [],
   "source": [
    "clfs, grid = define_hyper_params()\n",
    "#models = ['RF','KNN','SVM','GB','DT','LR']\n",
    "models = ['KNN','LR']"
   ]
  },
  {
   "cell_type": "code",
   "execution_count": 134,
   "metadata": {},
   "outputs": [],
   "source": [
    "X_fs = X_sample[selected_var]"
   ]
  },
  {
   "cell_type": "code",
   "execution_count": 135,
   "metadata": {},
   "outputs": [],
   "source": [
    "#Grid Search\n",
    "#magic_loop(models, clfs, grid, X_fs, y, search = 1)"
   ]
  },
  {
   "cell_type": "code",
   "execution_count": null,
   "metadata": {},
   "outputs": [
    {
     "name": "stdout",
     "output_type": "stream",
     "text": [
      "KNN\n"
     ]
    },
    {
     "name": "stderr",
     "output_type": "stream",
     "text": [
      "/home/diramtz/anaconda3/lib/python3.8/site-packages/sklearn/model_selection/_split.py:670: UserWarning: The least populated class in y has only 2 members, which is less than n_splits=3.\n",
      "  warnings.warn((\"The least populated class in y has only %d\"\n"
     ]
    },
    {
     "name": "stdout",
     "output_type": "stream",
     "text": [
      "17433     8\n",
      "5003      7\n",
      "8592     28\n",
      "13427     9\n",
      "7429     39\n",
      "         ..\n",
      "16333    35\n",
      "12768    39\n",
      "7614     40\n",
      "9654     34\n",
      "11275     5\n",
      "Name: trip_type, Length: 5000, dtype: category\n",
      "Categories (38, object): ['3', '4', '5', '6', ..., '42', '43', '44', '999']\n",
      "[0.         0.04346495 0.         ... 0.         0.         0.        ]\n",
      "KNeighborsClassifier(n_neighbors=25, weights='distance')\n",
      "0.0\n",
      "RandomizedSearch time: 74.2112123966217\n",
      "LR\n"
     ]
    },
    {
     "name": "stderr",
     "output_type": "stream",
     "text": [
      "/home/diramtz/anaconda3/lib/python3.8/site-packages/sklearn/metrics/_classification.py:1221: UndefinedMetricWarning: Precision is ill-defined and being set to 0.0 in labels with no predicted samples. Use `zero_division` parameter to control this behavior.\n",
      "  _warn_prf(average, modifier, msg_start, len(result))\n",
      "/home/diramtz/anaconda3/lib/python3.8/site-packages/sklearn/model_selection/_split.py:670: UserWarning: The least populated class in y has only 2 members, which is less than n_splits=3.\n",
      "  warnings.warn((\"The least populated class in y has only %d\"\n"
     ]
    }
   ],
   "source": [
    "%%time\n",
    "#RandomSearch\n",
    "magic_loop(models, clfs, grid, X_fs, y_sample, search = 0)"
   ]
  },
  {
   "cell_type": "code",
   "execution_count": null,
   "metadata": {},
   "outputs": [],
   "source": []
  }
 ],
 "metadata": {
  "kernelspec": {
   "display_name": "Python 3",
   "language": "python",
   "name": "python3"
  },
  "language_info": {
   "codemirror_mode": {
    "name": "ipython",
    "version": 3
   },
   "file_extension": ".py",
   "mimetype": "text/x-python",
   "name": "python",
   "nbconvert_exporter": "python",
   "pygments_lexer": "ipython3",
   "version": "3.8.3"
  }
 },
 "nbformat": 4,
 "nbformat_minor": 4
}
